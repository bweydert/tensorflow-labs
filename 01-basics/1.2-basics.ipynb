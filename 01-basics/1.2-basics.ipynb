{
 "cells": [
  {
   "cell_type": "markdown",
   "metadata": {},
   "source": [
    "\n",
    "# Lab 2 : Understanding Tensors\n",
    "\n",
    "### Overview\n",
    "We will be running Tensorflow in a single node mode.\n",
    "\n",
    "### Depends On\n",
    "None\n",
    "\n",
    "### Run time\n",
    "20 mins\n",
    "\n",
    "## STEP 0: To Instructor\n",
    "Please go through this lab on 'screen' first.\n",
    "\n",
    "## STEP 1: Login to your Tensorflow node\n",
    "Instructor will provide details\n",
    "\n",
    "## STEP 2: Defining some Constants\n",
    "\n",
    "Let's try to define some constants in tensorflow.  Try defining the following constants\n",
    "\n"
   ]
  },
  {
   "cell_type": "code",
   "execution_count": null,
   "metadata": {},
   "outputs": [],
   "source": [
    "import tensorflow as tf\n",
    "import numpy as np"
   ]
  },
  {
   "cell_type": "markdown",
   "metadata": {},
   "source": [
    "If you see an error in executing the cell, you probably don't have tensorflow installed, or are not using the proper virtual environment.  Please see "
   ]
  },
  {
   "cell_type": "code",
   "execution_count": null,
   "metadata": {
    "collapsed": true
   },
   "outputs": [],
   "source": [
    "# Constant\n",
    "constant1 = tf.constant(1.0, tf.float32)  #constant value: 1.0\n",
    "constant2= tf.constant(2.0, tf.float32)   #constant value: 2.0"
   ]
  },
  {
   "cell_type": "markdown",
   "metadata": {},
   "source": [
    "## STEP 3: Try to see the value of your constants\n",
    "\n",
    "Try seeing the value of your constants, by running the next cell."
   ]
  },
  {
   "cell_type": "code",
   "execution_count": null,
   "metadata": {},
   "outputs": [],
   "source": [
    "constant1"
   ]
  },
  {
   "cell_type": "markdown",
   "metadata": {},
   "source": [
    "Was that what you expected?  Where is value 1.0? \n",
    "\n",
    "You should see the following output\n",
    "\n",
    "```console\n",
    "   <tf.Tensor 'Const:0' shape=() dtype=float32>\n",
    "```\n",
    "\n",
    "It turns out that tensorflow constants don't show up this way.  They will only show up when we run the session.  The session consists of a Directed Acyclic Graph (DAG) of actions.\n",
    "\n",
    "## Step 4: Run the DAG in Session to see the constants"
   ]
  },
  {
   "cell_type": "code",
   "execution_count": null,
   "metadata": {},
   "outputs": [],
   "source": [
    "s = tf.Session()  #Initialize a session\n",
    "s.run([constant1, constant2])  #Pass in a tensor as a vector with 2 const"
   ]
  },
  {
   "cell_type": "markdown",
   "metadata": {},
   "source": [
    "Aha!  There they are.  You should have seen the following.\n",
    "\n",
    "```console\n",
    "[1.0, 2.0]\n",
    "```\n",
    "\n",
    "Congradulations!  You have just run your very first tensorflow program.  Albeit a trivially simple one."
   ]
  },
  {
   "cell_type": "markdown",
   "metadata": {},
   "source": [
    "## Step 5: Use Add() to add constants together\n",
    "\n",
    "Let's try to do an actual operation.  We will use the tf.add() to add constants together.\n",
    "\n",
    "Remember. Nothing will happen until we call run() on our session."
   ]
  },
  {
   "cell_type": "code",
   "execution_count": null,
   "metadata": {},
   "outputs": [],
   "source": [
    "summed = tf.add(constant1, constant2)\n",
    "summed"
   ]
  },
  {
   "cell_type": "code",
   "execution_count": null,
   "metadata": {},
   "outputs": [],
   "source": [
    "s.run(summed)"
   ]
  },
  {
   "cell_type": "markdown",
   "metadata": {},
   "source": [
    "Yes! We just found out that 1+2=3!  Isn't tensorflow amazing? ;-)\n",
    "\n",
    "## Step 6: Use Multiply() to multiply constats together\n",
    "\n",
    "Ok, now it's your turn.  Use what you learned from add() to do a similar operation on multiply()"
   ]
  },
  {
   "cell_type": "code",
   "execution_count": null,
   "metadata": {},
   "outputs": [],
   "source": [
    "# TODO: use Multiply() to multiply the constants together.\n",
    "multiplied = tf.multiply(constant1, constant2)\n",
    "s.run(multiplied)"
   ]
  },
  {
   "cell_type": "markdown",
   "metadata": {},
   "source": [
    "\n",
    "## Step 7: Set up a Parameterized Lambda Function\n",
    "\n",
    "We can set up a parameterized lambda function by using placeholders.  Placeholders are like variables to our funciton.\n"
   ]
  },
  {
   "cell_type": "code",
   "execution_count": null,
   "metadata": {},
   "outputs": [],
   "source": [
    "param1 = tf.placeholder(tf.float32)\n",
    "param2 = tf.placeholder(tf.float32)\n",
    "\n",
    "plus = param1 + param2 \n",
    "s.run(plus, {param1: 1.0, param2: 2.0})"
   ]
  },
  {
   "cell_type": "markdown",
   "metadata": {},
   "source": [
    "## Step 8: Define a variable\n",
    "\n",
    "So far, we have only defined constants.  Constants are values that can never change (immutable). We can set variables to mutable values. These are used in Tensorflow to specify variables.\n",
    "\n",
    "These are used to maintain state in your application."
   ]
  },
  {
   "cell_type": "code",
   "execution_count": null,
   "metadata": {},
   "outputs": [],
   "source": [
    "my_count = tf.get_variable(\"my_count\", dtype=tf.int32, initializer=tf.constant(0))"
   ]
  },
  {
   "cell_type": "code",
   "execution_count": null,
   "metadata": {},
   "outputs": [],
   "source": [
    "my_count"
   ]
  },
  {
   "cell_type": "code",
   "execution_count": null,
   "metadata": {
    "collapsed": true
   },
   "outputs": [],
   "source": []
  }
 ],
 "metadata": {
  "kernelspec": {
   "display_name": "Python 3",
   "language": "python",
   "name": "python3"
  },
  "language_info": {
   "codemirror_mode": {
    "name": "ipython",
    "version": 3
   },
   "file_extension": ".py",
   "mimetype": "text/x-python",
   "name": "python",
   "nbconvert_exporter": "python",
   "pygments_lexer": "ipython3",
   "version": "3.5.4"
  }
 },
 "nbformat": 4,
 "nbformat_minor": 1
}
