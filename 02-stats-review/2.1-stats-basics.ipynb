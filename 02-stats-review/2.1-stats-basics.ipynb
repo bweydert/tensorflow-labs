{
 "cells": [
  {
   "cell_type": "markdown",
   "metadata": {},
   "source": [
    "# Basic Stats\n",
    "Quick intro to stats"
   ]
  },
  {
   "cell_type": "markdown",
   "metadata": {},
   "source": [
    "## Mean and Median"
   ]
  },
  {
   "cell_type": "code",
   "execution_count": null,
   "metadata": {},
   "outputs": [],
   "source": [
    "import numpy as np\n",
    "import pandas as pd\n",
    "import matplotlib.pyplot as plt\n",
    "from scipy import stats\n",
    "\n",
    "a = np.array([5,40,42,45,50,55,60,65,70,400])\n",
    "print(a)\n",
    "\n"
   ]
  },
  {
   "cell_type": "code",
   "execution_count": null,
   "metadata": {},
   "outputs": [],
   "source": [
    "## TODO: calculate mean & median\n",
    "## Hint : np.mean  / np.median\n",
    "print (np.???(a)) # 83.2\n",
    "print (np.???(a)) # 52.5 "
   ]
  },
  {
   "cell_type": "code",
   "execution_count": null,
   "metadata": {},
   "outputs": [],
   "source": [
    "## Trimmed mean of 10%\n",
    "## Hint : stats.trim_mean(a,  0.1)\n",
    "stats.???(a, ???) # 10% # 53.375"
   ]
  },
  {
   "cell_type": "markdown",
   "metadata": {},
   "source": [
    "## Standard Deviation"
   ]
  },
  {
   "cell_type": "code",
   "execution_count": null,
   "metadata": {},
   "outputs": [],
   "source": [
    "import numpy as np\n",
    "import pandas as pd\n",
    "from scipy import stats\n",
    "\n",
    "city1 = np.array([30,32,35,40,45,48,50])\n",
    "city2 = np.array([10,15,20,40,60,65,70])\n",
    "\n",
    "print(city1)\n",
    "print(city2)\n"
   ]
  },
  {
   "cell_type": "code",
   "execution_count": null,
   "metadata": {},
   "outputs": [],
   "source": [
    "###Mean - both are 40\n",
    "print(np.mean(city1))    # 40.0\n",
    "print(np.mean(city2))   # 40.0 \n",
    "\n"
   ]
  },
  {
   "cell_type": "code",
   "execution_count": null,
   "metadata": {},
   "outputs": [],
   "source": [
    "## Variance\n",
    "## Hint : np.var\n",
    "\n",
    "print(np.???(city1))   # 54.0\n",
    "print(np.???(city2))   #  550.0  <- much larger than var(city1)"
   ]
  },
  {
   "cell_type": "code",
   "execution_count": null,
   "metadata": {},
   "outputs": [],
   "source": [
    "## Standard Deviation\n",
    "## Hint : np.std()\n",
    "\n",
    "print(np.???(city1))    #  7.34846922835\n",
    "print(np.???(city2))   # 23.4520787991  <-- larger than sd(city1)\n"
   ]
  },
  {
   "cell_type": "markdown",
   "metadata": {},
   "source": [
    "## Quartiles / Percentages"
   ]
  },
  {
   "cell_type": "code",
   "execution_count": null,
   "metadata": {},
   "outputs": [],
   "source": [
    "salaries = np.array([5,40,42,45,50,55,60,65,70,400])"
   ]
  },
  {
   "cell_type": "code",
   "execution_count": null,
   "metadata": {},
   "outputs": [],
   "source": [
    "## Calculate standard percentiles : 25% (q1), 50% (q2), 75% (q3)\n",
    "## np.percentile(a, [25,50,75])\n",
    "print (np.???(salaries, [??, ??, ??])) "
   ]
  },
  {
   "cell_type": "code",
   "execution_count": null,
   "metadata": {},
   "outputs": [],
   "source": [
    "## Find out 90 percentile\n",
    "np.percentile(salaries, ??)"
   ]
  },
  {
   "cell_type": "markdown",
   "metadata": {},
   "source": [
    "##  Correlation"
   ]
  },
  {
   "cell_type": "code",
   "execution_count": null,
   "metadata": {},
   "outputs": [],
   "source": [
    "import numpy as np\n",
    "import pandas as pd\n",
    "\n",
    "bills = np.array([50,30,60,40,65,20,10,15,25,35])\n",
    "tips= np.array([12,7,13,8,15,5,2,2,3,4])\n",
    "\n",
    "print(bills)\n",
    "print(tips)"
   ]
  },
  {
   "cell_type": "code",
   "execution_count": null,
   "metadata": {},
   "outputs": [],
   "source": [
    "## Correlation\n",
    "## Hint : np.corrcoef\n",
    "np.???(tips,bills)\n",
    "\n",
    "## Question : is there a strong correlation between bill amount and tip amount?"
   ]
  },
  {
   "cell_type": "markdown",
   "metadata": {
    "collapsed": true
   },
   "source": [
    "## Logistic Function\n",
    "\n",
    "One very useful function is the logistic or sigmoid function.  It is often used for logistic regression.  It is designed to \"squash\" the input into a number between 0 and 1 (a probability)\n",
    "\n",
    "$$ h_ \\theta (x) =  \\frac{\\mathrm{1} }{\\mathrm{1} + e^- \\theta^Tx }  $$ "
   ]
  },
  {
   "cell_type": "code",
   "execution_count": null,
   "metadata": {},
   "outputs": [],
   "source": [
    "\n",
    "# plot sigmoid curve\n",
    "x = np.arange(-10.,10.,1.)\n",
    "b = 0 # intercept\n",
    "m = 1 # slope\n",
    "sigmoid = lambda x,b,m: np.exp((b + m*x)) / (1 + np.exp((b + m*x)))\n",
    "y = sigmoid(x,b,m)\n",
    "\n",
    "## hint : scatter (x,y)\n",
    "plt.scatter(x,y) \n",
    "plt.title(\"Sigmoid (Logistic) Function\")\n",
    "plt.show()"
   ]
  },
  {
   "cell_type": "code",
   "execution_count": null,
   "metadata": {},
   "outputs": [],
   "source": [
    "## TODO: Call Sigmoid on the following values: [1, 10, 100, 1000]\n",
    "\n",
    "## What is the result?  Is it ever greater than 1?"
   ]
  }
 ],
 "metadata": {
  "kernelspec": {
   "display_name": "Python 3",
   "language": "python",
   "name": "python3"
  },
  "language_info": {
   "codemirror_mode": {
    "name": "ipython",
    "version": 3
   },
   "file_extension": ".py",
   "mimetype": "text/x-python",
   "name": "python",
   "nbconvert_exporter": "python",
   "pygments_lexer": "ipython3",
   "version": "3.6.6"
  }
 },
 "nbformat": 4,
 "nbformat_minor": 2
}
