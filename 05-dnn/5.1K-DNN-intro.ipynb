{
 "cells": [
  {
   "cell_type": "markdown",
   "metadata": {},
   "source": [
    "# Lab 5.1K: Training DNN with Keras API for MNIST Dataset\n",
    "\n",
    "In this lab we we will use the Keras API for the MNIST Dataset"
   ]
  },
  {
   "cell_type": "code",
   "execution_count": 1,
   "metadata": {},
   "outputs": [
    {
     "name": "stderr",
     "output_type": "stream",
     "text": [
      "'rm' is not recognized as an internal or external command,\n",
      "operable program or batch file.\n"
     ]
    }
   ],
   "source": [
    "import tensorflow as tf\n",
    "import datetime\n",
    "from IPython.display import Image\n",
    "from tensorflow.python.keras.callbacks import TensorBoard\n",
    "%matplotlib inline"
   ]
  },
  {
   "cell_type": "code",
   "execution_count": 2,
   "metadata": {},
   "outputs": [],
   "source": [
    "# Install the package for running tensorboard on google colaboration\n",
    "try:\n",
    "    import google.colab\n",
    "    IN_COLAB = True\n",
    "except:\n",
    "    IN_COLAB = False\n",
    "if IN_COLAB == True:\n",
    "    from tensorboardcolab import *\n",
    "    !pip install -U tensorboardcolab\n",
    "    !pip install -q tf-nightly-2.0-preview\n",
    "# Load the TensorBoard notebook extension\n",
    "    %load_ext tensorboard"
   ]
  },
  {
   "cell_type": "markdown",
   "metadata": {},
   "source": [
    "### Step 1: Load MNIST Data"
   ]
  },
  {
   "cell_type": "code",
   "execution_count": 3,
   "metadata": {},
   "outputs": [],
   "source": [
    "mnist = tf.keras.datasets.mnist\n",
    "\n",
    "(x_train, y_train),(x_test, y_test) = mnist.load_data()\n",
    "x_train, x_test = x_train / 255.0, x_test / 255.0  # Standardize to unit norm 0.0 to 1.0"
   ]
  },
  {
   "cell_type": "markdown",
   "metadata": {},
   "source": [
    "### Step 2: Define the Model\n",
    "\n",
    "The model has an input layer, one hidden layer, and an output layer.\n",
    "\n",
    "Layers:\n",
    "\n",
    " * Input Layer: Implemented with `Flatten`. Takes the 28 x 28 image and creates a 1 x 784 vector as input.\n",
    " * Hidden Layer: Implemented with `Dense`. Has 512 weighted neurons with ReLU activation\n",
    " * Output Layer: Implemented with `Dense`. Has 10 neurons as output, because of 10 classes. Uses softmax activation."
   ]
  },
  {
   "cell_type": "code",
   "execution_count": 4,
   "metadata": {},
   "outputs": [
    {
     "name": "stdout",
     "output_type": "stream",
     "text": [
      "WARNING:tensorflow:From C:\\Users\\Amir\\AppData\\Local\\conda\\conda\\envs\\tensorflow\\lib\\site-packages\\tensorflow\\python\\ops\\resource_variable_ops.py:435: colocate_with (from tensorflow.python.framework.ops) is deprecated and will be removed in a future version.\n",
      "Instructions for updating:\n",
      "Colocations handled automatically by placer.\n"
     ]
    }
   ],
   "source": [
    "\n",
    "model = tf.keras.models.Sequential([\n",
    "  tf.keras.layers.Flatten(input_shape=(28, 28)),\n",
    "  tf.keras.layers.Dense(512, activation=tf.nn.relu),\n",
    "  tf.keras.layers.Dense(10, activation=tf.nn.softmax)\n",
    "])\n"
   ]
  },
  {
   "cell_type": "markdown",
   "metadata": {},
   "source": [
    "### Step 3: Compile the Model\n",
    "    \n",
    "In `tf.keras` the model should be compiled.  We need to define the following:\n",
    "\n",
    "* optimzer used (in this case Adam Optimzation) \n",
    "* the loss function. categorical cross entropy in this case\n",
    "* Metric(s), Accuracy here. This will be used for cross validation.\n",
    "\n",
    "Note that training will NOT occur until we call `model.fit()`\n",
    "    "
   ]
  },
  {
   "cell_type": "code",
   "execution_count": 6,
   "metadata": {},
   "outputs": [],
   "source": [
    "model.compile(optimizer='adam',\n",
    "              loss='sparse_categorical_crossentropy',\n",
    "              metrics=['accuracy'])\n",
    "\n"
   ]
  },
  {
   "cell_type": "markdown",
   "metadata": {},
   "source": [
    "### Step 4: Train (Fit) the Model\n",
    "\n",
    "Here we will fit the model with our X and Y values. \n",
    "\n",
    "**TODO** Enter 5 for the number of Epochs."
   ]
  },
  {
   "cell_type": "code",
   "execution_count": 7,
   "metadata": {},
   "outputs": [
    {
     "name": "stdout",
     "output_type": "stream",
     "text": [
      "Train on 60000 samples, validate on 10000 samples\n",
      "Epoch 1/5\n",
      "60000/60000 [==============================] - 48s 793us/sample - loss: 0.2043 - acc: 0.9405 - val_loss: 0.1112 - val_acc: 0.9651\n",
      "Epoch 2/5\n",
      "60000/60000 [==============================] - 46s 764us/sample - loss: 0.0805 - acc: 0.9760 - val_loss: 0.0896 - val_acc: 0.9717\n",
      "Epoch 3/5\n",
      "60000/60000 [==============================] - 46s 759us/sample - loss: 0.0522 - acc: 0.9838 - val_loss: 0.0720 - val_acc: 0.9774\n",
      "Epoch 4/5\n",
      "60000/60000 [==============================] - 46s 770us/sample - loss: 0.0351 - acc: 0.9883 - val_loss: 0.0724 - val_acc: 0.9786\n",
      "Epoch 5/5\n",
      "60000/60000 [==============================] - 47s 781us/sample - loss: 0.0264 - acc: 0.9915 - val_loss: 0.0697 - val_acc: 0.9797\n"
     ]
    }
   ],
   "source": [
    "if IN_COLAB == True:\n",
    "    log_dir=\"logs/fit/\" + datetime.datetime.now().strftime(\"%Y%m%d-%H%M%S\")\n",
    "    tensorboard_callback = tf.keras.callbacks.TensorBoard(log_dir=log_dir, histogram_freq=1)\n",
    "    model.fit(x_train, y_train, epochs=5,validation_data=(x_test, y_test), callbacks=[tensorboard_callback])\n",
    "else:\n",
    "    tensorboard = TensorBoard(log_dir='/tmp/tensorflow_logs/example', histogram_freq=1)\n",
    "    model.fit(x_train, y_train, epochs=5,validation_data=(x_test, y_test), callbacks=[tensorboard])\n"
   ]
  },
  {
   "cell_type": "markdown",
   "metadata": {},
   "source": [
    "###  Step 5: Evaluate the Model\n",
    "\n",
    "Here we will evaluate the model. Accuracy is the Metric Used.\n",
    "\n",
    "Note that training validation accuracy is considerably better than the test accuracy. This may indicate some overfitting has occurred."
   ]
  },
  {
   "cell_type": "code",
   "execution_count": 8,
   "metadata": {
    "scrolled": true
   },
   "outputs": [
    {
     "name": "stdout",
     "output_type": "stream",
     "text": [
      "10000/10000 [==============================] - 1s 114us/sample - loss: 0.0697 - acc: 0.9797\n"
     ]
    },
    {
     "data": {
      "text/plain": [
       "[0.06966140577996266, 0.9797]"
      ]
     },
     "execution_count": 8,
     "metadata": {},
     "output_type": "execute_result"
    }
   ],
   "source": [
    "model.evaluate(x_test, y_test)"
   ]
  },
  {
   "cell_type": "code",
   "execution_count": null,
   "metadata": {},
   "outputs": [],
   "source": [
    "#Automatic loading of tensorboard in Colab\n",
    "if IN_COLAB:\n",
    "    %tensorboard --logdir logs/fit"
   ]
  },
  {
   "cell_type": "markdown",
   "metadata": {},
   "source": [
    "### Step 7: Improvement: Add Dropout\n",
    "\n",
    "The model may tend to overfit unless we take some action. Adding a Dropout layer may help.\n",
    "\n",
    "```python\n",
    "  tf.keras.layers.Dense(512, activation=tf.nn.relu), # Keep this\n",
    "  tf.keras.layers.Dropout(0.2),  # <-- ADD THIS!\n",
    "```\n",
    "\n",
    "Does it help? Try it!  Pay attention to validation (training) vs final test. Are they closer?  Did it get better final accuracy (in this case) or not?\n"
   ]
  },
  {
   "cell_type": "markdown",
   "metadata": {},
   "source": [
    "### Now we run the TensorBaord\n",
    "#### Local:\n",
    "\n",
    "Now run the following command on a bash\n",
    "\n",
    "```bash\n",
    "$ tensorboard --logdir=/tmp/tensorflow_logs\n",
    "```\n",
    "Then open the browser(Chrome) and insert this address\n",
    "\n",
    "```bash\n",
    "localhost:6006\n",
    "```"
   ]
  },
  {
   "cell_type": "code",
   "execution_count": null,
   "metadata": {},
   "outputs": [],
   "source": []
  }
 ],
 "metadata": {
  "kernelspec": {
   "display_name": "Python 3",
   "language": "python",
   "name": "python3"
  },
  "language_info": {
   "codemirror_mode": {
    "name": "ipython",
    "version": 3
   },
   "file_extension": ".py",
   "mimetype": "text/x-python",
   "name": "python",
   "nbconvert_exporter": "python",
   "pygments_lexer": "ipython3",
   "version": "3.7.3"
  }
 },
 "nbformat": 4,
 "nbformat_minor": 2
}
