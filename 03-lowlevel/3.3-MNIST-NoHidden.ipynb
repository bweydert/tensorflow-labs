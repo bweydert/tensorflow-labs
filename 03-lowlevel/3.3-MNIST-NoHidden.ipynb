{
 "cells": [
  {
   "cell_type": "markdown",
   "metadata": {
    "colab_type": "text",
    "id": "EATlrMtZ0omq"
   },
   "source": [
    "## Linear Model for MNIST dataset\n",
    "\n",
    "We are going to do a linear model for the MNIST Dataset."
   ]
  },
  {
   "cell_type": "code",
   "execution_count": null,
   "metadata": {
    "colab": {},
    "colab_type": "code",
    "id": "8b0XJSPH0ooD"
   },
   "outputs": [],
   "source": [
    "import tensorflow as tf\n",
    "import numpy as np\n",
    "import matplotlib.pyplot as plt\n",
    "tf.summary.FileWriterCache.clear()"
   ]
  },
  {
   "cell_type": "code",
   "execution_count": null,
   "metadata": {
    "colab": {
     "base_uri": "https://localhost:8080/",
     "height": 90
    },
    "colab_type": "code",
    "id": "sfq0XAMG0ooq",
    "outputId": "d69524e6-1adc-4ea5-b726-1bcb42d00400"
   },
   "outputs": [],
   "source": [
    "try:\n",
    "    import google.colab\n",
    "    IN_COLAB = True\n",
    "except:\n",
    "    IN_COLAB = False\n",
    "if IN_COLAB == True:\n",
    "    !pip install -U tensorboardcolab\n",
    "    from tensorboardcolab import *\n",
    "    tbc=TensorBoardColab()\n"
   ]
  },
  {
   "cell_type": "markdown",
   "metadata": {
    "colab_type": "text",
    "id": "3GUZdmjh0opD"
   },
   "source": [
    "## Step 1: Load the MNIST data"
   ]
  },
  {
   "cell_type": "code",
   "execution_count": null,
   "metadata": {
    "colab": {
     "base_uri": "https://localhost:8080/",
     "height": 570
    },
    "colab_type": "code",
    "id": "5ZarY2KQ0opK",
    "outputId": "313e8ee6-facf-4d39-87c6-d2f1eeb7e13f",
    "scrolled": false
   },
   "outputs": [],
   "source": [
    "#Load Mnist data\n",
    "\n",
    "from tensorflow.examples.tutorials.mnist import input_data\n",
    "mnist = input_data.read_data_sets(\"MNIST_data/\", one_hot=True)\n"
   ]
  },
  {
   "cell_type": "markdown",
   "metadata": {
    "colab_type": "text",
    "id": "GmnjwDLS0opZ"
   },
   "source": [
    "Now let's take a look at one of these downloaded images:"
   ]
  },
  {
   "cell_type": "code",
   "execution_count": null,
   "metadata": {
    "colab": {
     "base_uri": "https://localhost:8080/",
     "height": 365
    },
    "colab_type": "code",
    "id": "_mzFlyLv0opb",
    "outputId": "9e568e29-e75c-4f4f-c30b-a387231fcee5"
   },
   "outputs": [],
   "source": [
    "plt.imshow(mnist.train.images[1].reshape([28,28]))\n",
    "\n",
    "#TODO: Try plotting another image\n",
    "\n"
   ]
  },
  {
   "cell_type": "markdown",
   "metadata": {
    "colab_type": "text",
    "id": "J1FMOkzf0opm"
   },
   "source": [
    "## Step 2: Define our model and equation.\n",
    "\n",
    "Our formula is:\n",
    "\n",
    "$$y = Wx + B$$\n",
    "\n",
    "Straight from your algebra course.  Of course, in this case our input is a 28 by 28 matrix, which we will flatten in into a vector of 784.  \n",
    "\n",
    "Each variable is going to be one-hot-encoded, to be a one-hot array of 10. Why 10? 10 possible values in the classification.\n",
    "\n",
    "So our weight is going to be a 784 x 10 matrix, and the bias will be a vector of size 10.\n",
    "\n",
    "The placeholder will have a initial param of None so we can feed all the training samples."
   ]
  },
  {
   "cell_type": "code",
   "execution_count": null,
   "metadata": {
    "colab": {
     "base_uri": "https://localhost:8080/",
     "height": 92
    },
    "colab_type": "code",
    "id": "kEjbgNxe0opr",
    "outputId": "3e7aa7b8-7b30-4df2-ca47-ac6e32ab3abc"
   },
   "outputs": [],
   "source": [
    "#Define Variable placeholders\n",
    "\n",
    "x = tf.placeholder(tf.float32, [None, 784], name='Input')\n",
    "W = tf.Variable(tf.zeros([784, 10]), name='Weight')\n",
    "b = tf.Variable(tf.zeros([10]), name='Bias')\n",
    "logs_path = '/tmp/tensorflow_logs/example/'"
   ]
  },
  {
   "cell_type": "code",
   "execution_count": null,
   "metadata": {
    "colab": {},
    "colab_type": "code",
    "id": "v4y1-via0op7"
   },
   "outputs": [],
   "source": [
    "#Set up softmax regression model\n",
    "with tf.name_scope('model'):\n",
    "    y = tf.nn.softmax(tf.matmul(x, W) + b)\n"
   ]
  },
  {
   "cell_type": "markdown",
   "metadata": {
    "colab_type": "text",
    "id": "WOmA7b1J0oqP"
   },
   "source": [
    "## Step 3: Train the Model\n",
    "\n",
    "We will define our y_ which is the placeholder for our labels.\n",
    "\n",
    "We will also define our cross-entropy loss which is:\n",
    "\n",
    "$$H(p,q) = -\\sum_{x\\in\\mathcal{X}} p(x)\\, \\log q(x)$$\n",
    "\n",
    "\n",
    "**=> TODO: Set learning Rate to 0.5**"
   ]
  },
  {
   "cell_type": "code",
   "execution_count": null,
   "metadata": {
    "colab": {
     "base_uri": "https://localhost:8080/",
     "height": 92
    },
    "colab_type": "code",
    "id": "5aCn7rnH0oqU",
    "outputId": "77430924-4523-4eb9-91c6-9d7e70a9971f"
   },
   "outputs": [],
   "source": [
    "# Train model\n",
    "y_ = tf.placeholder(tf.float32, [None, 10])\n",
    "\n",
    "with tf.name_scope('Correctness'):\n",
    "    correct_prediction = tf.equal(tf.argmax(y,1), tf.argmax(y_,1))\n",
    "    \n",
    "with tf.name_scope('Accuracy'):\n",
    "    accuracy = tf.reduce_mean(tf.cast(correct_prediction, tf.float32))\n",
    "\n",
    "# Add summaries to collect information needed for tensorboard\n",
    "tf.summary.histogram(\"Weight\", W)\n",
    "tf.summary.histogram(\"Bias\", b)\n",
    "tf.summary.scalar(\"acc\", accuracy)\n",
    "merge=tf.summary.merge_all()\n",
    "\n",
    "cross_entropy = tf.reduce_mean(-tf.reduce_sum(y_ * tf.log(y), reduction_indices=[1]))\n",
    "\n",
    "with tf.name_scope('SGD'):\n",
    "    train_step = tf.train.GradientDescentOptimizer(???).minimize(cross_entropy)\n",
    "    \n",
    "sess = tf.InteractiveSession()\n",
    "tf.global_variables_initializer().run()\n",
    "\n",
    "# Write summaries into the file\n",
    "\n",
    "summary_writer = tf.summary.FileWriter(logs_path, graph=tf.get_default_graph()) #write the logs \n"
   ]
  },
  {
   "cell_type": "markdown",
   "metadata": {
    "colab_type": "text",
    "id": "DeNvcoZg0oqc"
   },
   "source": [
    "**=> TODO: Set the Number of epochs to 1000 **\n"
   ]
  },
  {
   "cell_type": "code",
   "execution_count": null,
   "metadata": {
    "colab": {},
    "colab_type": "code",
    "id": "JsWPfAFs0oqf"
   },
   "outputs": [],
   "source": [
    "\n",
    "for _ in range(???):\n",
    "  batch_xs, batch_ys = mnist.train.next_batch(100)\n",
    "\n",
    "\n",
    "  nothing, summary = sess.run([train_step,merge], feed_dict={x: batch_xs, y_: batch_ys})\n",
    "  \n",
    "  summary_writer.add_summary(summary, _ )\n",
    "\n",
    "try:\n",
    "    import google.colab\n",
    "    IN_COLAB = True\n",
    "except:\n",
    "    IN_COLAB = False\n",
    "if IN_COLAB == True:\n",
    "    summary_writer = tbc.get_writer()# saving data on google colab\n",
    "    summary_writer.add_graph(sess.graph)\n",
    "  \n"
   ]
  },
  {
   "cell_type": "markdown",
   "metadata": {
    "colab_type": "text",
    "id": "t0ENKI5Q0oql"
   },
   "source": [
    "## Step 4: Get our Accuracy\n",
    "\n",
    "The accuracy is the number correct over the total. Let's get that."
   ]
  },
  {
   "cell_type": "code",
   "execution_count": null,
   "metadata": {
    "colab": {
     "base_uri": "https://localhost:8080/",
     "height": 35
    },
    "colab_type": "code",
    "id": "lzaLA76U0oqn",
    "outputId": "4d3d5bad-3ac7-463a-dd1d-e44d4a75c2cf"
   },
   "outputs": [],
   "source": [
    "# Evaluate Model\n",
    "\n",
    "\n",
    "print(sess.run(accuracy, feed_dict={x: mnist.test.images, y_: mnist.test.labels}))\n"
   ]
  },
  {
   "cell_type": "markdown",
   "metadata": {
    "colab_type": "text",
    "id": "8s8o5npf0oq0"
   },
   "source": [
    "## Step 5: Look at our Graph"
   ]
  },
  {
   "cell_type": "code",
   "execution_count": null,
   "metadata": {
    "colab": {},
    "colab_type": "code",
    "id": "aINBuXHY0oq2"
   },
   "outputs": [],
   "source": [
    "## Step 5: Look at our Graph\n",
    "# Run this \"helper\" code to visualize the session graph.\n",
    "\n",
    "from IPython.display import clear_output, Image, display, HTML\n",
    "\n",
    "def strip_consts(graph_def, max_const_size=32):\n",
    "    \"\"\"Strip large constant values from graph_def.\"\"\"\n",
    "    strip_def = tf.GraphDef()\n",
    "    for n0 in graph_def.node:\n",
    "        n = strip_def.node.add() \n",
    "        n.MergeFrom(n0)\n",
    "        if n.op == 'Const':\n",
    "            tensor = n.attr['value'].tensor\n",
    "            size = len(tensor.tensor_content)\n",
    "            if size > max_const_size:\n",
    "                tensor.tensor_content = \"b<stripped %d bytes>\"%size\n",
    "    return strip_def\n",
    "\n",
    "def show_graph(graph_def, max_const_size=32):\n",
    "    \"\"\"Visualize TensorFlow graph.\"\"\"\n",
    "    if hasattr(graph_def, 'as_graph_def'):\n",
    "        graph_def = graph_def.as_graph_def()\n",
    "    strip_def = strip_consts(graph_def, max_const_size=max_const_size)\n",
    "    code = \"\"\"\n",
    "        <script>\n",
    "          function load() {{\n",
    "            document.getElementById(\"{id}\").pbtxt = {data};\n",
    "          }}\n",
    "        </script>\n",
    "        <link rel=\"import\" href=\"https://tensorboard.appspot.com/tf-graph-basic.build.html\" onload=load()>\n",
    "        <div style=\"height:600px\">\n",
    "          <tf-graph-basic id=\"{id}\"></tf-graph-basic>\n",
    "        </div>\n",
    "    \"\"\".format(data=repr(str(strip_def)), id='graph'+str(np.random.rand()))\n",
    "\n",
    "    iframe = \"\"\"\n",
    "        <iframe seamless style=\"width:1200px;height:620px;border:0\" srcdoc=\"{}\"></iframe>\n",
    "    \"\"\".format(code.replace('\"', '&quot;'))\n",
    "    display(HTML(iframe))"
   ]
  },
  {
   "cell_type": "code",
   "execution_count": null,
   "metadata": {
    "colab": {
     "base_uri": "https://localhost:8080/",
     "height": 641
    },
    "colab_type": "code",
    "id": "MuEJCPh60oq_",
    "outputId": "4f1cdbc7-4db0-4e45-e0c6-605d96b86189"
   },
   "outputs": [],
   "source": [
    "show_graph(sess.graph)\n"
   ]
  },
  {
   "cell_type": "markdown",
   "metadata": {},
   "source": [
    "### Now we run the TensorBaord\n",
    "#### Local:\n",
    "\n",
    "Now run the following command on a bash\n",
    "\n",
    "```bash\n",
    "$ tensorboard --logdir=/tmp/tensorflow_logs\n",
    "```\n",
    "Then open the browser(Chrome) and insert this address\n",
    "\n",
    "```bash\n",
    "localhost:6006\n",
    "```\n",
    "\n",
    "#### Google colab\n",
    "\n",
    "\n",
    "\n",
    "Click on the link you had got at the first step\n",
    "\n",
    "![](../images/tb_colab.png)"
   ]
  },
  {
   "cell_type": "code",
   "execution_count": null,
   "metadata": {},
   "outputs": [],
   "source": []
  }
 ],
 "metadata": {
  "colab": {
   "collapsed_sections": [],
   "name": "3.3-MNIST-NoHidden.ipynb",
   "provenance": [],
   "version": "0.3.2"
  },
  "kernelspec": {
   "display_name": "Python 3",
   "language": "python",
   "name": "python3"
  },
  "language_info": {
   "codemirror_mode": {
    "name": "ipython",
    "version": 3
   },
   "file_extension": ".py",
   "mimetype": "text/x-python",
   "name": "python",
   "nbconvert_exporter": "python",
   "pygments_lexer": "ipython3",
   "version": "3.7.3"
  }
 },
 "nbformat": 4,
 "nbformat_minor": 1
}
