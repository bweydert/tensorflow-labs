{
  "nbformat": 4,
  "nbformat_minor": 0,
  "metadata": {
    "colab": {
      "name": "3.2-lr-tips.ipynb",
      "version": "0.3.2",
      "provenance": [],
      "collapsed_sections": []
    },
    "kernelspec": {
      "display_name": "Python 3",
      "language": "python",
      "name": "python3"
    }
  },
  "cells": [
    {
      "metadata": {
        "id": "TVKbYbtllutI",
        "colab_type": "text"
      },
      "cell_type": "markdown",
      "source": [
        "<link rel='stylesheet' href='../assets/css/main.css'/>\n",
        "\n",
        "[<< back to main index](../README.md)\n",
        "\n",
        "# Linear Regression in using Tensorflow \n",
        "\n",
        "### Overview\n",
        "Instructor to demo this on screen.\n",
        " \n",
        "### Builds on\n",
        "None\n",
        "\n",
        "### Run time\n",
        "approx. 20-30 minutes\n",
        "\n",
        "### Notes\n",
        "\n",
        "We can do linear regression with ordinary. "
      ]
    },
    {
      "metadata": {
        "id": "EVaT7D5NlutO",
        "colab_type": "code",
        "colab": {}
      },
      "cell_type": "code",
      "source": [
        "# Install the package for running tensorboard on google colaboration\n",
        "!pip install -U tensorboardcolab"
      ],
      "execution_count": 0,
      "outputs": []
    },
    {
      "metadata": {
        "id": "50Pzsd7Uluta",
        "colab_type": "code",
        "colab": {
          "base_uri": "https://localhost:8080/",
          "height": 90
        },
        "outputId": "b54ed23b-d36e-4c42-de22-db676fd1392b"
      },
      "cell_type": "code",
      "source": [
        "%matplotlib inline\n",
        "\n",
        "import numpy as np\n",
        "import pandas as pd\n",
        "from scipy import stats\n",
        "import matplotlib.pyplot as plt\n",
        "import tensorflow as tf\n",
        "\n",
        "try:\n",
        "  import google.colab\n",
        "  IN_COLAB = True\n",
        "except:\n",
        "  IN_COLAB = False\n",
        "if IN_COLAB == True:\n",
        "  from tensorboardcolab import *\n",
        "  tbc=TensorBoardColab()"
      ],
      "execution_count": 1,
      "outputs": [
        {
          "output_type": "stream",
          "text": [
            "Using TensorFlow backend.\n"
          ],
          "name": "stderr"
        },
        {
          "output_type": "stream",
          "text": [
            "Wait for 8 seconds...\n",
            "TensorBoard link:\n",
            "http://d05f4040.ngrok.io\n"
          ],
          "name": "stdout"
        }
      ]
    },
    {
      "metadata": {
        "id": "Uz8biICGlutj",
        "colab_type": "text"
      },
      "cell_type": "markdown",
      "source": [
        "## Example : Tips\n",
        "Here is our tip data.  This shows 10 observations of bill with tip amounts."
      ]
    },
    {
      "metadata": {
        "id": "Bm2-ugOLlutm",
        "colab_type": "text"
      },
      "cell_type": "markdown",
      "source": [
        "| bill | tip | \n",
        "|------|-----| \n",
        "| 50   | 12  | \n",
        "| 30   | 7   | \n",
        "| 60   | 13  | \n",
        "| 40   | 8   | \n",
        "| 65   | 15  | \n",
        "| 20   | 5   | \n",
        "| 10   | 2   | \n",
        "| 15   | 2   | \n",
        "| 25   | 3   | \n",
        "| 35   | 4   | "
      ]
    },
    {
      "metadata": {
        "id": "0Do1udoOlutq",
        "colab_type": "text"
      },
      "cell_type": "markdown",
      "source": [
        "## Step 1: Let's create a Pandas dataframe with the data\n"
      ]
    },
    {
      "metadata": {
        "attributes": {
          "classes": [
            "R"
          ],
          "id": ""
        },
        "id": "R6sKCeDblutt",
        "colab_type": "code",
        "colab": {
          "base_uri": "https://localhost:8080/",
          "height": 363
        },
        "outputId": "472b0cc1-f8dc-4e44-e1ad-bc999fabac4a"
      },
      "cell_type": "code",
      "source": [
        "tip_data = pd.DataFrame({'bill' : [50.00, 30.00, 60.00, 40.00, 65.00, 20.00, 10.00, 15.00, 25.00, 35.00],\n",
        "              'tip' : [12.00, 7.00, 13.00, 8.00, 15.00, 5.00, 2.00, 2.00, 3.00, 4.00]\n",
        "             })\n",
        "\n",
        "tip_data\n"
      ],
      "execution_count": 2,
      "outputs": [
        {
          "output_type": "execute_result",
          "data": {
            "text/html": [
              "<div>\n",
              "<style scoped>\n",
              "    .dataframe tbody tr th:only-of-type {\n",
              "        vertical-align: middle;\n",
              "    }\n",
              "\n",
              "    .dataframe tbody tr th {\n",
              "        vertical-align: top;\n",
              "    }\n",
              "\n",
              "    .dataframe thead th {\n",
              "        text-align: right;\n",
              "    }\n",
              "</style>\n",
              "<table border=\"1\" class=\"dataframe\">\n",
              "  <thead>\n",
              "    <tr style=\"text-align: right;\">\n",
              "      <th></th>\n",
              "      <th>bill</th>\n",
              "      <th>tip</th>\n",
              "    </tr>\n",
              "  </thead>\n",
              "  <tbody>\n",
              "    <tr>\n",
              "      <th>0</th>\n",
              "      <td>50.0</td>\n",
              "      <td>12.0</td>\n",
              "    </tr>\n",
              "    <tr>\n",
              "      <th>1</th>\n",
              "      <td>30.0</td>\n",
              "      <td>7.0</td>\n",
              "    </tr>\n",
              "    <tr>\n",
              "      <th>2</th>\n",
              "      <td>60.0</td>\n",
              "      <td>13.0</td>\n",
              "    </tr>\n",
              "    <tr>\n",
              "      <th>3</th>\n",
              "      <td>40.0</td>\n",
              "      <td>8.0</td>\n",
              "    </tr>\n",
              "    <tr>\n",
              "      <th>4</th>\n",
              "      <td>65.0</td>\n",
              "      <td>15.0</td>\n",
              "    </tr>\n",
              "    <tr>\n",
              "      <th>5</th>\n",
              "      <td>20.0</td>\n",
              "      <td>5.0</td>\n",
              "    </tr>\n",
              "    <tr>\n",
              "      <th>6</th>\n",
              "      <td>10.0</td>\n",
              "      <td>2.0</td>\n",
              "    </tr>\n",
              "    <tr>\n",
              "      <th>7</th>\n",
              "      <td>15.0</td>\n",
              "      <td>2.0</td>\n",
              "    </tr>\n",
              "    <tr>\n",
              "      <th>8</th>\n",
              "      <td>25.0</td>\n",
              "      <td>3.0</td>\n",
              "    </tr>\n",
              "    <tr>\n",
              "      <th>9</th>\n",
              "      <td>35.0</td>\n",
              "      <td>4.0</td>\n",
              "    </tr>\n",
              "  </tbody>\n",
              "</table>\n",
              "</div>"
            ],
            "text/plain": [
              "   bill   tip\n",
              "0  50.0  12.0\n",
              "1  30.0   7.0\n",
              "2  60.0  13.0\n",
              "3  40.0   8.0\n",
              "4  65.0  15.0\n",
              "5  20.0   5.0\n",
              "6  10.0   2.0\n",
              "7  15.0   2.0\n",
              "8  25.0   3.0\n",
              "9  35.0   4.0"
            ]
          },
          "metadata": {
            "tags": []
          },
          "execution_count": 2
        }
      ]
    },
    {
      "metadata": {
        "id": "NrMI2Qxvlut4",
        "colab_type": "text"
      },
      "cell_type": "markdown",
      "source": [
        "## Step 2: Let's do a quick plot of the data\n",
        "\n",
        "Let us use matplotlib to do a quick scatter plot of the data.\n",
        "\n",
        "**=>TODO: plot the bill (X-axis), versus the tip (Y-axis)**"
      ]
    },
    {
      "metadata": {
        "scrolled": true,
        "id": "V01tvEb2lut6",
        "colab_type": "code",
        "colab": {
          "base_uri": "https://localhost:8080/",
          "height": 279
        },
        "outputId": "8962e8d1-6482-49d7-ccbd-ae9c8c62dd25"
      },
      "cell_type": "code",
      "source": [
        "plt.scatter(tip_data.bill, tip_data.tip)\n",
        "plt.ylabel('tip')\n",
        "plt.xlabel('bill')\n",
        "plt.show()"
      ],
      "execution_count": 3,
      "outputs": [
        {
          "output_type": "display_data",
          "data": {
            "image/png": "[encoded data removed]",
            "text/plain": [
              "<Figure size 432x288 with 1 Axes>"
            ]
          },
          "metadata": {
            "tags": []
          }
        }
      ]
    },
    {
      "metadata": {
        "id": "lO2iyKGbluuD",
        "colab_type": "code",
        "colab": {
          "base_uri": "https://localhost:8080/",
          "height": 54
        },
        "outputId": "58e47ea8-fd93-401c-d3ac-2fed2550f9c0"
      },
      "cell_type": "code",
      "source": [
        "x = tip_data['bill'].values\n",
        "y = tip_data['tip'].values\n",
        "print('bill = ' + str(x))\n",
        "print('tip = ' + str(y))"
      ],
      "execution_count": 4,
      "outputs": [
        {
          "output_type": "stream",
          "text": [
            "bill = [50. 30. 60. 40. 65. 20. 10. 15. 25. 35.]\n",
            "tip = [12.  7. 13.  8. 15.  5.  2.  2.  3.  4.]\n"
          ],
          "name": "stdout"
        }
      ]
    },
    {
      "metadata": {
        "id": "zr2wrrsVluuP",
        "colab_type": "text"
      },
      "cell_type": "markdown",
      "source": [
        "## Step 3: Let's set up our TF Linear Regression\n",
        "\n",
        "We'll set up the TF Linear Regression."
      ]
    },
    {
      "metadata": {
        "id": "BbXUG7AKluuR",
        "colab_type": "code",
        "colab": {}
      },
      "cell_type": "code",
      "source": [
        "class TfLinreg(object):\n",
        "    \n",
        "    def __init__(self, x_dim, learning_rate=0.01,\n",
        "                 random_seed=None):\n",
        "        self.x_dim = x_dim\n",
        "        self.learning_rate = learning_rate\n",
        "        self.g = tf.Graph()\n",
        "        ## build the model\n",
        "        with self.g.as_default():\n",
        "            ## set graph-level random-seed\n",
        "            tf.set_random_seed(random_seed)\n",
        "            \n",
        "            self.build()\n",
        "            ## create initializer\n",
        "            self.init_op = tf.global_variables_initializer()\n",
        "        \n",
        "    def build(self):\n",
        "        ## define placeholders for inputs\n",
        "        self.X = tf.placeholder(dtype=tf.float32,\n",
        "                                shape=(None, self.x_dim),\n",
        "                                name='x_input')\n",
        "        self.y = tf.placeholder(dtype=tf.float32,\n",
        "                                shape=(None),\n",
        "                                name='y_input')\n",
        "        print(self.X)\n",
        "        print(self.y)\n",
        "        ## define weight matrix and bias vector\n",
        "        self.w = tf.Variable(tf.zeros(shape=(1)),\n",
        "                        name='weight')\n",
        "        self.b = tf.Variable(tf.zeros(shape=(1)), \n",
        "                        name=\"bias\")\n",
        "        print(self.w)\n",
        "        print(self.b)\n",
        "\n",
        "        self.z_net = tf.squeeze(self.w*self.X + self.b,\n",
        "                                name='z_net')\n",
        "        print(self.z_net)\n",
        "        \n",
        "        sqr_errors = tf.square(self.y - self.z_net, \n",
        "                               name='sqr_errors')\n",
        "        print(sqr_errors)\n",
        "        self.mean_cost = tf.reduce_mean(sqr_errors,\n",
        "                                        name='mean_cost')\n",
        "        \n",
        "        optimizer = tf.train.GradientDescentOptimizer(\n",
        "                    learning_rate=self.learning_rate, \n",
        "                    name='GradientDescent')\n",
        "        self.optimizer = optimizer.minimize(self.mean_cost)"
      ],
      "execution_count": 0,
      "outputs": []
    },
    {
      "metadata": {
        "id": "WOdcD1Qnluue",
        "colab_type": "code",
        "colab": {}
      },
      "cell_type": "code",
      "source": [
        "### TODO: instantiate model with learning rate = 0.0001"
      ],
      "execution_count": 0,
      "outputs": []
    },
    {
      "metadata": {
        "id": "J8LmXh11luus",
        "colab_type": "code",
        "colab": {
          "base_uri": "https://localhost:8080/",
          "height": 257
        },
        "outputId": "2ccf9043-3b49-483a-ca49-9077b0c64d5d"
      },
      "cell_type": "code",
      "source": [
        "lrmodel = TfLinreg(x_dim=1, learning_rate=???) # TODO: Fill in learning rate"
      ],
      "execution_count": 6,
      "outputs": [
        {
          "output_type": "stream",
          "text": [
            "Tensor(\"x_input:0\", shape=(?, 1), dtype=float32)\n",
            "Tensor(\"y_input:0\", dtype=float32)\n",
            "WARNING:tensorflow:From /usr/local/lib/python3.6/dist-packages/tensorflow/python/framework/op_def_library.py:263: colocate_with (from tensorflow.python.framework.ops) is deprecated and will be removed in a future version.\n",
            "Instructions for updating:\n",
            "Colocations handled automatically by placer.\n",
            "<tf.Variable 'weight:0' shape=(1,) dtype=float32_ref>\n",
            "<tf.Variable 'bias:0' shape=(1,) dtype=float32_ref>\n",
            "Tensor(\"z_net:0\", dtype=float32)\n",
            "Tensor(\"sqr_errors:0\", dtype=float32)\n",
            "WARNING:tensorflow:From /usr/local/lib/python3.6/dist-packages/tensorflow/python/ops/math_ops.py:3066: to_int32 (from tensorflow.python.ops.math_ops) is deprecated and will be removed in a future version.\n",
            "Instructions for updating:\n",
            "Use tf.cast instead.\n"
          ],
          "name": "stdout"
        }
      ]
    },
    {
      "metadata": {
        "id": "pbO2O83pluu1",
        "colab_type": "text"
      },
      "cell_type": "markdown",
      "source": [
        "## Step 4: Do the Training"
      ]
    },
    {
      "metadata": {
        "id": "tvG_d6V2luu4",
        "colab_type": "code",
        "colab": {}
      },
      "cell_type": "code",
      "source": [
        "#tf.reset_default_graph() # for tensorboard\n",
        "\n",
        "def train_linreg(sess, model, X_train, y_train, num_epochs=10):\n",
        "    logs_path = '/tmp/tensorflow_logs/example/' # path to save tensorboard graph\n",
        "    ## initialiaze all variables: W & b\n",
        "    \n",
        "    sess.run(model.init_op)\n",
        "    writer = tf.summary.FileWriter(logs_path, sess.graph) # writing data for tensorboard\n",
        "    training_costs = []\n",
        "    for i in range(num_epochs):\n",
        "        _, cost  = sess.run([model.optimizer, model.mean_cost], \n",
        "                           feed_dict={model.X:X_train, \n",
        "                                      model.y:y_train})\n",
        "        training_costs.append(cost)\n",
        "        try:\n",
        "              import google.colab\n",
        "              IN_COLAB = True\n",
        "        except:\n",
        "              IN_COLAB = False\n",
        "        if IN_COLAB == True:\n",
        "            summary_writer = tbc.get_writer()\n",
        "            summary_writer.add_graph(sess.graph)# saving data on google colab\n",
        "        #writer.add_summary(cost, epoch * total_batch + i)\n",
        "        \n",
        "        \n",
        "    return training_costs"
      ],
      "execution_count": 0,
      "outputs": []
    },
    {
      "metadata": {
        "id": "SFCZlceJluu9",
        "colab_type": "code",
        "colab": {}
      },
      "cell_type": "code",
      "source": [
        "\n",
        "sess = tf.Session(graph=lrmodel.g)\n",
        "training_costs = train_linreg(sess, lrmodel, x.reshape(10,1),y)"
      ],
      "execution_count": 0,
      "outputs": []
    },
    {
      "metadata": {
        "id": "nxMfDtXiluvI",
        "colab_type": "text"
      },
      "cell_type": "markdown",
      "source": [
        "## Step 5: Look at the Loss Curve"
      ]
    },
    {
      "metadata": {
        "id": "17x7Jo01luvJ",
        "colab_type": "code",
        "colab": {},
        "outputId": "6efd90b1-9e8a-4478-9f82-c70eb034922b"
      },
      "cell_type": "code",
      "source": [
        "import matplotlib.pyplot as plt\n",
        "\n",
        "plt.plot(range(1,len(training_costs) + 1), training_costs)\n",
        "plt.tight_layout()\n",
        "plt.xlabel('Epoch')\n",
        "plt.ylabel('Training Cost')\n",
        "#plt.savefig('images/13_01.png', dpi=300)\n",
        "plt.show()"
      ],
      "execution_count": 0,
      "outputs": [
        {
          "output_type": "display_data",
          "data": {
            "image/png": "[encoded data removed]",
            "text/plain": [
              "<Figure size 432x288 with 1 Axes>"
            ]
          },
          "metadata": {
            "tags": []
          }
        }
      ]
    },
    {
      "metadata": {
        "id": "oZqrSx0QluvU",
        "colab_type": "text"
      },
      "cell_type": "markdown",
      "source": [
        "## Step 6: Look at the result of the plot"
      ]
    },
    {
      "metadata": {
        "id": "pNg9pelJluvV",
        "colab_type": "code",
        "colab": {}
      },
      "cell_type": "code",
      "source": [
        "def predict_linreg(sess, model, X_test):\n",
        "    y_pred = sess.run(model.z_net, \n",
        "                      feed_dict={model.X:X_test})\n",
        "    return y_pred"
      ],
      "execution_count": 0,
      "outputs": []
    },
    {
      "metadata": {
        "id": "2139Gv7xluvc",
        "colab_type": "code",
        "colab": {},
        "outputId": "abe5e858-08a6-4f1b-d079-8465837a951c"
      },
      "cell_type": "code",
      "source": [
        "plt.scatter(x, y,\n",
        "            marker='s', s=50,\n",
        "            label='Training Data')\n",
        "plt.plot(x, \n",
        "         predict_linreg(sess, lrmodel, x.reshape(10,1)),\n",
        "         color='gray', marker='o', \n",
        "         markersize=6, linewidth=3,\n",
        "         label='LinReg Model')\n",
        "plt.xlabel('x')\n",
        "plt.ylabel('y')\n",
        "plt.legend()\n",
        "plt.tight_layout()\n",
        "plt.show()"
      ],
      "execution_count": 0,
      "outputs": [
        {
          "output_type": "display_data",
          "data": {
            "image/png": "[encoded data removed]",
            "text/plain": [
              "<Figure size 432x288 with 1 Axes>"
            ]
          },
          "metadata": {
            "tags": []
          }
        }
      ]
    },
    {
      "metadata": {
        "id": "kr32kXp4luvp",
        "colab_type": "text"
      },
      "cell_type": "markdown",
      "source": [
        "### Step 6: Get Weight and Bias Variables for future reference\n",
        "\n",
        "Let's save the weight and bias variables because we will need htem."
      ]
    },
    {
      "metadata": {
        "id": "nxL2sHa8luvs",
        "colab_type": "code",
        "colab": {}
      },
      "cell_type": "code",
      "source": [
        "def get_weight_bias(sess, model):\n",
        "    return sess.run((model.w[0], model.b[0]))\n",
        "    \n",
        "weight,bias = get_weight_bias(sess,lrmodel)"
      ],
      "execution_count": 0,
      "outputs": []
    },
    {
      "metadata": {
        "id": "ZMRyCK45luv1",
        "colab_type": "text"
      },
      "cell_type": "markdown",
      "source": [
        "## Step 7: Plot the fit line (abline)\n",
        "\n",
        "**=>TODO: Do a scatterplot of bill versus tip **"
      ]
    },
    {
      "metadata": {
        "id": "5rjrK0D3luv8",
        "colab_type": "code",
        "colab": {},
        "outputId": "902694e2-0447-49a6-a778-5bc1c025c067"
      },
      "cell_type": "code",
      "source": [
        "# Create a list of values in the best fit line\n",
        "# TODO: Fill in gradient and intercept in formula\n",
        "abline_values = [??? * i + ??? for i in tip_data.bill]\n",
        "\n",
        "# Plot the best fit line over the actual values\n",
        "plt.scatter(tip_data.bill, tip_data.tip)\n",
        "plt.plot(tip_data.bill, abline_values, 'b')\n",
        "plt.ylabel('tip')\n",
        "plt.xlabel('bill')\n",
        "plt.title(\"Fit Line\")\n",
        "plt.show()"
      ],
      "execution_count": 0,
      "outputs": [
        {
          "output_type": "error",
          "ename": "SyntaxError",
          "evalue": "invalid syntax (<ipython-input-15-47ae5ae4bb99>, line 3)",
          "traceback": [
            "\u001b[1;36m  File \u001b[1;32m\"<ipython-input-15-47ae5ae4bb99>\"\u001b[1;36m, line \u001b[1;32m3\u001b[0m\n\u001b[1;33m    abline_values = [??? * i + ??? for i in tip_data.bill]\u001b[0m\n\u001b[1;37m                     ^\u001b[0m\n\u001b[1;31mSyntaxError\u001b[0m\u001b[1;31m:\u001b[0m invalid syntax\n"
          ]
        }
      ]
    },
    {
      "metadata": {
        "id": "jTzO9T2NluwG",
        "colab_type": "code",
        "colab": {}
      },
      "cell_type": "code",
      "source": [
        "# Make a prediction using the slope and the intercept\n",
        "y_pred = tip_data.bill.values.reshape(10,1)\n",
        "y_test = tip_data.tip.values.reshape(10,1)\n",
        "\n",
        "\n"
      ],
      "execution_count": 0,
      "outputs": []
    },
    {
      "metadata": {
        "id": "-g5UwOtIluwP",
        "colab_type": "text"
      },
      "cell_type": "markdown",
      "source": [
        "## Step 8: Use the predict() function to plot abline\n"
      ]
    },
    {
      "metadata": {
        "id": "sfCHn4hmluwT",
        "colab_type": "code",
        "colab": {}
      },
      "cell_type": "code",
      "source": [
        "plt.scatter(x, y,\n",
        "            marker='s', s=50,\n",
        "            label='Training Data')\n",
        "plt.plot(x, \n",
        "         predict_linreg(sess, lrmodel, x.reshape(10,1)),\n",
        "         color='gray', marker='o', \n",
        "         markersize=6, linewidth=3,\n",
        "         label='LinReg Model')\n",
        "plt.xlabel('x')\n",
        "plt.ylabel('y')\n",
        "plt.legend()\n",
        "plt.tight_layout()\n",
        "plt.show()"
      ],
      "execution_count": 0,
      "outputs": []
    },
    {
      "metadata": {
        "id": "ykPjroTBluwf",
        "colab_type": "text"
      },
      "cell_type": "markdown",
      "source": [
        "## Step 9: Plot the residuals\n",
        "\n",
        "Residuals are the error, or difference between the model predicted and model actual.  We'd like these to be as small as possible, with residuals roughly balanced.   We don't want a model that consistently predicts values too high or too low.\n",
        "\n",
        "**=>TODO: do a plot of the bill (x-value) versus residuals (y-value) **"
      ]
    },
    {
      "metadata": {
        "id": "RsBBYcpqluwh",
        "colab_type": "code",
        "colab": {}
      },
      "cell_type": "code",
      "source": [
        "resid = (??? * tip_data.bill + ???) - tip_data.tip"
      ],
      "execution_count": 0,
      "outputs": []
    },
    {
      "metadata": {
        "id": "R2n1250nluwo",
        "colab_type": "code",
        "colab": {}
      },
      "cell_type": "code",
      "source": [
        "plt.scatter(tip_data.bill, resid)\n",
        "plt.axhline(y=0, color='r', linestyle='-')  # horizon\n",
        "plt.ylabel('Residuals')\n",
        "plt.xlabel('bill')\n",
        "plt.title(\"Residuals\")\n",
        "plt.show()\n",
        "\n",
        "\n"
      ],
      "execution_count": 0,
      "outputs": []
    },
    {
      "metadata": {
        "id": "EqOIWIdpluws",
        "colab_type": "text"
      },
      "cell_type": "markdown",
      "source": [
        "## Step 10 : Identify Coefficients\n",
        "\n",
        "### Intercept and Slope\n",
        "We can see them from output"
      ]
    },
    {
      "metadata": {
        "attributes": {
          "classes": [
            "console"
          ],
          "id": ""
        },
        "collapsed": true,
        "id": "weTqWiIEluwt",
        "colab_type": "text"
      },
      "cell_type": "markdown",
      "source": [
        "Coefficients:\n",
        "            Estimate \n",
        "(Intercept) -0.8217112049846651\n",
        "bill        0.226334605857"
      ]
    },
    {
      "metadata": {
        "id": "-QELeIzSluw1",
        "colab_type": "text"
      },
      "cell_type": "markdown",
      "source": [
        "- **Slope** (of line) : ** 0.226334605857**\n",
        "- **Intercept** (where line meets Y-axis) : **-0.8217112049846651**  (below zero line)\n",
        "\n",
        "We can also get these programatically.  \n",
        "If `tip = a * amount + b`"
      ]
    },
    {
      "metadata": {
        "attributes": {
          "classes": [
            "R"
          ],
          "id": ""
        },
        "id": "6mcil15bluw6",
        "colab_type": "code",
        "colab": {}
      },
      "cell_type": "code",
      "source": [
        "\n",
        "# Print the coefficients and intercept for linear regression\n",
        "print(\"Coefficients: %s\" % str(weight))\n",
        "print(\"Intercept: %s\" % str(bias))\n",
        "\n",
        "a = weight\n",
        "b = bias\n"
      ],
      "execution_count": 0,
      "outputs": []
    },
    {
      "metadata": {
        "id": "3sv8YsZdluxC",
        "colab_type": "text"
      },
      "cell_type": "markdown",
      "source": [
        "**==>  Question : Does bill amount influence tip amount? (are they strongly linked?) **\n",
        "\n",
        "\n",
        "**==>  Question : How would you find this out?) **\n",
        "\n",
        "\n",
        "\n"
      ]
    },
    {
      "metadata": {
        "id": "NtduS-_7luxF",
        "colab_type": "text"
      },
      "cell_type": "markdown",
      "source": [
        "### TODO: Calcluate Tip for 100 bill."
      ]
    },
    {
      "metadata": {
        "attributes": {
          "classes": [
            "R"
          ],
          "id": ""
        },
        "id": "pFK8piDMluxG",
        "colab_type": "code",
        "colab": {}
      },
      "cell_type": "code",
      "source": [
        "tip_for_100 = ??? * 100 + ??? \n",
        "print(tip_for_100)\n"
      ],
      "execution_count": 0,
      "outputs": []
    },
    {
      "metadata": {
        "id": "SCYoHc6nluxP",
        "colab_type": "text"
      },
      "cell_type": "markdown",
      "source": [
        "## Step 12: Add a estimated_tip column to pandas dataframe\n",
        "\n",
        "**=>TODO: create a new pandas column called est_tip **"
      ]
    },
    {
      "metadata": {
        "attributes": {
          "classes": [
            "R"
          ],
          "id": ""
        },
        "id": "opfSte98luxS",
        "colab_type": "code",
        "colab": {}
      },
      "cell_type": "code",
      "source": [
        "tip_data['est_tip'] =  ???\n",
        "tip_data"
      ],
      "execution_count": 0,
      "outputs": []
    },
    {
      "metadata": {
        "id": "lCrQKWcNluxY",
        "colab_type": "text"
      },
      "cell_type": "markdown",
      "source": [
        "## Step 13: Perform a prediction\n",
        "\n",
        "\n",
        "Let's try to run a prediction on some data: $45.00, $55.00, and $65.00 \n",
        "\n",
        "\n",
        "**=>TODO: use predict function from above **"
      ]
    },
    {
      "metadata": {
        "scrolled": true,
        "id": "EK8WaAJMluxb",
        "colab_type": "code",
        "colab": {}
      },
      "cell_type": "code",
      "source": [
        "test_data_pd = pd.DataFrame({'bill' : [45., 55., 65.,]\n",
        "             })\n",
        "\n",
        "test_data_pd['predicted_tip'] = ??? # What do we do to do a prediction??\n",
        "\n",
        "\n",
        "\n",
        "test_data_pd"
      ],
      "execution_count": 0,
      "outputs": []
    },
    {
      "metadata": {
        "id": "Yu5HD5mYnoS0",
        "colab_type": "text"
      },
      "cell_type": "markdown",
      "source": [
        "### Now we run the TensorBaord"
      ]
    },
    {
      "metadata": {
        "id": "DrjHLhq2n5R5",
        "colab_type": "text"
      },
      "cell_type": "markdown",
      "source": [
        "#### Local:"
      ]
    },
    {
      "metadata": {
        "id": "pC0BYsR3n-rj",
        "colab_type": "text"
      },
      "cell_type": "markdown",
      "source": [
        "Now run the following command on a bash\n",
        "\n",
        "```bash\n",
        "$ tensorboard --logdir=/tmp/tensorflow_logs\n",
        "```\n",
        "Then open the browser(Chrome) and insert this address\n",
        "\n",
        "```bash\n",
        "localhost:6006\n",
        "```"
      ]
    },
    {
      "metadata": {
        "id": "CnVr4pScoHos",
        "colab_type": "text"
      },
      "cell_type": "markdown",
      "source": [
        "#### Google colab"
      ]
    },
    {
      "metadata": {
        "id": "DqFK5ni5oI75",
        "colab_type": "text"
      },
      "cell_type": "markdown",
      "source": [
        ""
      ]
    },
    {
      "metadata": {
        "id": "88CJBZtzoPfj",
        "colab_type": "text"
      },
      "cell_type": "markdown",
      "source": [
        "Click on the link you had got at the first step\n",
        "\n",
        "![](../images/tb_colab.png)"
      ]
    }
  ]
}