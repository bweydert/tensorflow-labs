{
 "cells": [
  {
   "cell_type": "markdown",
   "metadata": {},
   "source": [
    "<link rel='stylesheet' href='../assets/css/main.css'/>\n",
    "\n",
    "[<< back to main index](../README.md)\n",
    "\n",
    "# Linear Regression in using Tensorflow \n",
    "\n",
    "### Overview\n",
    "Instructor to demo this on screen.\n",
    " \n",
    "### Builds on\n",
    "None\n",
    "\n",
    "### Run time\n",
    "approx. 20-30 minutes\n",
    "\n",
    "### Notes\n",
    "\n",
    "We can do linear regression with ordinary. "
   ]
  },
  {
   "cell_type": "code",
   "execution_count": null,
   "metadata": {},
   "outputs": [],
   "source": [
    "%matplotlib inline\n",
    "\n",
    "import numpy as np\n",
    "import pandas as pd\n",
    "from scipy import stats\n",
    "import matplotlib.pyplot as plt\n",
    "import tensorflow as tf\n"
   ]
  },
  {
   "cell_type": "markdown",
   "metadata": {},
   "source": [
    "## Example : Tips\n",
    "Here is our tip data.  This shows 10 observations of bill with tip amounts."
   ]
  },
  {
   "cell_type": "markdown",
   "metadata": {},
   "source": [
    "| bill | tip | \n",
    "|------|-----| \n",
    "| 50   | 12  | \n",
    "| 30   | 7   | \n",
    "| 60   | 13  | \n",
    "| 40   | 8   | \n",
    "| 65   | 15  | \n",
    "| 20   | 5   | \n",
    "| 10   | 2   | \n",
    "| 15   | 2   | \n",
    "| 25   | 3   | \n",
    "| 35   | 4   | "
   ]
  },
  {
   "cell_type": "markdown",
   "metadata": {},
   "source": [
    "## Step 1: Let's create a Pandas dataframe with the data\n"
   ]
  },
  {
   "cell_type": "code",
   "execution_count": null,
   "metadata": {
    "attributes": {
     "classes": [
      "R"
     ],
     "id": ""
    }
   },
   "outputs": [],
   "source": [
    "tip_data = pd.DataFrame({'bill' : [50.00, 30.00, 60.00, 40.00, 65.00, 20.00, 10.00, 15.00, 25.00, 35.00],\n",
    "              'tip' : [12.00, 7.00, 13.00, 8.00, 15.00, 5.00, 2.00, 2.00, 3.00, 4.00]\n",
    "             })\n",
    "\n",
    "tip_data\n"
   ]
  },
  {
   "cell_type": "markdown",
   "metadata": {},
   "source": [
    "## Step 2: Let's do a quick plot of the data\n",
    "\n",
    "Let us use matplotlib to do a quick scatter plot of the data.\n",
    "\n",
    "**=>TODO: plot the bill (X-axis), versus the tip (Y-axis)**"
   ]
  },
  {
   "cell_type": "code",
   "execution_count": null,
   "metadata": {
    "scrolled": true
   },
   "outputs": [],
   "source": [
    "plt.scatter(tip_data.bill, tip_data.tip)\n",
    "plt.ylabel('tip')\n",
    "plt.xlabel('bill')\n",
    "plt.show()"
   ]
  },
  {
   "cell_type": "code",
   "execution_count": null,
   "metadata": {},
   "outputs": [],
   "source": [
    "x = tip_data['bill'].values\n",
    "y = tip_data['tip'].values\n",
    "print('bill = ' + str(x))\n",
    "print('tip = ' + str(y))"
   ]
  },
  {
   "cell_type": "markdown",
   "metadata": {},
   "source": [
    "## Step 3: Let's set up our TF Linear Regression\n",
    "\n",
    "We'll set up the TF Linear Regression."
   ]
  },
  {
   "cell_type": "code",
   "execution_count": null,
   "metadata": {},
   "outputs": [],
   "source": [
    "class TfLinreg(object):\n",
    "    \n",
    "    def __init__(self, x_dim, learning_rate=0.01,\n",
    "                 random_seed=None):\n",
    "        self.x_dim = x_dim\n",
    "        self.learning_rate = learning_rate\n",
    "        self.g = tf.Graph()\n",
    "        ## build the model\n",
    "        with self.g.as_default():\n",
    "            ## set graph-level random-seed\n",
    "            tf.set_random_seed(random_seed)\n",
    "            \n",
    "            self.build()\n",
    "            ## create initializer\n",
    "            self.init_op = tf.global_variables_initializer()\n",
    "        \n",
    "    def build(self):\n",
    "        ## define placeholders for inputs\n",
    "        self.X = tf.placeholder(dtype=tf.float32,\n",
    "                                shape=(None, self.x_dim),\n",
    "                                name='x_input')\n",
    "        self.y = tf.placeholder(dtype=tf.float32,\n",
    "                                shape=(None),\n",
    "                                name='y_input')\n",
    "        print(self.X)\n",
    "        print(self.y)\n",
    "        ## define weight matrix and bias vector\n",
    "        self.w = tf.Variable(tf.zeros(shape=(1)),\n",
    "                        name='weight')\n",
    "        self.b = tf.Variable(tf.zeros(shape=(1)), \n",
    "                        name=\"bias\")\n",
    "        print(self.w)\n",
    "        print(self.b)\n",
    "\n",
    "        self.z_net = tf.squeeze(self.w*self.X + self.b,\n",
    "                                name='z_net')\n",
    "        print(self.z_net)\n",
    "        \n",
    "        sqr_errors = tf.square(self.y - self.z_net, \n",
    "                               name='sqr_errors')\n",
    "        print(sqr_errors)\n",
    "        self.mean_cost = tf.reduce_mean(sqr_errors,\n",
    "                                        name='mean_cost')\n",
    "        \n",
    "        optimizer = tf.train.GradientDescentOptimizer(\n",
    "                    learning_rate=self.learning_rate, \n",
    "                    name='GradientDescent')\n",
    "        self.optimizer = optimizer.minimize(self.mean_cost)"
   ]
  },
  {
   "cell_type": "code",
   "execution_count": null,
   "metadata": {},
   "outputs": [],
   "source": [
    "### TODO: instantiate model with learning rate = 0.0001"
   ]
  },
  {
   "cell_type": "code",
   "execution_count": null,
   "metadata": {},
   "outputs": [],
   "source": [
    "lrmodel = TfLinreg(x_dim=1, learning_rate=???) # TODO: Fill in learning rate"
   ]
  },
  {
   "cell_type": "markdown",
   "metadata": {},
   "source": [
    "## Step 4: Do the Training"
   ]
  },
  {
   "cell_type": "code",
   "execution_count": null,
   "metadata": {},
   "outputs": [],
   "source": [
    "def train_linreg(sess, model, X_train, y_train, num_epochs=10):\n",
    "    ## initialiaze all variables: W & b\n",
    "    sess.run(model.init_op)\n",
    "    \n",
    "    training_costs = []\n",
    "    for i in range(num_epochs):\n",
    "        _, cost = sess.run([model.optimizer, model.mean_cost], \n",
    "                           feed_dict={model.X:X_train, \n",
    "                                      model.y:y_train})\n",
    "        training_costs.append(cost)\n",
    "        \n",
    "    return training_costs"
   ]
  },
  {
   "cell_type": "code",
   "execution_count": null,
   "metadata": {},
   "outputs": [],
   "source": [
    "sess = tf.Session(graph=lrmodel.g)\n",
    "training_costs = train_linreg(sess, lrmodel, x.reshape(10,1),y)"
   ]
  },
  {
   "cell_type": "markdown",
   "metadata": {},
   "source": [
    "## Step 5: Look at the Loss Curve"
   ]
  },
  {
   "cell_type": "code",
   "execution_count": null,
   "metadata": {},
   "outputs": [],
   "source": [
    "import matplotlib.pyplot as plt\n",
    "\n",
    "plt.plot(range(1,len(training_costs) + 1), training_costs)\n",
    "plt.tight_layout()\n",
    "plt.xlabel('Epoch')\n",
    "plt.ylabel('Training Cost')\n",
    "#plt.savefig('images/13_01.png', dpi=300)\n",
    "plt.show()"
   ]
  },
  {
   "cell_type": "markdown",
   "metadata": {},
   "source": [
    "## Step 6: Look at the result of the plot"
   ]
  },
  {
   "cell_type": "code",
   "execution_count": null,
   "metadata": {},
   "outputs": [],
   "source": [
    "def predict_linreg(sess, model, X_test):\n",
    "    y_pred = sess.run(model.z_net, \n",
    "                      feed_dict={model.X:X_test})\n",
    "    return y_pred"
   ]
  },
  {
   "cell_type": "code",
   "execution_count": null,
   "metadata": {},
   "outputs": [],
   "source": [
    "plt.scatter(x, y,\n",
    "            marker='s', s=50,\n",
    "            label='Training Data')\n",
    "plt.plot(x, \n",
    "         predict_linreg(sess, lrmodel, x.reshape(10,1)),\n",
    "         color='gray', marker='o', \n",
    "         markersize=6, linewidth=3,\n",
    "         label='LinReg Model')\n",
    "plt.xlabel('x')\n",
    "plt.ylabel('y')\n",
    "plt.legend()\n",
    "plt.tight_layout()\n",
    "plt.show()"
   ]
  },
  {
   "cell_type": "markdown",
   "metadata": {},
   "source": [
    "### Step 6: Get Weight and Bias Variables for future reference\n",
    "\n",
    "Let's save the weight and bias variables because we will need htem."
   ]
  },
  {
   "cell_type": "code",
   "execution_count": null,
   "metadata": {},
   "outputs": [],
   "source": [
    "def get_weight_bias(sess, model):\n",
    "    return sess.run((model.w[0], model.b[0]))\n",
    "    \n",
    "weight,bias = get_weight_bias(sess,lrmodel)"
   ]
  },
  {
   "cell_type": "markdown",
   "metadata": {},
   "source": [
    "## Step 7: Plot the fit line (abline)\n",
    "\n",
    "**=>TODO: Do a scatterplot of bill versus tip **"
   ]
  },
  {
   "cell_type": "code",
   "execution_count": null,
   "metadata": {},
   "outputs": [],
   "source": [
    "# Create a list of values in the best fit line\n",
    "# TODO: Fill in gradient and intercept in formula\n",
    "abline_values = [??? * i + ??? for i in tip_data.bill]\n",
    "\n",
    "# Plot the best fit line over the actual values\n",
    "plt.scatter(tip_data.bill, tip_data.tip)\n",
    "plt.plot(tip_data.bill, abline_values, 'b')\n",
    "plt.ylabel('tip')\n",
    "plt.xlabel('bill')\n",
    "plt.title(\"Fit Line\")\n",
    "plt.show()"
   ]
  },
  {
   "cell_type": "code",
   "execution_count": null,
   "metadata": {},
   "outputs": [],
   "source": [
    "# Make a prediction using the slope and the intercept\n",
    "y_pred = tip_data.bill.values.reshape(10,1)\n",
    "y_test = tip_data.tip.values.reshape(10,1)\n",
    "\n",
    "\n"
   ]
  },
  {
   "cell_type": "markdown",
   "metadata": {},
   "source": [
    "## Step 8: Use the predict() function to plot abline\n"
   ]
  },
  {
   "cell_type": "code",
   "execution_count": null,
   "metadata": {},
   "outputs": [],
   "source": [
    "plt.scatter(x, y,\n",
    "            marker='s', s=50,\n",
    "            label='Training Data')\n",
    "plt.plot(x, \n",
    "         predict_linreg(sess, lrmodel, x.reshape(10,1)),\n",
    "         color='gray', marker='o', \n",
    "         markersize=6, linewidth=3,\n",
    "         label='LinReg Model')\n",
    "plt.xlabel('x')\n",
    "plt.ylabel('y')\n",
    "plt.legend()\n",
    "plt.tight_layout()\n",
    "plt.show()"
   ]
  },
  {
   "cell_type": "markdown",
   "metadata": {},
   "source": [
    "## Step 9: Plot the residuals\n",
    "\n",
    "Residuals are the error, or difference between the model predicted and model actual.  We'd like these to be as small as possible, with residuals roughly balanced.   We don't want a model that consistently predicts values too high or too low.\n",
    "\n",
    "**=>TODO: do a plot of the bill (x-value) versus residuals (y-value) **"
   ]
  },
  {
   "cell_type": "code",
   "execution_count": null,
   "metadata": {},
   "outputs": [],
   "source": [
    "resid = (??? * tip_data.bill + ???) - tip_data.tip"
   ]
  },
  {
   "cell_type": "code",
   "execution_count": null,
   "metadata": {},
   "outputs": [],
   "source": [
    "plt.scatter(tip_data.bill, resid)\n",
    "plt.axhline(y=0, color='r', linestyle='-')  # horizon\n",
    "plt.ylabel('Residuals')\n",
    "plt.xlabel('bill')\n",
    "plt.title(\"Residuals\")\n",
    "plt.show()\n",
    "\n",
    "\n"
   ]
  },
  {
   "cell_type": "markdown",
   "metadata": {},
   "source": [
    "## Step 10 : Identify Coefficients\n",
    "\n",
    "### Intercept and Slope\n",
    "We can see them from output"
   ]
  },
  {
   "cell_type": "markdown",
   "metadata": {
    "attributes": {
     "classes": [
      "console"
     ],
     "id": ""
    },
    "collapsed": true
   },
   "source": [
    "Coefficients:\n",
    "            Estimate \n",
    "(Intercept) -0.8217112049846651\n",
    "bill        0.226334605857"
   ]
  },
  {
   "cell_type": "markdown",
   "metadata": {},
   "source": [
    "- **Slope** (of line) : ** 0.226334605857**\n",
    "- **Intercept** (where line meets Y-axis) : **-0.8217112049846651**  (below zero line)\n",
    "\n",
    "We can also get these programatically.  \n",
    "If `tip = a * amount + b`"
   ]
  },
  {
   "cell_type": "code",
   "execution_count": null,
   "metadata": {
    "attributes": {
     "classes": [
      "R"
     ],
     "id": ""
    }
   },
   "outputs": [],
   "source": [
    "\n",
    "# Print the coefficients and intercept for linear regression\n",
    "print(\"Coefficients: %s\" % str(weight))\n",
    "print(\"Intercept: %s\" % str(bias))\n",
    "\n",
    "a = weight\n",
    "b = bias\n"
   ]
  },
  {
   "cell_type": "markdown",
   "metadata": {},
   "source": [
    "**==>  Question : Does bill amount influence tip amount? (are they strongly linked?) **\n",
    "\n",
    "\n",
    "**==>  Question : How would you find this out?) **\n",
    "\n",
    "\n",
    "\n"
   ]
  },
  {
   "cell_type": "markdown",
   "metadata": {},
   "source": [
    "### TODO: Calcluate Tip for 100 bill."
   ]
  },
  {
   "cell_type": "code",
   "execution_count": null,
   "metadata": {
    "attributes": {
     "classes": [
      "R"
     ],
     "id": ""
    }
   },
   "outputs": [],
   "source": [
    "tip_for_100 = ??? * 100 + ??? \n",
    "print(tip_for_100)\n"
   ]
  },
  {
   "cell_type": "markdown",
   "metadata": {},
   "source": [
    "## Step 12: Add a estimated_tip column to pandas dataframe\n",
    "\n",
    "**=>TODO: create a new pandas column called est_tip **"
   ]
  },
  {
   "cell_type": "code",
   "execution_count": null,
   "metadata": {
    "attributes": {
     "classes": [
      "R"
     ],
     "id": ""
    }
   },
   "outputs": [],
   "source": [
    "tip_data['est_tip'] =  ???\n",
    "tip_data"
   ]
  },
  {
   "cell_type": "markdown",
   "metadata": {},
   "source": [
    "## Step 13: Perform a prediction\n",
    "\n",
    "\n",
    "Let's try to run a prediction on some data: $45.00, $55.00, and $65.00 \n",
    "\n",
    "\n",
    "**=>TODO: use predict function from above **"
   ]
  },
  {
   "cell_type": "code",
   "execution_count": null,
   "metadata": {
    "scrolled": true
   },
   "outputs": [],
   "source": [
    "test_data_pd = pd.DataFrame({'bill' : [45., 55., 65.,]\n",
    "             })\n",
    "\n",
    "test_data_pd['predicted_tip'] = ??? # What do we do to do a prediction??\n",
    "\n",
    "\n",
    "\n",
    "test_data_pd"
   ]
  },
  {
   "cell_type": "code",
   "execution_count": null,
   "metadata": {},
   "outputs": [],
   "source": []
  }
 ],
 "metadata": {
  "kernelspec": {
   "display_name": "Python 3",
   "language": "python",
   "name": "python3"
  },
  "language_info": {
   "codemirror_mode": {
    "name": "ipython",
    "version": 3
   },
   "file_extension": ".py",
   "mimetype": "text/x-python",
   "name": "python",
   "nbconvert_exporter": "python",
   "pygments_lexer": "ipython3",
   "version": "3.6.6"
  }
 },
 "nbformat": 4,
 "nbformat_minor": 2
}
