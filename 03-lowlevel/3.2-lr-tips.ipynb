{
 "cells": [
  {
   "cell_type": "markdown",
   "metadata": {
    "colab_type": "text",
    "id": "TVKbYbtllutI"
   },
   "source": [
    "<link rel='stylesheet' href='../assets/css/main.css'/>\n",
    "\n",
    "[<< back to main index](../README.md)\n",
    "\n",
    "# Linear Regression in using Tensorflow \n",
    "\n",
    "### Overview\n",
    "Instructor to demo this on screen.\n",
    " \n",
    "### Builds on\n",
    "None\n",
    "\n",
    "### Run time\n",
    "approx. 20-30 minutes\n",
    "\n",
    "### Notes\n",
    "\n",
    "We can do linear regression with ordinary. "
   ]
  },
  {
   "cell_type": "code",
   "execution_count": 1,
   "metadata": {
    "colab": {
     "base_uri": "https://localhost:8080/",
     "height": 90
    },
    "colab_type": "code",
    "id": "50Pzsd7Uluta",
    "outputId": "b54ed23b-d36e-4c42-de22-db676fd1392b"
   },
   "outputs": [],
   "source": [
    "%matplotlib inline\n",
    "\n",
    "import numpy as np\n",
    "import pandas as pd\n",
    "from scipy import stats\n",
    "import matplotlib.pyplot as plt\n",
    "import tensorflow as tf\n",
    "tf.summary.FileWriterCache.clear()\n",
    "logs_path = '/tmp/tensorflow_logs/example/' # path to save tensorboard graph\n",
    "\n",
    "try:\n",
    "    import google.colab\n",
    "    IN_COLAB = True\n",
    "except:\n",
    "    IN_COLAB = False\n",
    "if IN_COLAB == True:\n",
    "    !pip install -U tensorboardcolab\n",
    "    from tensorboardcolab import *\n",
    "    tbc=TensorBoardColab()"
   ]
  },
  {
   "cell_type": "markdown",
   "metadata": {
    "colab_type": "text",
    "id": "Uz8biICGlutj"
   },
   "source": [
    "## Example : Tips\n",
    "Here is our tip data.  This shows 10 observations of bill with tip amounts."
   ]
  },
  {
   "cell_type": "markdown",
   "metadata": {
    "colab_type": "text",
    "id": "Bm2-ugOLlutm"
   },
   "source": [
    "| bill | tip | \n",
    "|------|-----| \n",
    "| 50   | 12  | \n",
    "| 30   | 7   | \n",
    "| 60   | 13  | \n",
    "| 40   | 8   | \n",
    "| 65   | 15  | \n",
    "| 20   | 5   | \n",
    "| 10   | 2   | \n",
    "| 15   | 2   | \n",
    "| 25   | 3   | \n",
    "| 35   | 4   | "
   ]
  },
  {
   "cell_type": "markdown",
   "metadata": {
    "colab_type": "text",
    "id": "0Do1udoOlutq"
   },
   "source": [
    "## Step 1: Let's create a Pandas dataframe with the data\n"
   ]
  },
  {
   "cell_type": "code",
   "execution_count": 2,
   "metadata": {
    "attributes": {
     "classes": [
      "R"
     ],
     "id": ""
    },
    "colab": {
     "base_uri": "https://localhost:8080/",
     "height": 363
    },
    "colab_type": "code",
    "id": "R6sKCeDblutt",
    "outputId": "472b0cc1-f8dc-4e44-e1ad-bc999fabac4a"
   },
   "outputs": [
    {
     "data": {
      "text/html": [
       "<div>\n",
       "<style scoped>\n",
       "    .dataframe tbody tr th:only-of-type {\n",
       "        vertical-align: middle;\n",
       "    }\n",
       "\n",
       "    .dataframe tbody tr th {\n",
       "        vertical-align: top;\n",
       "    }\n",
       "\n",
       "    .dataframe thead th {\n",
       "        text-align: right;\n",
       "    }\n",
       "</style>\n",
       "<table border=\"1\" class=\"dataframe\">\n",
       "  <thead>\n",
       "    <tr style=\"text-align: right;\">\n",
       "      <th></th>\n",
       "      <th>bill</th>\n",
       "      <th>tip</th>\n",
       "    </tr>\n",
       "  </thead>\n",
       "  <tbody>\n",
       "    <tr>\n",
       "      <th>0</th>\n",
       "      <td>50.0</td>\n",
       "      <td>12.0</td>\n",
       "    </tr>\n",
       "    <tr>\n",
       "      <th>1</th>\n",
       "      <td>30.0</td>\n",
       "      <td>7.0</td>\n",
       "    </tr>\n",
       "    <tr>\n",
       "      <th>2</th>\n",
       "      <td>60.0</td>\n",
       "      <td>13.0</td>\n",
       "    </tr>\n",
       "    <tr>\n",
       "      <th>3</th>\n",
       "      <td>40.0</td>\n",
       "      <td>8.0</td>\n",
       "    </tr>\n",
       "    <tr>\n",
       "      <th>4</th>\n",
       "      <td>65.0</td>\n",
       "      <td>15.0</td>\n",
       "    </tr>\n",
       "    <tr>\n",
       "      <th>5</th>\n",
       "      <td>20.0</td>\n",
       "      <td>5.0</td>\n",
       "    </tr>\n",
       "    <tr>\n",
       "      <th>6</th>\n",
       "      <td>10.0</td>\n",
       "      <td>2.0</td>\n",
       "    </tr>\n",
       "    <tr>\n",
       "      <th>7</th>\n",
       "      <td>15.0</td>\n",
       "      <td>2.0</td>\n",
       "    </tr>\n",
       "    <tr>\n",
       "      <th>8</th>\n",
       "      <td>25.0</td>\n",
       "      <td>3.0</td>\n",
       "    </tr>\n",
       "    <tr>\n",
       "      <th>9</th>\n",
       "      <td>35.0</td>\n",
       "      <td>4.0</td>\n",
       "    </tr>\n",
       "  </tbody>\n",
       "</table>\n",
       "</div>"
      ],
      "text/plain": [
       "   bill   tip\n",
       "0  50.0  12.0\n",
       "1  30.0   7.0\n",
       "2  60.0  13.0\n",
       "3  40.0   8.0\n",
       "4  65.0  15.0\n",
       "5  20.0   5.0\n",
       "6  10.0   2.0\n",
       "7  15.0   2.0\n",
       "8  25.0   3.0\n",
       "9  35.0   4.0"
      ]
     },
     "execution_count": 2,
     "metadata": {},
     "output_type": "execute_result"
    }
   ],
   "source": [
    "tip_data = pd.DataFrame({'bill' : [50.00, 30.00, 60.00, 40.00, 65.00, 20.00, 10.00, 15.00, 25.00, 35.00],\n",
    "              'tip' : [12.00, 7.00, 13.00, 8.00, 15.00, 5.00, 2.00, 2.00, 3.00, 4.00]\n",
    "             })\n",
    "\n",
    "tip_data\n"
   ]
  },
  {
   "cell_type": "markdown",
   "metadata": {
    "colab_type": "text",
    "id": "NrMI2Qxvlut4"
   },
   "source": [
    "## Step 2: Let's do a quick plot of the data\n",
    "\n",
    "Let us use matplotlib to do a quick scatter plot of the data.\n",
    "\n",
    "**=>TODO: plot the bill (X-axis), versus the tip (Y-axis)**"
   ]
  },
  {
   "cell_type": "code",
   "execution_count": 3,
   "metadata": {
    "colab": {
     "base_uri": "https://localhost:8080/",
     "height": 279
    },
    "colab_type": "code",
    "id": "V01tvEb2lut6",
    "outputId": "8962e8d1-6482-49d7-ccbd-ae9c8c62dd25",
    "scrolled": true
   },
   "outputs": [
    {
     "data": {
      "image/png": "[encoded data removed]",
      "text/plain": [
       "<Figure size 432x288 with 1 Axes>"
      ]
     },
     "metadata": {
      "needs_background": "light"
     },
     "output_type": "display_data"
    }
   ],
   "source": [
    "plt.scatter(tip_data.bill, tip_data.tip)\n",
    "plt.ylabel('tip')\n",
    "plt.xlabel('bill')\n",
    "plt.show()"
   ]
  },
  {
   "cell_type": "code",
   "execution_count": 4,
   "metadata": {
    "colab": {
     "base_uri": "https://localhost:8080/",
     "height": 54
    },
    "colab_type": "code",
    "id": "lO2iyKGbluuD",
    "outputId": "58e47ea8-fd93-401c-d3ac-2fed2550f9c0"
   },
   "outputs": [
    {
     "name": "stdout",
     "output_type": "stream",
     "text": [
      "bill = [50. 30. 60. 40. 65. 20. 10. 15. 25. 35.]\n",
      "tip = [12.  7. 13.  8. 15.  5.  2.  2.  3.  4.]\n"
     ]
    }
   ],
   "source": [
    "x = tip_data['bill'].values\n",
    "y = tip_data['tip'].values\n",
    "print('bill = ' + str(x))\n",
    "print('tip = ' + str(y))"
   ]
  },
  {
   "cell_type": "markdown",
   "metadata": {
    "colab_type": "text",
    "id": "zr2wrrsVluuP"
   },
   "source": [
    "## Step 3: Let's set up our TF Linear Regression\n",
    "\n",
    "We'll set up the TF Linear Regression."
   ]
  },
  {
   "cell_type": "code",
   "execution_count": 5,
   "metadata": {
    "colab": {},
    "colab_type": "code",
    "id": "BbXUG7AKluuR"
   },
   "outputs": [],
   "source": [
    "class TfLinreg(object):\n",
    "    \n",
    "    def __init__(self, x_dim, learning_rate=0.01,\n",
    "                 random_seed=None):\n",
    "        self.x_dim = x_dim\n",
    "        self.learning_rate = learning_rate\n",
    "        self.g = tf.Graph()\n",
    "        ## build the model\n",
    "        with self.g.as_default():\n",
    "            ## set graph-level random-seed\n",
    "            tf.set_random_seed(random_seed)\n",
    "            \n",
    "            self.build()\n",
    "            ## create initializer\n",
    "            self.init_op = tf.global_variables_initializer()\n",
    "        \n",
    "    def build(self):\n",
    "        ## define placeholders for inputs\n",
    "        self.X = tf.placeholder(dtype=tf.float32,\n",
    "                                shape=(None, self.x_dim),\n",
    "                                name='x_input')\n",
    "        self.y = tf.placeholder(dtype=tf.float32,\n",
    "                                shape=(None),\n",
    "                                name='y_input')\n",
    "        print(self.X)\n",
    "        print(self.y)\n",
    "        ## define weight matrix and bias vector\n",
    "        self.w = tf.Variable(tf.zeros(shape=(1)),\n",
    "                        name='weight')\n",
    "        self.b = tf.Variable(tf.zeros(shape=(1)), \n",
    "                        name=\"bias\")\n",
    "        print(self.w)\n",
    "        print(self.b)\n",
    "\n",
    "        self.z_net = tf.squeeze(self.w*self.X + self.b,\n",
    "                                name='z_net')\n",
    "        print(self.z_net)\n",
    "        \n",
    "        sqr_errors = tf.square(self.y - self.z_net, \n",
    "                               name='sqr_errors')\n",
    "        print(sqr_errors)\n",
    "        self.mean_cost = tf.reduce_mean(sqr_errors,\n",
    "                                        name='mean_cost')\n",
    "        \n",
    "        optimizer = tf.train.GradientDescentOptimizer(\n",
    "                    learning_rate=self.learning_rate, \n",
    "                    name='GradientDescent')\n",
    "        self.optimizer = optimizer.minimize(self.mean_cost)\n",
    "        \n",
    "# Add summaries for Tensorboard\n",
    "        tf.summary.histogram(\"weight\",self.w) \n",
    "        tf.summary.histogram(\"error\", sqr_errors)\n",
    "        self.merge =tf.summary.merge_all()"
   ]
  },
  {
   "cell_type": "code",
   "execution_count": 6,
   "metadata": {
    "colab": {},
    "colab_type": "code",
    "id": "WOdcD1Qnluue"
   },
   "outputs": [],
   "source": [
    "### TODO: instantiate model with learning rate = 0.0001"
   ]
  },
  {
   "cell_type": "code",
   "execution_count": 8,
   "metadata": {
    "colab": {
     "base_uri": "https://localhost:8080/",
     "height": 257
    },
    "colab_type": "code",
    "id": "J8LmXh11luus",
    "outputId": "2ccf9043-3b49-483a-ca49-9077b0c64d5d"
   },
   "outputs": [
    {
     "name": "stdout",
     "output_type": "stream",
     "text": [
      "Tensor(\"x_input:0\", shape=(?, 1), dtype=float32)\n",
      "Tensor(\"y_input:0\", dtype=float32)\n",
      "WARNING:tensorflow:From C:\\Users\\Amir\\AppData\\Local\\conda\\conda\\envs\\tensorflow\\lib\\site-packages\\tensorflow\\python\\framework\\op_def_library.py:263: colocate_with (from tensorflow.python.framework.ops) is deprecated and will be removed in a future version.\n",
      "Instructions for updating:\n",
      "Colocations handled automatically by placer.\n",
      "<tf.Variable 'weight:0' shape=(1,) dtype=float32_ref>\n",
      "<tf.Variable 'bias:0' shape=(1,) dtype=float32_ref>\n",
      "Tensor(\"z_net:0\", dtype=float32)\n",
      "Tensor(\"sqr_errors:0\", dtype=float32)\n",
      "WARNING:tensorflow:From C:\\Users\\Amir\\AppData\\Local\\conda\\conda\\envs\\tensorflow\\lib\\site-packages\\tensorflow\\python\\ops\\math_ops.py:3066: to_int32 (from tensorflow.python.ops.math_ops) is deprecated and will be removed in a future version.\n",
      "Instructions for updating:\n",
      "Use tf.cast instead.\n"
     ]
    }
   ],
   "source": [
    "lrmodel = TfLinreg(x_dim=1, learning_rate=???) # TODO: Fill in learning rate"
   ]
  },
  {
   "cell_type": "markdown",
   "metadata": {
    "colab_type": "text",
    "id": "pbO2O83pluu1"
   },
   "source": [
    "## Step 4: Do the Training"
   ]
  },
  {
   "cell_type": "code",
   "execution_count": 9,
   "metadata": {
    "colab": {},
    "colab_type": "code",
    "id": "tvG_d6V2luu4"
   },
   "outputs": [],
   "source": [
    "def train_linreg(sess, model, X_train, y_train, num_epochs=10):\n",
    "    sess.run(model.init_op)\n",
    "    \n",
    "    ## Don't forget to clear destination path before\n",
    "    writer = tf.summary.FileWriter(logs_path, sess.graph) # writing data on disk for tensorboard\n",
    "    training_costs = []\n",
    "    for i in range(num_epochs):\n",
    "        _, cost, summary  = sess.run([model.optimizer, model.mean_cost, model.merge], \n",
    "                           feed_dict={model.X:X_train, \n",
    "                                      model.y:y_train})\n",
    "        training_costs.append(cost)\n",
    "        \n",
    "        writer.add_summary(summary, i )\n",
    "\n",
    "        \n",
    "        if IN_COLAB:\n",
    "            summary_writer = tbc.get_writer()\n",
    "            summary_writer.add_graph(sess.graph)# saving data on google colab\n",
    "        \n",
    "        \n",
    "    return training_costs"
   ]
  },
  {
   "cell_type": "code",
   "execution_count": 10,
   "metadata": {
    "colab": {},
    "colab_type": "code",
    "id": "SFCZlceJluu9"
   },
   "outputs": [],
   "source": [
    "\n",
    "sess = tf.Session(graph=lrmodel.g)\n",
    "training_costs = train_linreg(sess, lrmodel, x.reshape(10,1),y)"
   ]
  },
  {
   "cell_type": "markdown",
   "metadata": {},
   "source": [
    "### Now we run the TensorBaord\n",
    "#### Local:\n",
    "\n",
    "Now run the following command on a bash\n",
    "\n",
    "```bash\n",
    "$ tensorboard --logdir=/tmp/tensorflow_logs\n",
    "```\n",
    "Then open the browser(Chrome) and insert this address\n",
    "\n",
    "```bash\n",
    "localhost:6006\n",
    "```\n",
    "\n",
    "#### Google colab\n",
    "\n",
    "\n",
    "\n",
    "Click on the link you had got at the first step\n",
    "\n",
    "![](../images/tb_colab.png)"
   ]
  },
  {
   "cell_type": "markdown",
   "metadata": {
    "colab_type": "text",
    "id": "nxMfDtXiluvI"
   },
   "source": [
    "## Step 5: Look at the Loss Curve"
   ]
  },
  {
   "cell_type": "code",
   "execution_count": null,
   "metadata": {
    "colab": {},
    "colab_type": "code",
    "id": "17x7Jo01luvJ",
    "outputId": "6efd90b1-9e8a-4478-9f82-c70eb034922b"
   },
   "outputs": [],
   "source": [
    "import matplotlib.pyplot as plt\n",
    "\n",
    "plt.plot(range(1,len(training_costs) + 1), training_costs)\n",
    "plt.tight_layout()\n",
    "plt.xlabel('Epoch')\n",
    "plt.ylabel('Training Cost')\n",
    "#plt.savefig('images/13_01.png', dpi=300)\n",
    "plt.show()"
   ]
  },
  {
   "cell_type": "markdown",
   "metadata": {
    "colab_type": "text",
    "id": "oZqrSx0QluvU"
   },
   "source": [
    "## Step 6: Look at the result of the plot"
   ]
  },
  {
   "cell_type": "code",
   "execution_count": null,
   "metadata": {
    "colab": {},
    "colab_type": "code",
    "id": "pNg9pelJluvV"
   },
   "outputs": [],
   "source": [
    "def predict_linreg(sess, model, X_test):\n",
    "    y_pred = sess.run(model.z_net, \n",
    "                      feed_dict={model.X:X_test})\n",
    "    return y_pred"
   ]
  },
  {
   "cell_type": "code",
   "execution_count": null,
   "metadata": {
    "colab": {},
    "colab_type": "code",
    "id": "2139Gv7xluvc",
    "outputId": "abe5e858-08a6-4f1b-d079-8465837a951c"
   },
   "outputs": [],
   "source": [
    "plt.scatter(x, y,\n",
    "            marker='s', s=50,\n",
    "            label='Training Data')\n",
    "plt.plot(x, \n",
    "         predict_linreg(sess, lrmodel, x.reshape(10,1)),\n",
    "         color='gray', marker='o', \n",
    "         markersize=6, linewidth=3,\n",
    "         label='LinReg Model')\n",
    "plt.xlabel('x')\n",
    "plt.ylabel('y')\n",
    "plt.legend()\n",
    "plt.tight_layout()\n",
    "plt.show()"
   ]
  },
  {
   "cell_type": "markdown",
   "metadata": {
    "colab_type": "text",
    "id": "kr32kXp4luvp"
   },
   "source": [
    "### Step 6: Get Weight and Bias Variables for future reference\n",
    "\n",
    "Let's save the weight and bias variables because we will need htem."
   ]
  },
  {
   "cell_type": "code",
   "execution_count": null,
   "metadata": {
    "colab": {},
    "colab_type": "code",
    "id": "nxL2sHa8luvs"
   },
   "outputs": [],
   "source": [
    "def get_weight_bias(sess, model):\n",
    "    return sess.run((model.w[0], model.b[0]))\n",
    "    \n",
    "weight,bias = get_weight_bias(sess,lrmodel)"
   ]
  },
  {
   "cell_type": "markdown",
   "metadata": {
    "colab_type": "text",
    "id": "ZMRyCK45luv1"
   },
   "source": [
    "## Step 7: Plot the fit line (abline)\n",
    "\n",
    "**=>TODO: Do a scatterplot of bill versus tip **"
   ]
  },
  {
   "cell_type": "code",
   "execution_count": null,
   "metadata": {
    "colab": {},
    "colab_type": "code",
    "id": "5rjrK0D3luv8",
    "outputId": "902694e2-0447-49a6-a778-5bc1c025c067"
   },
   "outputs": [],
   "source": [
    "# Create a list of values in the best fit line\n",
    "# TODO: Fill in gradient and intercept in formula\n",
    "abline_values = [??? * i + ??? for i in tip_data.bill]\n",
    "\n",
    "# Plot the best fit line over the actual values\n",
    "plt.scatter(tip_data.bill, tip_data.tip)\n",
    "plt.plot(tip_data.bill, abline_values, 'b')\n",
    "plt.ylabel('tip')\n",
    "plt.xlabel('bill')\n",
    "plt.title(\"Fit Line\")\n",
    "plt.show()"
   ]
  },
  {
   "cell_type": "code",
   "execution_count": null,
   "metadata": {
    "colab": {},
    "colab_type": "code",
    "id": "jTzO9T2NluwG"
   },
   "outputs": [],
   "source": [
    "# Make a prediction using the slope and the intercept\n",
    "y_pred = tip_data.bill.values.reshape(10,1)\n",
    "y_test = tip_data.tip.values.reshape(10,1)\n",
    "\n",
    "\n"
   ]
  },
  {
   "cell_type": "markdown",
   "metadata": {
    "colab_type": "text",
    "id": "-g5UwOtIluwP"
   },
   "source": [
    "## Step 8: Use the predict() function to plot abline\n"
   ]
  },
  {
   "cell_type": "code",
   "execution_count": null,
   "metadata": {
    "colab": {},
    "colab_type": "code",
    "id": "sfCHn4hmluwT"
   },
   "outputs": [],
   "source": [
    "plt.scatter(x, y,\n",
    "            marker='s', s=50,\n",
    "            label='Training Data')\n",
    "plt.plot(x, \n",
    "         predict_linreg(sess, lrmodel, x.reshape(10,1)),\n",
    "         color='gray', marker='o', \n",
    "         markersize=6, linewidth=3,\n",
    "         label='LinReg Model')\n",
    "plt.xlabel('x')\n",
    "plt.ylabel('y')\n",
    "plt.legend()\n",
    "plt.tight_layout()\n",
    "plt.show()"
   ]
  },
  {
   "cell_type": "markdown",
   "metadata": {
    "colab_type": "text",
    "id": "ykPjroTBluwf"
   },
   "source": [
    "## Step 9: Plot the residuals\n",
    "\n",
    "Residuals are the error, or difference between the model predicted and model actual.  We'd like these to be as small as possible, with residuals roughly balanced.   We don't want a model that consistently predicts values too high or too low.\n",
    "\n",
    "**=>TODO: do a plot of the bill (x-value) versus residuals (y-value) **"
   ]
  },
  {
   "cell_type": "code",
   "execution_count": null,
   "metadata": {
    "colab": {},
    "colab_type": "code",
    "id": "RsBBYcpqluwh"
   },
   "outputs": [],
   "source": [
    "resid = (??? * tip_data.bill + ???) - tip_data.tip"
   ]
  },
  {
   "cell_type": "code",
   "execution_count": null,
   "metadata": {
    "colab": {},
    "colab_type": "code",
    "id": "R2n1250nluwo"
   },
   "outputs": [],
   "source": [
    "plt.scatter(tip_data.bill, resid)\n",
    "plt.axhline(y=0, color='r', linestyle='-')  # horizon\n",
    "plt.ylabel('Residuals')\n",
    "plt.xlabel('bill')\n",
    "plt.title(\"Residuals\")\n",
    "plt.show()\n",
    "\n",
    "\n"
   ]
  },
  {
   "cell_type": "markdown",
   "metadata": {
    "colab_type": "text",
    "id": "EqOIWIdpluws"
   },
   "source": [
    "## Step 10 : Identify Coefficients\n",
    "\n",
    "### Intercept and Slope\n",
    "We can see them from output"
   ]
  },
  {
   "cell_type": "markdown",
   "metadata": {
    "attributes": {
     "classes": [
      "console"
     ],
     "id": ""
    },
    "colab_type": "text",
    "collapsed": true,
    "id": "weTqWiIEluwt"
   },
   "source": [
    "Coefficients:\n",
    "            Estimate \n",
    "(Intercept) -0.8217112049846651\n",
    "bill        0.226334605857"
   ]
  },
  {
   "cell_type": "markdown",
   "metadata": {
    "colab_type": "text",
    "id": "-QELeIzSluw1"
   },
   "source": [
    "- **Slope** (of line) : ** 0.226334605857**\n",
    "- **Intercept** (where line meets Y-axis) : **-0.8217112049846651**  (below zero line)\n",
    "\n",
    "We can also get these programatically.  \n",
    "If `tip = a * amount + b`"
   ]
  },
  {
   "cell_type": "code",
   "execution_count": null,
   "metadata": {
    "attributes": {
     "classes": [
      "R"
     ],
     "id": ""
    },
    "colab": {},
    "colab_type": "code",
    "id": "6mcil15bluw6"
   },
   "outputs": [],
   "source": [
    "\n",
    "# Print the coefficients and intercept for linear regression\n",
    "print(\"Coefficients: %s\" % str(weight))\n",
    "print(\"Intercept: %s\" % str(bias))\n",
    "\n",
    "a = weight\n",
    "b = bias\n"
   ]
  },
  {
   "cell_type": "markdown",
   "metadata": {
    "colab_type": "text",
    "id": "3sv8YsZdluxC"
   },
   "source": [
    "**==>  Question : Does bill amount influence tip amount? (are they strongly linked?) **\n",
    "\n",
    "\n",
    "**==>  Question : How would you find this out?) **\n",
    "\n",
    "\n",
    "\n"
   ]
  },
  {
   "cell_type": "markdown",
   "metadata": {
    "colab_type": "text",
    "id": "NtduS-_7luxF"
   },
   "source": [
    "### TODO: Calcluate Tip for 100 bill."
   ]
  },
  {
   "cell_type": "code",
   "execution_count": null,
   "metadata": {
    "attributes": {
     "classes": [
      "R"
     ],
     "id": ""
    },
    "colab": {},
    "colab_type": "code",
    "id": "pFK8piDMluxG"
   },
   "outputs": [],
   "source": [
    "tip_for_100 = ??? * 100 + ??? \n",
    "print(tip_for_100)\n"
   ]
  },
  {
   "cell_type": "markdown",
   "metadata": {
    "colab_type": "text",
    "id": "SCYoHc6nluxP"
   },
   "source": [
    "## Step 12: Add a estimated_tip column to pandas dataframe\n",
    "\n",
    "**=>TODO: create a new pandas column called est_tip **"
   ]
  },
  {
   "cell_type": "code",
   "execution_count": null,
   "metadata": {
    "attributes": {
     "classes": [
      "R"
     ],
     "id": ""
    },
    "colab": {},
    "colab_type": "code",
    "id": "opfSte98luxS"
   },
   "outputs": [],
   "source": [
    "tip_data['est_tip'] =  ???\n",
    "tip_data"
   ]
  },
  {
   "cell_type": "markdown",
   "metadata": {
    "colab_type": "text",
    "id": "lCrQKWcNluxY"
   },
   "source": [
    "## Step 13: Perform a prediction\n",
    "\n",
    "\n",
    "Let's try to run a prediction on some data: $45.00, $55.00, and $65.00 \n",
    "\n",
    "\n",
    "**=>TODO: use predict function from above **"
   ]
  },
  {
   "cell_type": "code",
   "execution_count": null,
   "metadata": {
    "colab": {},
    "colab_type": "code",
    "id": "EK8WaAJMluxb",
    "scrolled": true
   },
   "outputs": [],
   "source": [
    "test_data_pd = pd.DataFrame({'bill' : [45., 55., 65.,]\n",
    "             })\n",
    "\n",
    "test_data_pd['predicted_tip'] = ??? # What do we do to do a prediction??\n",
    "\n",
    "\n",
    "\n",
    "test_data_pd"
   ]
  },
  {
   "cell_type": "markdown",
   "metadata": {
    "colab_type": "text",
    "id": "DqFK5ni5oI75"
   },
   "source": []
  }
 ],
 "metadata": {
  "colab": {
   "collapsed_sections": [],
   "name": "3.2-lr-tips.ipynb",
   "provenance": [],
   "version": "0.3.2"
  },
  "kernelspec": {
   "display_name": "Python 3",
   "language": "python",
   "name": "python3"
  },
  "language_info": {
   "codemirror_mode": {
    "name": "ipython",
    "version": 3
   },
   "file_extension": ".py",
   "mimetype": "text/x-python",
   "name": "python",
   "nbconvert_exporter": "python",
   "pygments_lexer": "ipython3",
   "version": "3.7.3"
  }
 },
 "nbformat": 4,
 "nbformat_minor": 1
}
