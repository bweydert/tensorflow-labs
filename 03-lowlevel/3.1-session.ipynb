{
 "cells": [
  {
   "cell_type": "markdown",
   "metadata": {},
   "source": [
    "\n",
    "# Lab 3.1 : Understanding Tensorflow Sessions\n",
    "\n",
    "### Overview\n",
    "We will be running Tensorflow in a single node mode.\n",
    "\n",
    "### Depends On\n",
    "None\n",
    "\n",
    "### Run time\n",
    "20 mins\n",
    "\n",
    "## STEP 0: To Instructor\n",
    "Please go through this lab on 'screen' first.\n",
    "\n",
    "## STEP 1: Login to your Tensorflow node\n",
    "Instructor will provide details\n",
    "\n",
    "## STEP 2: Defining some Constants\n",
    "\n",
    "Let's try to define some constants in tensorflow.  Try defining the following constants\n",
    "\n"
   ]
  },
  {
   "cell_type": "code",
   "execution_count": null,
   "metadata": {},
   "outputs": [],
   "source": [
    "import tensorflow as tf\n",
    "import numpy as np"
   ]
  },
  {
   "cell_type": "markdown",
   "metadata": {},
   "source": [
    "If you see an error in executing the cell, you probably don't have tensorflow installed, or are not using the proper virtual environment.  Please see "
   ]
  },
  {
   "cell_type": "code",
   "execution_count": null,
   "metadata": {},
   "outputs": [],
   "source": [
    "# Constant\n",
    "constant1 = tf.constant(1.0, tf.float32)  #constant value: 1.0\n",
    "constant2= tf.constant(2.0, tf.float32)   #constant value: 2.0"
   ]
  },
  {
   "cell_type": "markdown",
   "metadata": {},
   "source": [
    "## STEP 3: Try to see the value of your constants\n",
    "\n",
    "Try seeing the value of your constants, by running the next cell."
   ]
  },
  {
   "cell_type": "code",
   "execution_count": null,
   "metadata": {},
   "outputs": [],
   "source": [
    "constant1"
   ]
  },
  {
   "cell_type": "markdown",
   "metadata": {},
   "source": [
    "Was that what you expected?  Where is value 1.0? \n",
    "\n",
    "You should see the following output\n",
    "\n",
    "```console\n",
    "   <tf.Tensor 'Const:0' shape=() dtype=float32>\n",
    "```\n",
    "\n",
    "It turns out that tensorflow constants don't show up this way.  They will only show up when we run the session.  The session consists of a graph of actions.\n",
    "\n",
    "## Step 4: Run the DAG in Session to see the constants"
   ]
  },
  {
   "cell_type": "code",
   "execution_count": null,
   "metadata": {},
   "outputs": [],
   "source": [
    "s = tf.Session()  #Initialize a session\n",
    "s.run([constant1, constant2])  #Pass in a tensor as a vector with 2 const\n"
   ]
  },
  {
   "cell_type": "markdown",
   "metadata": {},
   "source": [
    "Aha!  There they are.  You should have seen the following.\n",
    "\n",
    "```console\n",
    "[1.0, 2.0]\n",
    "```\n",
    "\n",
    "Congradulations!  You have just run your very first tensorflow program.  Albeit a trivially simple one."
   ]
  },
  {
   "cell_type": "markdown",
   "metadata": {},
   "source": [
    "## Step 5: Use Add() to add constants together\n",
    "\n",
    "Let's try to do an actual operation.  We will use the tf.add() to add constants together.\n",
    "\n",
    "Remember. Nothing will happen until we call run() on our session."
   ]
  },
  {
   "cell_type": "code",
   "execution_count": null,
   "metadata": {},
   "outputs": [],
   "source": [
    "summed = tf.add(constant1, constant2)\n",
    "summed"
   ]
  },
  {
   "cell_type": "code",
   "execution_count": null,
   "metadata": {},
   "outputs": [],
   "source": [
    "s.run(summed)"
   ]
  },
  {
   "cell_type": "markdown",
   "metadata": {},
   "source": [
    "Yes! We just found out that 1+2=3!  Isn't tensorflow amazing? ;-)\n",
    "\n",
    "## Step 6: Use Multiply() to multiply constats together\n",
    "\n",
    "Ok, now it's your turn.  Use what you learned from add() to do a similar operation on multiply()"
   ]
  },
  {
   "cell_type": "code",
   "execution_count": null,
   "metadata": {},
   "outputs": [],
   "source": [
    "# TODO: use tf.multiply() to multiply the constants together.\n",
    "multiplied = ???\n",
    "s.run(???)"
   ]
  },
  {
   "cell_type": "markdown",
   "metadata": {},
   "source": [
    "## Step 7: See the Default Session Graph\n",
    "\n",
    "There's a difference between the `Session` and the `InteractiveSession`.  The `InteractiveSession` will make this the default session. \n"
   ]
  },
  {
   "cell_type": "code",
   "execution_count": null,
   "metadata": {},
   "outputs": [],
   "source": [
    "# Run this \"helper\" code to visualize the session graph.\n",
    "\n",
    "from IPython.display import clear_output, Image, display, HTML\n",
    "\n",
    "def strip_consts(graph_def, max_const_size=32):\n",
    "    \"\"\"Strip large constant values from graph_def.\"\"\"\n",
    "    strip_def = tf.GraphDef()\n",
    "    for n0 in graph_def.node:\n",
    "        n = strip_def.node.add() \n",
    "        n.MergeFrom(n0)\n",
    "        if n.op == 'Const':\n",
    "            tensor = n.attr['value'].tensor\n",
    "            size = len(tensor.tensor_content)\n",
    "            if size > max_const_size:\n",
    "                tensor.tensor_content = \"b<stripped %d bytes>\"%size\n",
    "    return strip_def\n",
    "\n",
    "def show_graph(graph_def, max_const_size=32):\n",
    "    \"\"\"Visualize TensorFlow graph.\"\"\"\n",
    "    if hasattr(graph_def, 'as_graph_def'):\n",
    "        graph_def = graph_def.as_graph_def()\n",
    "    strip_def = strip_consts(graph_def, max_const_size=max_const_size)\n",
    "    code = \"\"\"\n",
    "        <script>\n",
    "          function load() {{\n",
    "            document.getElementById(\"{id}\").pbtxt = {data};\n",
    "          }}\n",
    "        </script>\n",
    "        <link rel=\"import\" href=\"https://tensorboard.appspot.com/tf-graph-basic.build.html\" onload=load()>\n",
    "        <div style=\"height:600px\">\n",
    "          <tf-graph-basic id=\"{id}\"></tf-graph-basic>\n",
    "        </div>\n",
    "    \"\"\".format(data=repr(str(strip_def)), id='graph'+str(np.random.rand()))\n",
    "\n",
    "    iframe = \"\"\"\n",
    "        <iframe seamless style=\"width:1200px;height:620px;border:0\" srcdoc=\"{}\"></iframe>\n",
    "    \"\"\".format(code.replace('\"', '&quot;'))\n",
    "    display(HTML(iframe))"
   ]
  },
  {
   "cell_type": "markdown",
   "metadata": {},
   "source": [
    "### Run the following cell block:\n",
    "\n",
    "This will create a new session and show you the results."
   ]
  },
  {
   "cell_type": "code",
   "execution_count": null,
   "metadata": {
    "scrolled": true
   },
   "outputs": [],
   "source": [
    "sess2 = tf.InteractiveSession()\n",
    "a = tf.constant(5.0)\n",
    "b = tf.constant(6.0)\n",
    "c = a + b\n",
    "# We can just use 'c.eval()' without passing 'sess'\n",
    "print(c.eval())\n",
    "\n",
    "show_graph(tf.get_default_graph())\n",
    "\n",
    "sess2.close()"
   ]
  },
  {
   "cell_type": "markdown",
   "metadata": {},
   "source": [
    "**TODO** Try making your own session, do something, and look at your new session graph:"
   ]
  },
  {
   "cell_type": "code",
   "execution_count": null,
   "metadata": {},
   "outputs": [],
   "source": [
    "sess2 = tf.InteractiveSession()\n",
    "\n",
    "## TODO: Do Something HERE\n",
    "\n",
    "## TODO: Instantiate some constants \n",
    "\n",
    "## TODO: Do an operation (add, mul)\n",
    "\n",
    "show_graph(tf.get_default_graph())\n",
    "\n",
    "sess2.close()"
   ]
  },
  {
   "cell_type": "markdown",
   "metadata": {},
   "source": [
    "\n",
    "## Step 7: Set up a Parameterized Lambda Function\n",
    "\n",
    "We can set up a parameterized lambda function by using placeholders.  Placeholders are like variables to our funciton.\n"
   ]
  },
  {
   "cell_type": "code",
   "execution_count": null,
   "metadata": {},
   "outputs": [],
   "source": [
    "param1 = tf.placeholder(tf.float32)\n",
    "param2 = tf.placeholder(tf.float32)\n",
    "\n",
    "plus = param1 + param2 \n",
    "s.run(plus, {param1: 1.0, param2: 2.0})"
   ]
  },
  {
   "cell_type": "markdown",
   "metadata": {},
   "source": [
    "## Step 8: Define a variable\n",
    "\n",
    "So far, we have only defined constants.  Constants are values that can never change (immutable). We can set variables to mutable values. These are used in Tensorflow to specify variables.\n",
    "\n",
    "These are used to maintain state in your application."
   ]
  },
  {
   "cell_type": "code",
   "execution_count": null,
   "metadata": {},
   "outputs": [],
   "source": [
    "sess2.close()\n",
    "tf.reset_default_graph()\n",
    "\n",
    "sess2 = tf.InteractiveSession()\n",
    "my_count = tf.get_variable(\"my_count\", dtype=tf.int32, trainable=False, initializer=tf.constant(0))\n",
    "sess2.run(tf.initializers.global_variables())\n",
    "# We can just use 'c.eval()' without passing 'sess'\n",
    "print(my_count.eval())\n",
    "increment_my_count = tf.assign(my_count, my_count+1)\n",
    "\n",
    "print(increment_my_count.eval())\n",
    "\n",
    "show_graph(tf.get_default_graph())\n",
    "\n",
    "sess2.close()\n",
    "\n"
   ]
  },
  {
   "cell_type": "markdown",
   "metadata": {},
   "source": [
    "## Step 9: Try out Eager Execution\n",
    "\n",
    "So far, we've explained about Tensorflow's session architecture. This mode, while confusing at first, allows TensorFlow to optimize for parallelization.\n",
    "\n",
    "However, sometimes we would rather just have the more familiar \"instant\" evaluation, as we are used to in vanilla python.  This is great for interactive exploratory analysis, in which raw speed is not our primary concern. \n",
    "\n",
    "Eager Evaluation also makes it easy to go back and forth between numpy and tensorflow tensors.\n"
   ]
  },
  {
   "cell_type": "code",
   "execution_count": null,
   "metadata": {},
   "outputs": [],
   "source": [
    "import tensorflow as tf\n",
    "\n",
    "tf.enable_eager_execution()"
   ]
  },
  {
   "cell_type": "code",
   "execution_count": null,
   "metadata": {},
   "outputs": [],
   "source": [
    "print(tf.add(1, 2))  # Note that the value is immediately evaluated!!\n",
    "print(tf.add([1, 2], [3, 4]))\n",
    "print(tf.square(5))\n",
    "print(tf.reduce_sum([1, 2, 3]))\n",
    "print(tf.encode_base64(\"hello world\"))\n",
    "\n",
    "# Operator overloading is also supported\n",
    "print(tf.square(2) + tf.square(3))"
   ]
  },
  {
   "cell_type": "code",
   "execution_count": null,
   "metadata": {},
   "outputs": [],
   "source": [
    "### Converting between Numpy Arrays and TF Tensors in eager evaluation\n",
    "import numpy as np\n",
    "\n",
    "ndarray = np.ones([3, 3])\n",
    "\n",
    "print(\"TensorFlow operations convert numpy arrays to Tensors automatically\")\n",
    "tensor = tf.multiply(ndarray, 42)\n",
    "print(tensor)\n",
    "\n",
    "\n",
    "print(\"And NumPy operations convert Tensors to numpy arrays automatically\")\n",
    "print(np.add(tensor, 1))\n",
    "\n",
    "print(\"The .numpy() method explicitly converts a Tensor to a numpy array\")\n",
    "print(tensor.numpy())"
   ]
  },
  {
   "cell_type": "code",
   "execution_count": null,
   "metadata": {},
   "outputs": [],
   "source": []
  }
 ],
 "metadata": {
  "kernelspec": {
   "display_name": "Python 3",
   "language": "python",
   "name": "python3"
  },
  "language_info": {
   "codemirror_mode": {
    "name": "ipython",
    "version": 3
   },
   "file_extension": ".py",
   "mimetype": "text/x-python",
   "name": "python",
   "nbconvert_exporter": "python",
   "pygments_lexer": "ipython3",
   "version": "3.6.5"
  }
 },
 "nbformat": 4,
 "nbformat_minor": 1
}
