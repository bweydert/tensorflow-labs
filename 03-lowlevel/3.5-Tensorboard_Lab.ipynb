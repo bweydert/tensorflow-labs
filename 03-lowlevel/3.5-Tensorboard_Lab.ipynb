{
 "cells": [
  {
   "cell_type": "markdown",
   "metadata": {
    "colab_type": "text",
    "id": "8W31zbSPYi0X"
   },
   "source": [
    "# Lab: Visualizing Learning With Tensorboard\n",
    "\n",
    "### Overview\n",
    "Introducing a suit of visualization tools\n",
    "\n",
    "### Runtime\n",
    "30 mins"
   ]
  },
  {
   "cell_type": "markdown",
   "metadata": {
    "colab_type": "text",
    "id": "TtcUpia3Yi0k"
   },
   "source": [
    "\n",
    "# MNIST Dataset Introduction\n",
    "\n",
    "Most examples are using MNIST dataset of handwritten digits. The dataset contains 60,000 examples for training and 10,000 examples for testing. The digits have been size-normalized and centered in a fixed-size image (28x28 pixels) with values from 0 to 1. For simplicity, each image has been flatten and converted to a 1-D numpy array of 784 features (28*28).\n",
    "\n",
    "## Overview\n",
    "\n",
    "![MNIST Digits](http://neuralnetworksanddeeplearning.com/images/mnist_100_digits.png)\n",
    "\n",
    "## Usage\n",
    "In our examples, we are using TensorFlow [input_data.py](https://github.com/tensorflow/tensorflow/blob/r0.7/tensorflow/examples/tutorials/mnist/input_data.py) script to load that dataset.\n",
    "It is quite useful for managing our data, and handle:\n",
    "\n",
    "- Dataset downloading\n",
    "\n",
    "- Loading the entire dataset into numpy array: \n",
    "\n",
    "\n"
   ]
  },
  {
   "cell_type": "markdown",
   "metadata": {
    "colab_type": "text",
    "id": "R02iNK-uYi0r"
   },
   "source": [
    "## Start"
   ]
  },
  {
   "cell_type": "code",
   "execution_count": 1,
   "metadata": {
    "colab": {
     "base_uri": "https://localhost:8080/",
     "height": 90
    },
    "colab_type": "code",
    "id": "6Ikr7ScnYi1U",
    "outputId": "53e32c7c-a6b4-4848-be43-6bef453c41ed"
   },
   "outputs": [],
   "source": [
    "try:\n",
    "    import google.colab\n",
    "    IN_COLAB = True\n",
    "except:\n",
    "    IN_COLAB = False\n",
    "if IN_COLAB == True:\n",
    "    !pip install -U tensorboardcolab\n",
    "    from tensorboardcolab import *\n",
    "    tbc=TensorBoardColab()\n"
   ]
  },
  {
   "cell_type": "markdown",
   "metadata": {
    "colab_type": "text",
    "id": "sAokddN7Yi1k"
   },
   "source": [
    "#### In this section we are going to download the dataset from the website"
   ]
  },
  {
   "cell_type": "code",
   "execution_count": 2,
   "metadata": {
    "colab": {
     "base_uri": "https://localhost:8080/",
     "height": 441
    },
    "colab_type": "code",
    "id": "mQha0idSYi1m",
    "outputId": "2dc93f10-7117-4041-99b6-044fe38fcc76"
   },
   "outputs": [
    {
     "name": "stdout",
     "output_type": "stream",
     "text": [
      "WARNING:tensorflow:From <ipython-input-2-09eb4cc54fb7>:5: read_data_sets (from tensorflow.contrib.learn.python.learn.datasets.mnist) is deprecated and will be removed in a future version.\n",
      "Instructions for updating:\n",
      "Please use alternatives such as official/mnist/dataset.py from tensorflow/models.\n",
      "WARNING:tensorflow:From C:\\Users\\Amir\\AppData\\Local\\conda\\conda\\envs\\tensorflow\\lib\\site-packages\\tensorflow\\contrib\\learn\\python\\learn\\datasets\\mnist.py:260: maybe_download (from tensorflow.contrib.learn.python.learn.datasets.base) is deprecated and will be removed in a future version.\n",
      "Instructions for updating:\n",
      "Please write your own downloading logic.\n",
      "WARNING:tensorflow:From C:\\Users\\Amir\\AppData\\Local\\conda\\conda\\envs\\tensorflow\\lib\\site-packages\\tensorflow\\contrib\\learn\\python\\learn\\datasets\\mnist.py:262: extract_images (from tensorflow.contrib.learn.python.learn.datasets.mnist) is deprecated and will be removed in a future version.\n",
      "Instructions for updating:\n",
      "Please use tf.data to implement this functionality.\n",
      "Extracting /tmp/data/train-images-idx3-ubyte.gz\n",
      "WARNING:tensorflow:From C:\\Users\\Amir\\AppData\\Local\\conda\\conda\\envs\\tensorflow\\lib\\site-packages\\tensorflow\\contrib\\learn\\python\\learn\\datasets\\mnist.py:267: extract_labels (from tensorflow.contrib.learn.python.learn.datasets.mnist) is deprecated and will be removed in a future version.\n",
      "Instructions for updating:\n",
      "Please use tf.data to implement this functionality.\n",
      "Extracting /tmp/data/train-labels-idx1-ubyte.gz\n",
      "WARNING:tensorflow:From C:\\Users\\Amir\\AppData\\Local\\conda\\conda\\envs\\tensorflow\\lib\\site-packages\\tensorflow\\contrib\\learn\\python\\learn\\datasets\\mnist.py:110: dense_to_one_hot (from tensorflow.contrib.learn.python.learn.datasets.mnist) is deprecated and will be removed in a future version.\n",
      "Instructions for updating:\n",
      "Please use tf.one_hot on tensors.\n",
      "Extracting /tmp/data/t10k-images-idx3-ubyte.gz\n",
      "Extracting /tmp/data/t10k-labels-idx1-ubyte.gz\n",
      "WARNING:tensorflow:From C:\\Users\\Amir\\AppData\\Local\\conda\\conda\\envs\\tensorflow\\lib\\site-packages\\tensorflow\\contrib\\learn\\python\\learn\\datasets\\mnist.py:290: DataSet.__init__ (from tensorflow.contrib.learn.python.learn.datasets.mnist) is deprecated and will be removed in a future version.\n",
      "Instructions for updating:\n",
      "Please use alternatives such as official/mnist/dataset.py from tensorflow/models.\n"
     ]
    }
   ],
   "source": [
    "from __future__ import print_function\n",
    "\n",
    "import tensorflow as tf\n",
    "from tensorflow.examples.tutorials.mnist import input_data\n",
    "mnist = input_data.read_data_sets(\"/tmp/data/\", one_hot=True)"
   ]
  },
  {
   "cell_type": "markdown",
   "metadata": {
    "colab_type": "text",
    "id": "l97GXMBlYi1y"
   },
   "source": [
    "#### Then we need to set and define all parameteres needed for the lab"
   ]
  },
  {
   "cell_type": "code",
   "execution_count": 3,
   "metadata": {
    "colab": {
     "base_uri": "https://localhost:8080/",
     "height": 92
    },
    "colab_type": "code",
    "id": "5tlDpv4kYi10",
    "outputId": "dd4301a8-8885-4791-96ac-d62afe2e24a2"
   },
   "outputs": [
    {
     "name": "stdout",
     "output_type": "stream",
     "text": [
      "WARNING:tensorflow:From C:\\Users\\Amir\\AppData\\Local\\conda\\conda\\envs\\tensorflow\\lib\\site-packages\\tensorflow\\python\\framework\\op_def_library.py:263: colocate_with (from tensorflow.python.framework.ops) is deprecated and will be removed in a future version.\n",
      "Instructions for updating:\n",
      "Colocations handled automatically by placer.\n"
     ]
    }
   ],
   "source": [
    "learn_rate = 0.01                                                              \n",
    "train_epochs = 25                                                           \n",
    "batch_size = 100\n",
    "display_epoch = 1\n",
    "logs_path = '/tmp/tensorflow_logs/example/'\n",
    "\n",
    "# mnist data image : 28*28=784\n",
    "x = tf.placeholder(tf.float32, [None, 784], name='Input')\n",
    "\n",
    "# We have 0-9 digits \n",
    "y = tf.placeholder(tf.float32, [None, 10], name='Label')\n",
    "\n",
    "# Setting model weights\n",
    "W = tf.Variable(tf.zeros([784, 10]), name='Weight')\n",
    "b = tf.Variable(tf.zeros([10]), name='Bias')"
   ]
  },
  {
   "cell_type": "markdown",
   "metadata": {
    "colab_type": "text",
    "id": "b2v9pfyYYi17"
   },
   "source": [
    "#### Now it's time to construct the model. Encapsulation will be applied for TensorBoard graph "
   ]
  },
  {
   "cell_type": "code",
   "execution_count": 4,
   "metadata": {
    "colab": {
     "base_uri": "https://localhost:8080/",
     "height": 92
    },
    "colab_type": "code",
    "id": "OcRBV4vgYi2A",
    "outputId": "018eddaa-b860-455c-86b6-8e41028620ab"
   },
   "outputs": [
    {
     "name": "stdout",
     "output_type": "stream",
     "text": [
      "WARNING:tensorflow:From C:\\Users\\Amir\\AppData\\Local\\conda\\conda\\envs\\tensorflow\\lib\\site-packages\\tensorflow\\python\\ops\\math_ops.py:3066: to_int32 (from tensorflow.python.ops.math_ops) is deprecated and will be removed in a future version.\n",
      "Instructions for updating:\n",
      "Use tf.cast instead.\n"
     ]
    }
   ],
   "source": [
    "with tf.name_scope('Model'):\n",
    "    # Model with softmax algorithm\n",
    "    pred = tf.nn.softmax(tf.matmul(x, W) + b)\n",
    "    \n",
    "with tf.name_scope('Loss'):\n",
    "    # Minimizing error using cross entropy\n",
    "    cost = tf.reduce_mean(-tf.reduce_sum(y * tf.log(pred), reduction_indices=1))\n",
    "    \n",
    "with tf.name_scope('SGD'):\n",
    "    # Using gradient descent\n",
    "    optimizer = tf.train.GradientDescentOptimizer(learn_rate).minimize(cost)\n",
    "    \n",
    "with tf.name_scope('Accuracy'):\n",
    "    # Accuracy\n",
    "    acc = tf.equal(tf.argmax(pred, 1), tf.argmax(y, 1))\n",
    "    acc = tf.reduce_mean(tf.cast(acc, tf.float32))\n",
    "\n",
    "# Initializing the variables\n",
    "init = tf.global_variables_initializer()\n",
    "\n",
    "# Creating a summary to monitor cost tensor\n",
    "tf.summary.scalar(\"loss\", cost)\n",
    "\n",
    "# Creating a summary to monitor accuracy tensor\n",
    "tf.summary.scalar(\"accuracy\", acc)\n",
    "\n",
    "# Creating a summary to monitor weight tensor\n",
    "tf.summary.histogram(\"Weight\", W)\n",
    "\n",
    "# Creating a summary to monitor bias tensor\n",
    "tf.summary.histogram(\"Bias\", b)\n",
    "\n",
    "# Merging all summaries into a single op\n",
    "merged_summary_op = tf.summary.merge_all()"
   ]
  },
  {
   "cell_type": "markdown",
   "metadata": {
    "colab_type": "text",
    "id": "dlnxA8dkYi2I"
   },
   "source": [
    "### Training time"
   ]
  },
  {
   "cell_type": "code",
   "execution_count": 5,
   "metadata": {
    "colab": {
     "base_uri": "https://localhost:8080/",
     "height": 513
    },
    "colab_type": "code",
    "id": "Gl_LtW12Yi2K",
    "outputId": "8e1a163c-952e-4fbc-c2d0-dabc8a2f5207",
    "scrolled": false
   },
   "outputs": [
    {
     "name": "stdout",
     "output_type": "stream",
     "text": [
      "Epoch: 0001 cost= 1.183620099\n",
      "Epoch: 0002 cost= 0.665360624\n",
      "Epoch: 0003 cost= 0.552858688\n",
      "Epoch: 0004 cost= 0.498707141\n",
      "Epoch: 0005 cost= 0.465490984\n",
      "Epoch: 0006 cost= 0.442524161\n",
      "Epoch: 0007 cost= 0.425546776\n",
      "Epoch: 0008 cost= 0.412213841\n",
      "Epoch: 0009 cost= 0.401406325\n",
      "Epoch: 0010 cost= 0.392411532\n",
      "Epoch: 0011 cost= 0.384753361\n",
      "Epoch: 0012 cost= 0.378176026\n",
      "Epoch: 0013 cost= 0.372430801\n",
      "Epoch: 0014 cost= 0.367312132\n",
      "Epoch: 0015 cost= 0.362740347\n",
      "Epoch: 0016 cost= 0.358556446\n",
      "Epoch: 0017 cost= 0.354845505\n",
      "Epoch: 0018 cost= 0.351478194\n",
      "Epoch: 0019 cost= 0.348365503\n",
      "Epoch: 0020 cost= 0.345428882\n",
      "Epoch: 0021 cost= 0.342740956\n",
      "Epoch: 0022 cost= 0.340229057\n",
      "Epoch: 0023 cost= 0.337873283\n",
      "Epoch: 0024 cost= 0.335752265\n",
      "Epoch: 0025 cost= 0.333674024\n",
      "Optimization Finished!\n",
      "Accuracy: 0.9136\n"
     ]
    }
   ],
   "source": [
    "with tf.Session() as sess:\n",
    "    sess.run(init)\n",
    "\n",
    "    # op to write logs to Tensorboard\n",
    "    summary_writer = tf.summary.FileWriter(logs_path, graph=tf.get_default_graph())\n",
    "\n",
    "    # Training cycle\n",
    "    for epoch in range(train_epochs):\n",
    "        avg_cost = 0.\n",
    "        total_batch = int(mnist.train.num_examples / batch_size)\n",
    "        for i in range(total_batch):\n",
    "            batch_xs, batch_ys = mnist.train.next_batch(batch_size)\n",
    "            \n",
    "            # Run optimization op (backprop), cost op (to get loss value)\n",
    "            # and summary nodes\n",
    "            _, c, summary = sess.run([optimizer, cost, merged_summary_op],\n",
    "                                     feed_dict={x: batch_xs, y: batch_ys})\n",
    "            \n",
    "            # Writing logs at each iteration\n",
    "            \n",
    "            if IN_COLAB:\n",
    "                summary_writer = tbc.get_writer()# saving data on google colab\n",
    "                summary_writer.add_summary(summary, epoch * total_batch + i)\n",
    "            \n",
    "            # Compute average loss\n",
    "            avg_cost += c / total_batch\n",
    "            \n",
    "        # Displaying logs per epoch step\n",
    "        if (epoch+1) % display_epoch == 0:\n",
    "            print(\"Epoch:\", '%04d' % (epoch+1), \"cost=\", \"{:.9f}\".format(avg_cost))\n",
    "\n",
    "    print(\"Optimization Finished!\")\n",
    "    print(\"Accuracy:\", acc.eval({x: mnist.test.images, y: mnist.test.labels}))"
   ]
  },
  {
   "cell_type": "markdown",
   "metadata": {
    "colab_type": "text",
    "id": "kPTLLfKPYi2g"
   },
   "source": [
    "### Now we run the TensorBaord"
   ]
  },
  {
   "cell_type": "markdown",
   "metadata": {
    "colab_type": "text",
    "id": "iZq6OxREYi2j"
   },
   "source": [
    "#### Local:"
   ]
  },
  {
   "cell_type": "markdown",
   "metadata": {
    "colab_type": "text",
    "id": "Me0z20wyYi2m"
   },
   "source": [
    "Now run the following command on a bash\n",
    "\n",
    "```bash\n",
    "$ tensorboard --logdir=/tmp/tensorflow_logs\n",
    "```\n",
    "Then open the browser(Chrome) and insert this address\n",
    "\n",
    "```bash\n",
    "localhost:6006\n",
    "```"
   ]
  },
  {
   "cell_type": "markdown",
   "metadata": {
    "colab_type": "text",
    "id": "aeIQp_zqYi2o"
   },
   "source": [
    "#### Google colab"
   ]
  },
  {
   "cell_type": "markdown",
   "metadata": {
    "colab_type": "text",
    "id": "pYEYLuvJYi2q"
   },
   "source": [
    "\n",
    "Click on the link you had got at the first step\n",
    "\n",
    "![](../images/tb_colab.png)\n"
   ]
  },
  {
   "cell_type": "code",
   "execution_count": null,
   "metadata": {
    "colab": {},
    "colab_type": "code",
    "id": "vMtKCIXtYi2s"
   },
   "outputs": [],
   "source": []
  }
 ],
 "metadata": {
  "colab": {
   "name": "3.5-Tensorboard-Lab.ipynb",
   "provenance": [],
   "version": "0.3.2"
  },
  "kernelspec": {
   "display_name": "Python 3",
   "language": "python",
   "name": "python3"
  },
  "language_info": {
   "codemirror_mode": {
    "name": "ipython",
    "version": 3
   },
   "file_extension": ".py",
   "mimetype": "text/x-python",
   "name": "python",
   "nbconvert_exporter": "python",
   "pygments_lexer": "ipython3",
   "version": "3.7.3"
  }
 },
 "nbformat": 4,
 "nbformat_minor": 1
}
