{
 "cells": [
  {
   "cell_type": "markdown",
   "metadata": {},
   "source": [
    "# Hidden Layer Neuron Simulation\n",
    "\n",
    "This is a single neuron simulation, in which we use no dependencies.\n",
    "\n",
    "We are going ."
   ]
  },
  {
   "cell_type": "code",
   "execution_count": 4,
   "metadata": {
    "collapsed": true
   },
   "outputs": [],
   "source": [
    "from numpy import exp, array, random, dot"
   ]
  },
  {
   "cell_type": "code",
   "execution_count": 18,
   "metadata": {},
   "outputs": [
    {
     "name": "stdout",
     "output_type": "stream",
     "text": [
      "Random starting synaptic weights: \n",
      "[[-0.81802218]\n",
      " [ 0.98707588]\n",
      " [-0.20041635]]\n"
     ]
    }
   ],
   "source": [
    "\n",
    "# We model a single neuron, with 3 input connections and 1 output connection.\n",
    "# We assign random weights to a 3 x 1 matrix, with values in the range -1 to 1\n",
    "# and mean 0.\n",
    "\n",
    "synaptic_weights = 2 * random.random((3, 1)) - 1\n",
    "\n",
    "print(\"Random starting synaptic weights: \")\n",
    "print(synaptic_weights)\n",
    "\n",
    "# The training set. We have 4 examples, each consisting of 3 input values\n",
    "# and 1 output value.\n",
    "training_set_inputs = array([[0, 0, 1], [1, 1, 1], [1, 0, 1], [0, 1, 1]])\n",
    "training_set_outputs = array([[0, 1, 1, 0]]).T\n",
    "\n",
    "\n",
    "number_of_training_iterations = 10000"
   ]
  },
  {
   "cell_type": "code",
   "execution_count": 14,
   "metadata": {
    "collapsed": true
   },
   "outputs": [],
   "source": [
    "    # The Sigmoid function, which describes an S shaped curve.\n",
    "    # We pass the weighted sum of the inputs through this function to\n",
    "    # normalise them between 0 and 1.\n",
    "def sigmoid(x):\n",
    "  return 1 / (1 + exp(-x))\n",
    "\n",
    "    \n",
    "    # The derivative of the Sigmoid function.\n",
    "    # This is the gradient of the Sigmoid curve.\n",
    "    # It indicates how confident we are about the existing weight.\n",
    "def sigmoid_derivative( x):\n",
    "   return x * (1 - x)\n",
    "\n"
   ]
  },
  {
   "cell_type": "code",
   "execution_count": 7,
   "metadata": {
    "collapsed": true
   },
   "outputs": [],
   "source": [
    "# The neural network thinks.\n",
    "def think(inputs):\n",
    "    # Pass inputs through our neural network (our single neuron).\n",
    "    return sigmoid(dot(inputs,synaptic_weights))\n"
   ]
  },
  {
   "cell_type": "code",
   "execution_count": 19,
   "metadata": {
    "collapsed": true
   },
   "outputs": [],
   "source": [
    " # We train the neural network through a process of trial and error.\n",
    "    # Adjusting the synaptic weights each time.\n",
    "for iteration in range(number_of_training_iterations):\n",
    "  # Pass the training set through our neural network (a single neuron).\n",
    "  output = think(training_set_inputs)\n",
    "\n",
    "  # Calculate the error (The difference between the desired output\n",
    "  # and the predicted output).\n",
    "  error = training_set_outputs - output\n",
    "\n",
    "  # Multiply the error by the input and again by the gradient of the Sigmoid curve.\n",
    "  # This means less confident weights are adjusted more.\n",
    "  # This means inputs, which are zero, do not cause changes to the weights.\n",
    "  adjustment = dot(training_set_inputs.T, error * sigmoid_derivative(output))\n",
    "\n",
    "  # Adjust the weights.\n",
    "  synaptic_weights += adjustment\n"
   ]
  },
  {
   "cell_type": "code",
   "execution_count": 21,
   "metadata": {},
   "outputs": [
    {
     "name": "stdout",
     "output_type": "stream",
     "text": [
      "New synaptic weights after training: \n",
      "[[ 9.67254555]\n",
      " [-0.20791189]\n",
      " [-4.62937191]]\n",
      "Considering new situation [1, 0, 0] -> ?: \n",
      "[ 0.99993701]\n"
     ]
    }
   ],
   "source": [
    "\n",
    "print(\"New synaptic weights after training: \")\n",
    "print(synaptic_weights)\n",
    "\n",
    "# Test the neural network with a new situation.\n",
    "print(\"Considering new situation [1, 0, 0] -> ?: \")\n",
    "print(think(array([1, 0, 0])))"
   ]
  },
  {
   "cell_type": "code",
   "execution_count": null,
   "metadata": {
    "collapsed": true
   },
   "outputs": [],
   "source": []
  }
 ],
 "metadata": {
  "kernelspec": {
   "display_name": "Python 3",
   "language": "python",
   "name": "python3"
  },
  "language_info": {
   "codemirror_mode": {
    "name": "ipython",
    "version": 3
   },
   "file_extension": ".py",
   "mimetype": "text/x-python",
   "name": "python",
   "nbconvert_exporter": "python",
   "pygments_lexer": "ipython3",
   "version": "3.4.3"
  }
 },
 "nbformat": 4,
 "nbformat_minor": 2
}
