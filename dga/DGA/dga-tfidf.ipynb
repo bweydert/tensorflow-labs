{
 "cells": [
  {
   "cell_type": "code",
   "execution_count": null,
   "metadata": {
    "collapsed": true
   },
   "outputs": [],
   "source": [
    "import pandas as pd\n",
    "import numpy as np\n",
    "import gensim\n",
    "from sklearn.pipeline import Pipeline\n",
    "from sklearn.feature_extraction.text import CountVectorizer\n",
    "from sklearn.feature_extraction.text import TfidfTransformer\n",
    "from sklearn.model_selection import train_test_split\n",
    "from sklearn.ensemble import RandomForestClassifier\n"
   ]
  },
  {
   "cell_type": "code",
   "execution_count": null,
   "metadata": {
    "scrolled": true
   },
   "outputs": [],
   "source": [
    "dga = pd.read_csv('https://elephantscale-public.s3.amazonaws.com/data/dga/dga-dataset-words.csv.gz')\n",
    "dga.words = dga.words.fillna('')\n",
    "dga"
   ]
  },
  {
   "cell_type": "code",
   "execution_count": null,
   "metadata": {},
   "outputs": [],
   "source": [
    "# source is not a number, so transform it into an number\n",
    "dga['source_fact'] = pd.factorize(dga['source'])[0]\n",
    "\n",
    "# toplevel is not a number, so transform it into a number\n",
    "dga['toplevel_fact'] = pd.factorize(dga['toplevel'])[0]\n",
    "\n",
    "dga['label_fact'] = pd.factorize(dga['label'])[0]\n",
    "\n",
    "# get length of site as a new engineered featrues\n",
    "dga['url_length'] = dga['site'].apply(lambda x : len(x))\n",
    "\n",
    "# get num of words as a new engineered featrues\n",
    "dga['word_num'] = dga['words'].apply(lambda x : len(x.split()))"
   ]
  },
  {
   "cell_type": "code",
   "execution_count": null,
   "metadata": {},
   "outputs": [],
   "source": [
    "dga"
   ]
  },
  {
   "cell_type": "code",
   "execution_count": null,
   "metadata": {},
   "outputs": [],
   "source": [
    "dga.describe()"
   ]
  },
  {
   "cell_type": "markdown",
   "metadata": {},
   "source": [
    "## TF/IDF Pipeline\n",
    "\n",
    "Let's try a basic tf/idf pipeline without using any of our other features"
   ]
  },
  {
   "cell_type": "code",
   "execution_count": null,
   "metadata": {
    "scrolled": true
   },
   "outputs": [],
   "source": [
    "from sklearn.linear_model import SGDClassifier\n",
    "\n",
    "X_train, X_test, y_train, y_test = train_test_split(dga['words'], dga['label'], test_size=0.33, random_state=42)\n",
    "text_clf = Pipeline([('vect', CountVectorizer()),\n",
    "                     ('tfidf', TfidfTransformer()),\n",
    "                     ('clf', SGDClassifier(loss='hinge', penalty='l2', alpha=1e-3, random_state=42)),\n",
    "])\n",
    "text_clf.fit(X_train, y_train)\n",
    "predicted = text_clf.predict(X_test)\n",
    "np.mean(predicted == y_test)     "
   ]
  },
  {
   "cell_type": "code",
   "execution_count": null,
   "metadata": {},
   "outputs": [],
   "source": [
    "from sklearn.metrics import confusion_matrix\n",
    "\n",
    "confusion_matrix(y_test, predicted)"
   ]
  },
  {
   "cell_type": "markdown",
   "metadata": {},
   "source": [
    "### Results\n",
    "\n",
    "77% accuracy, not bad. But not great.  Looks like we were much better at identifying one class than the other."
   ]
  },
  {
   "cell_type": "markdown",
   "metadata": {},
   "source": [
    "## Extract features"
   ]
  },
  {
   "cell_type": "code",
   "execution_count": null,
   "metadata": {},
   "outputs": [],
   "source": [
    "text_clf = Pipeline([('vect', CountVectorizer()),\n",
    "                     ('tfidf', TfidfTransformer())])\n",
    "\n",
    "text_clf = text_clf.fit(dga['words'])\n",
    "dga['tfidf'] = text_clf.transform(dga['words'])\n",
    "tfidf = text_clf.transform(dga['words'])\n",
    "dga"
   ]
  },
  {
   "cell_type": "markdown",
   "metadata": {},
   "source": [
    "## Train/Test Split\n",
    "\n",
    "Let's do a basic train/test split 80% training / 10% test"
   ]
  },
  {
   "cell_type": "code",
   "execution_count": null,
   "metadata": {
    "scrolled": true
   },
   "outputs": [],
   "source": [
    " \n",
    "    \n",
    "msk = np.random.rand(len(dga)) < 0.8\n",
    "train = dga[msk]\n",
    "test = dga[~msk]\n",
    "\n",
    "train_tfidf = tfidf[msk]\n",
    "test_tfidf = tfidf[~msk]\n",
    "\n"
   ]
  },
  {
   "cell_type": "code",
   "execution_count": null,
   "metadata": {},
   "outputs": [],
   "source": [
    "train"
   ]
  },
  {
   "cell_type": "code",
   "execution_count": null,
   "metadata": {},
   "outputs": [],
   "source": [
    "from scipy import sparse\n",
    "\n",
    "text_features = train_tfidf\n",
    "other_features = train[['source_fact', 'toplevel_fact', 'url_length', 'word_num']]\n",
    "all_features = sparse.hstack((text_features, other_features)).tocsr()\n",
    "\n"
   ]
  },
  {
   "cell_type": "code",
   "execution_count": null,
   "metadata": {},
   "outputs": [],
   "source": [
    "print(dga.shape)\n",
    "print(text_features.shape)\n",
    "print(other_features.shape)\n",
    "print(tfidf.shape)"
   ]
  },
  {
   "cell_type": "code",
   "execution_count": null,
   "metadata": {
    "collapsed": true
   },
   "outputs": [],
   "source": []
  },
  {
   "cell_type": "code",
   "execution_count": null,
   "metadata": {
    "collapsed": true
   },
   "outputs": [],
   "source": [
    "mixed_classifier = SGDClassifier(loss='hinge', penalty='l2', alpha=1e-3, random_state=42).fit(all_features, train['label'])"
   ]
  },
  {
   "cell_type": "code",
   "execution_count": null,
   "metadata": {},
   "outputs": [],
   "source": [
    "\n",
    "text_features_test = test_tfidf\n",
    "other_features_test = test[['source_fact', 'toplevel_fact', 'url_length', 'word_num']]\n",
    "all_features_test = sparse.hstack((text_features_test, other_features_test)).tocsr()\n",
    "\n",
    "predicted =  mixed_classifier.predict(all_features_test)\n",
    "np.mean(predicted == test['label'])   "
   ]
  },
  {
   "cell_type": "code",
   "execution_count": null,
   "metadata": {},
   "outputs": [],
   "source": [
    "## Cool 86% -- that's better.\n",
    "confusion_matrix(test['label'], predicted)"
   ]
  },
  {
   "cell_type": "markdown",
   "metadata": {},
   "source": [
    "## Results\n",
    "\n",
    "86%\n",
    "Results are much more balanced too. The engineered features must have helped.\n"
   ]
  },
  {
   "cell_type": "markdown",
   "metadata": {},
   "source": [
    "TODO:\n",
    "\n",
    "We should try some other methods, like random forest classifier or a DNN classifier."
   ]
  },
  {
   "cell_type": "code",
   "execution_count": null,
   "metadata": {},
   "outputs": [],
   "source": [
    "from sklearn.ensemble import RandomForestClassifier\n",
    "\n",
    "rf = RandomForestClassifier(n_estimators=100, oob_score=True, random_state=123456)\n",
    "rf.fit(all_features, train['label'])\n",
    "predicted_rf = rf.predict(all_features_test)\n",
    "np.mean(predicted_rf == test['label'])"
   ]
  },
  {
   "cell_type": "code",
   "execution_count": null,
   "metadata": {
    "collapsed": true
   },
   "outputs": [],
   "source": []
  }
 ],
 "metadata": {
  "kernelspec": {
   "display_name": "Python 3",
   "language": "python",
   "name": "python3"
  },
  "language_info": {
   "codemirror_mode": {
    "name": "ipython",
    "version": 3
   },
   "file_extension": ".py",
   "mimetype": "text/x-python",
   "name": "python",
   "nbconvert_exporter": "python",
   "pygments_lexer": "ipython3",
   "version": "3.6.5"
  }
 },
 "nbformat": 4,
 "nbformat_minor": 2
}
