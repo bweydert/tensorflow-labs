{
 "cells": [
  {
   "cell_type": "code",
   "execution_count": 1,
   "metadata": {},
   "outputs": [
    {
     "name": "stderr",
     "output_type": "stream",
     "text": [
      "Using TensorFlow backend.\n"
     ]
    }
   ],
   "source": [
    "\n",
    "from keras.preprocessing.image import ImageDataGenerator\n",
    "from keras.models import Sequential\n",
    "from keras.layers import Conv2D, MaxPooling2D\n",
    "from keras.layers import Activation, Dropout, Flatten, Dense\n",
    "from keras import backend as K\n"
   ]
  },
  {
   "cell_type": "code",
   "execution_count": 2,
   "metadata": {
    "collapsed": true
   },
   "outputs": [],
   "source": [
    "\n",
    "# dimensions of our images.\n",
    "img_width, img_height = 150, 150\n",
    "\n",
    "train_data_dir = '/data/cat-dog/data/train'\n",
    "validation_data_dir = '/data/cat-dog/data/validation'\n",
    "nb_train_samples = 2000\n",
    "nb_validation_samples = 800\n",
    "epochs = 50\n",
    "batch_size = 16\n",
    "\n",
    "if K.image_data_format() == 'channels_first':\n",
    "    input_shape = (3, img_width, img_height)\n",
    "else:\n",
    "    input_shape = (img_width, img_height, 3)\n"
   ]
  },
  {
   "cell_type": "code",
   "execution_count": 3,
   "metadata": {
    "collapsed": true
   },
   "outputs": [],
   "source": [
    "\n",
    "model = Sequential()\n",
    "model.add(Conv2D(32, (3, 3), input_shape=input_shape))\n",
    "model.add(Activation('relu'))\n",
    "model.add(MaxPooling2D(pool_size=(2, 2)))\n",
    "\n",
    "model.add(Conv2D(32, (3, 3)))\n",
    "model.add(Activation('relu'))\n",
    "model.add(MaxPooling2D(pool_size=(2, 2)))\n",
    "\n",
    "model.add(Conv2D(64, (3, 3)))\n",
    "model.add(Activation('relu'))\n",
    "model.add(MaxPooling2D(pool_size=(2, 2)))\n",
    "\n",
    "model.add(Flatten())\n",
    "model.add(Dense(64))\n",
    "model.add(Activation('relu'))\n",
    "model.add(Dropout(0.5))\n",
    "model.add(Dense(1))\n",
    "model.add(Activation('sigmoid'))\n",
    "\n",
    "model.compile(loss='binary_crossentropy',\n",
    "              optimizer='rmsprop',\n",
    "              metrics=['accuracy'])"
   ]
  },
  {
   "cell_type": "code",
   "execution_count": 4,
   "metadata": {},
   "outputs": [
    {
     "name": "stdout",
     "output_type": "stream",
     "text": [
      "Found 1800 images belonging to 2 classes.\n",
      "Found 611 images belonging to 2 classes.\n",
      "Epoch 1/50\n",
      "125/125 [==============================] - 177s - loss: 0.7066 - acc: 0.5035 - val_loss: 0.6871 - val_acc: 0.5934\n",
      "Epoch 2/50\n",
      "125/125 [==============================] - 155s - loss: 0.6935 - acc: 0.5690 - val_loss: 0.6458 - val_acc: 0.6582\n",
      "Epoch 3/50\n",
      "125/125 [==============================] - 178s - loss: 0.6533 - acc: 0.6380 - val_loss: 0.5867 - val_acc: 0.6938\n",
      "Epoch 4/50\n",
      "125/125 [==============================] - 1353s - loss: 0.6263 - acc: 0.6455 - val_loss: 0.5758 - val_acc: 0.7261\n",
      "Epoch 5/50\n",
      "125/125 [==============================] - 510s - loss: 0.6127 - acc: 0.6835 - val_loss: 0.5299 - val_acc: 0.7332\n",
      "Epoch 6/50\n",
      "125/125 [==============================] - 107s - loss: 0.5735 - acc: 0.7060 - val_loss: 0.5461 - val_acc: 0.7179\n",
      "Epoch 7/50\n",
      "125/125 [==============================] - 105s - loss: 0.5624 - acc: 0.7235 - val_loss: 0.5483 - val_acc: 0.7261\n",
      "Epoch 8/50\n",
      "125/125 [==============================] - 96s - loss: 0.5525 - acc: 0.7245 - val_loss: 0.5494 - val_acc: 0.7306\n",
      "Epoch 9/50\n",
      "125/125 [==============================] - 108s - loss: 0.5470 - acc: 0.7425 - val_loss: 0.5216 - val_acc: 0.7471\n",
      "Epoch 10/50\n",
      "125/125 [==============================] - 96s - loss: 0.5407 - acc: 0.7430 - val_loss: 0.5300 - val_acc: 0.7649\n",
      "Epoch 11/50\n",
      "125/125 [==============================] - 85s - loss: 0.5199 - acc: 0.7490 - val_loss: 0.5183 - val_acc: 0.7497\n",
      "Epoch 12/50\n",
      "125/125 [==============================] - 95s - loss: 0.5121 - acc: 0.7710 - val_loss: 0.5023 - val_acc: 0.7700\n",
      "Epoch 13/50\n",
      "125/125 [==============================] - 94s - loss: 0.5136 - acc: 0.7425 - val_loss: 0.4641 - val_acc: 0.7752\n",
      "Epoch 14/50\n",
      "125/125 [==============================] - 86s - loss: 0.4860 - acc: 0.7695 - val_loss: 0.5470 - val_acc: 0.7103\n",
      "Epoch 15/50\n",
      "125/125 [==============================] - 85s - loss: 0.4778 - acc: 0.7720 - val_loss: 0.4779 - val_acc: 0.7891\n",
      "Epoch 16/50\n",
      "125/125 [==============================] - 87s - loss: 0.4857 - acc: 0.7745 - val_loss: 0.5023 - val_acc: 0.7532\n",
      "Epoch 17/50\n",
      "125/125 [==============================] - 86s - loss: 0.4830 - acc: 0.7635 - val_loss: 0.6507 - val_acc: 0.7179\n",
      "Epoch 18/50\n",
      "125/125 [==============================] - 85s - loss: 0.4659 - acc: 0.7985 - val_loss: 0.5732 - val_acc: 0.7421\n",
      "Epoch 19/50\n",
      "125/125 [==============================] - 96s - loss: 0.4914 - acc: 0.7785 - val_loss: 0.4966 - val_acc: 0.7984\n",
      "Epoch 20/50\n",
      "125/125 [==============================] - 100s - loss: 0.4577 - acc: 0.7960 - val_loss: 0.4690 - val_acc: 0.7802\n",
      "Epoch 21/50\n",
      "125/125 [==============================] - 100s - loss: 0.4653 - acc: 0.7950 - val_loss: 0.5426 - val_acc: 0.7586\n",
      "Epoch 22/50\n",
      "125/125 [==============================] - 110s - loss: 0.4657 - acc: 0.7985 - val_loss: 0.5004 - val_acc: 0.7992\n",
      "Epoch 23/50\n",
      "125/125 [==============================] - 121s - loss: 0.4642 - acc: 0.7890 - val_loss: 0.4879 - val_acc: 0.7611\n",
      "Epoch 24/50\n",
      "125/125 [==============================] - 109s - loss: 0.4441 - acc: 0.8175 - val_loss: 0.5196 - val_acc: 0.7700\n",
      "Epoch 25/50\n",
      "125/125 [==============================] - 84s - loss: 0.4732 - acc: 0.7945 - val_loss: 0.4654 - val_acc: 0.7980\n",
      "Epoch 26/50\n",
      "125/125 [==============================] - 85s - loss: 0.4586 - acc: 0.7990 - val_loss: 0.4771 - val_acc: 0.7804\n",
      "Epoch 27/50\n",
      "125/125 [==============================] - 85s - loss: 0.4485 - acc: 0.7910 - val_loss: 0.4900 - val_acc: 0.7980\n",
      "Epoch 28/50\n",
      "125/125 [==============================] - 84s - loss: 0.4566 - acc: 0.7950 - val_loss: 0.5729 - val_acc: 0.7484\n",
      "Epoch 29/50\n",
      "125/125 [==============================] - 86s - loss: 0.4586 - acc: 0.8040 - val_loss: 0.6118 - val_acc: 0.7494\n",
      "Epoch 30/50\n",
      "125/125 [==============================] - 89s - loss: 0.4441 - acc: 0.8045 - val_loss: 0.6059 - val_acc: 0.7484\n",
      "Epoch 31/50\n",
      "125/125 [==============================] - 516s - loss: 0.4559 - acc: 0.7970 - val_loss: 0.5233 - val_acc: 0.7891\n",
      "Epoch 32/50\n",
      "125/125 [==============================] - 104s - loss: 0.4327 - acc: 0.8185 - val_loss: 0.6104 - val_acc: 0.7558\n",
      "Epoch 33/50\n",
      "125/125 [==============================] - 98s - loss: 0.4453 - acc: 0.7990 - val_loss: 0.5310 - val_acc: 0.7967\n",
      "Epoch 34/50\n",
      "125/125 [==============================] - 97s - loss: 0.4615 - acc: 0.8035 - val_loss: 0.5115 - val_acc: 0.7789\n",
      "Epoch 35/50\n",
      "125/125 [==============================] - 92s - loss: 0.4410 - acc: 0.8100 - val_loss: 0.5470 - val_acc: 0.7390\n",
      "Epoch 36/50\n",
      "125/125 [==============================] - 86s - loss: 0.4819 - acc: 0.8025 - val_loss: 0.5131 - val_acc: 0.7802\n",
      "Epoch 37/50\n",
      "125/125 [==============================] - 85s - loss: 0.4386 - acc: 0.8050 - val_loss: 0.6244 - val_acc: 0.7573\n",
      "Epoch 38/50\n",
      "125/125 [==============================] - 85s - loss: 0.4380 - acc: 0.8185 - val_loss: 0.6270 - val_acc: 0.7494\n",
      "Epoch 39/50\n",
      "125/125 [==============================] - 88s - loss: 0.4439 - acc: 0.8095 - val_loss: 0.4893 - val_acc: 0.7891\n",
      "Epoch 40/50\n",
      "125/125 [==============================] - 86s - loss: 0.4898 - acc: 0.7965 - val_loss: 0.5456 - val_acc: 0.7497\n",
      "Epoch 41/50\n",
      "125/125 [==============================] - 87s - loss: 0.4618 - acc: 0.7940 - val_loss: 0.5419 - val_acc: 0.7532\n",
      "Epoch 42/50\n",
      "125/125 [==============================] - 87s - loss: 0.4360 - acc: 0.8100 - val_loss: 0.4750 - val_acc: 0.7789\n",
      "Epoch 43/50\n",
      "125/125 [==============================] - 884s - loss: 0.4334 - acc: 0.8085 - val_loss: 0.5553 - val_acc: 0.7713\n",
      "Epoch 44/50\n",
      "125/125 [==============================] - 114s - loss: 0.4629 - acc: 0.7995 - val_loss: 0.5348 - val_acc: 0.7791\n",
      "Epoch 45/50\n",
      "125/125 [==============================] - 90s - loss: 0.4337 - acc: 0.8185 - val_loss: 0.5632 - val_acc: 0.7802\n",
      "Epoch 46/50\n",
      "125/125 [==============================] - 99s - loss: 0.4302 - acc: 0.8165 - val_loss: 0.4771 - val_acc: 0.7700\n",
      "Epoch 47/50\n",
      "125/125 [==============================] - 87s - loss: 0.4253 - acc: 0.8080 - val_loss: 0.5508 - val_acc: 0.7700\n",
      "Epoch 48/50\n",
      "125/125 [==============================] - 88s - loss: 0.4454 - acc: 0.8105 - val_loss: 0.5261 - val_acc: 0.7814\n",
      "Epoch 49/50\n",
      "125/125 [==============================] - 86s - loss: 0.4298 - acc: 0.8245 - val_loss: 0.5296 - val_acc: 0.7408\n",
      "Epoch 50/50\n",
      "125/125 [==============================] - 86s - loss: 0.4186 - acc: 0.8205 - val_loss: 0.5110 - val_acc: 0.7817\n"
     ]
    }
   ],
   "source": [
    "\n",
    "# this is the augmentation configuration we will use for training\n",
    "train_datagen = ImageDataGenerator(\n",
    "    rescale=1. / 255,\n",
    "    shear_range=0.2,\n",
    "    zoom_range=0.2,\n",
    "    horizontal_flip=True)\n",
    "\n",
    "# this is the augmentation configuration we will use for testing:\n",
    "# only rescaling\n",
    "test_datagen = ImageDataGenerator(rescale=1. / 255)\n",
    "\n",
    "train_generator = train_datagen.flow_from_directory(\n",
    "    train_data_dir,\n",
    "    target_size=(img_width, img_height),\n",
    "    batch_size=batch_size,\n",
    "    class_mode='binary')\n",
    "\n",
    "validation_generator = test_datagen.flow_from_directory(\n",
    "    validation_data_dir,\n",
    "    target_size=(img_width, img_height),\n",
    "    batch_size=batch_size,\n",
    "    class_mode='binary')\n",
    "\n",
    "model.fit_generator(\n",
    "    train_generator,\n",
    "    steps_per_epoch=nb_train_samples // batch_size,\n",
    "    epochs=epochs,\n",
    "    validation_data=validation_generator,\n",
    "    validation_steps=nb_validation_samples // batch_size)\n",
    "\n",
    "model.save_weights('first_try.h5')"
   ]
  },
  {
   "cell_type": "code",
   "execution_count": 9,
   "metadata": {},
   "outputs": [
    {
     "ename": "error",
     "evalue": "/Users/travis/build/skvark/opencv-python/opencv/modules/imgproc/src/resize.cpp:4044: error: (-215) ssize.width > 0 && ssize.height > 0 in function resize\n",
     "output_type": "error",
     "traceback": [
      "\u001b[0;31m---------------------------------------------------------------------------\u001b[0m",
      "\u001b[0;31merror\u001b[0m                                     Traceback (most recent call last)",
      "\u001b[0;32m<ipython-input-9-bf8d63faf6cb>\u001b[0m in \u001b[0;36m<module>\u001b[0;34m()\u001b[0m\n\u001b[1;32m      3\u001b[0m \u001b[0mfile\u001b[0m \u001b[0;34m=\u001b[0m \u001b[0mcv2\u001b[0m\u001b[0;34m.\u001b[0m\u001b[0mimread\u001b[0m\u001b[0;34m(\u001b[0m\u001b[0;34m'/data/cat-dog/validation/cats/cat.1100.jpg'\u001b[0m\u001b[0;34m)\u001b[0m\u001b[0;34m\u001b[0m\u001b[0m\n\u001b[1;32m      4\u001b[0m \u001b[0;34m\u001b[0m\u001b[0m\n\u001b[0;32m----> 5\u001b[0;31m \u001b[0mim\u001b[0m \u001b[0;34m=\u001b[0m \u001b[0mcv2\u001b[0m\u001b[0;34m.\u001b[0m\u001b[0mresize\u001b[0m\u001b[0;34m(\u001b[0m\u001b[0mfile\u001b[0m\u001b[0;34m,\u001b[0m \u001b[0;34m(\u001b[0m\u001b[0;36m224\u001b[0m\u001b[0;34m,\u001b[0m \u001b[0;36m224\u001b[0m\u001b[0;34m)\u001b[0m\u001b[0;34m)\u001b[0m\u001b[0;34m.\u001b[0m\u001b[0mastype\u001b[0m\u001b[0;34m(\u001b[0m\u001b[0mnp\u001b[0m\u001b[0;34m.\u001b[0m\u001b[0mfloat32\u001b[0m\u001b[0;34m)\u001b[0m\u001b[0;34m\u001b[0m\u001b[0m\n\u001b[0m\u001b[1;32m      6\u001b[0m \u001b[0mim\u001b[0m\u001b[0;34m[\u001b[0m\u001b[0;34m:\u001b[0m\u001b[0;34m,\u001b[0m\u001b[0;34m:\u001b[0m\u001b[0;34m,\u001b[0m\u001b[0;36m0\u001b[0m\u001b[0;34m]\u001b[0m \u001b[0;34m-=\u001b[0m \u001b[0;36m103.939\u001b[0m\u001b[0;34m\u001b[0m\u001b[0m\n\u001b[1;32m      7\u001b[0m \u001b[0mim\u001b[0m\u001b[0;34m[\u001b[0m\u001b[0;34m:\u001b[0m\u001b[0;34m,\u001b[0m\u001b[0;34m:\u001b[0m\u001b[0;34m,\u001b[0m\u001b[0;36m1\u001b[0m\u001b[0;34m]\u001b[0m \u001b[0;34m-=\u001b[0m \u001b[0;36m116.779\u001b[0m\u001b[0;34m\u001b[0m\u001b[0m\n",
      "\u001b[0;31merror\u001b[0m: /Users/travis/build/skvark/opencv-python/opencv/modules/imgproc/src/resize.cpp:4044: error: (-215) ssize.width > 0 && ssize.height > 0 in function resize\n"
     ]
    }
   ],
   "source": [
    "import cv2\n",
    "\n",
    "file = cv2.imread('/data/cat-dog/validation/cats/cat.1100.jpg')\n",
    "\n",
    "im = cv2.resize(file, (224, 224)).astype(np.float32)\n",
    "im[:,:,0] -= 103.939\n",
    "im[:,:,1] -= 116.779\n",
    "im[:,:,2] -= 123.68\n",
    "im = im.transpose((2,0,1))\n",
    "im = np.expand_dims(im, axis=0)\n",
    "\n"
   ]
  },
  {
   "cell_type": "code",
   "execution_count": 8,
   "metadata": {},
   "outputs": [
    {
     "ename": "FileNotFoundError",
     "evalue": "[Errno 2] No such file or directory: '/data/cat-dog/validation/cats/cat.1100.jpg'",
     "output_type": "error",
     "traceback": [
      "\u001b[0;31m---------------------------------------------------------------------------\u001b[0m",
      "\u001b[0;31mFileNotFoundError\u001b[0m                         Traceback (most recent call last)",
      "\u001b[0;32m<ipython-input-8-cbc4c59fae01>\u001b[0m in \u001b[0;36m<module>\u001b[0;34m()\u001b[0m\n\u001b[1;32m      1\u001b[0m \u001b[0;32mfrom\u001b[0m \u001b[0mIPython\u001b[0m\u001b[0;34m.\u001b[0m\u001b[0mdisplay\u001b[0m \u001b[0;32mimport\u001b[0m \u001b[0mImage\u001b[0m\u001b[0;34m\u001b[0m\u001b[0m\n\u001b[0;32m----> 2\u001b[0;31m \u001b[0mImage\u001b[0m\u001b[0;34m(\u001b[0m\u001b[0mfilename\u001b[0m\u001b[0;34m=\u001b[0m\u001b[0;34m'/data/cat-dog/validation/cats/cat.1100.jpg'\u001b[0m\u001b[0;34m)\u001b[0m\u001b[0;34m\u001b[0m\u001b[0m\n\u001b[0m",
      "\u001b[0;32m//anaconda/lib/python3.5/site-packages/IPython/core/display.py\u001b[0m in \u001b[0;36m__init__\u001b[0;34m(self, data, url, filename, format, embed, width, height, retina, unconfined, metadata)\u001b[0m\n\u001b[1;32m    756\u001b[0m         \u001b[0mself\u001b[0m\u001b[0;34m.\u001b[0m\u001b[0munconfined\u001b[0m \u001b[0;34m=\u001b[0m \u001b[0munconfined\u001b[0m\u001b[0;34m\u001b[0m\u001b[0m\n\u001b[1;32m    757\u001b[0m         \u001b[0mself\u001b[0m\u001b[0;34m.\u001b[0m\u001b[0mmetadata\u001b[0m \u001b[0;34m=\u001b[0m \u001b[0mmetadata\u001b[0m\u001b[0;34m\u001b[0m\u001b[0m\n\u001b[0;32m--> 758\u001b[0;31m         \u001b[0msuper\u001b[0m\u001b[0;34m(\u001b[0m\u001b[0mImage\u001b[0m\u001b[0;34m,\u001b[0m \u001b[0mself\u001b[0m\u001b[0;34m)\u001b[0m\u001b[0;34m.\u001b[0m\u001b[0m__init__\u001b[0m\u001b[0;34m(\u001b[0m\u001b[0mdata\u001b[0m\u001b[0;34m=\u001b[0m\u001b[0mdata\u001b[0m\u001b[0;34m,\u001b[0m \u001b[0murl\u001b[0m\u001b[0;34m=\u001b[0m\u001b[0murl\u001b[0m\u001b[0;34m,\u001b[0m \u001b[0mfilename\u001b[0m\u001b[0;34m=\u001b[0m\u001b[0mfilename\u001b[0m\u001b[0;34m)\u001b[0m\u001b[0;34m\u001b[0m\u001b[0m\n\u001b[0m\u001b[1;32m    759\u001b[0m \u001b[0;34m\u001b[0m\u001b[0m\n\u001b[1;32m    760\u001b[0m         \u001b[0;32mif\u001b[0m \u001b[0mretina\u001b[0m\u001b[0;34m:\u001b[0m\u001b[0;34m\u001b[0m\u001b[0m\n",
      "\u001b[0;32m//anaconda/lib/python3.5/site-packages/IPython/core/display.py\u001b[0m in \u001b[0;36m__init__\u001b[0;34m(self, data, url, filename)\u001b[0m\n\u001b[1;32m    392\u001b[0m         \u001b[0mself\u001b[0m\u001b[0;34m.\u001b[0m\u001b[0mfilename\u001b[0m \u001b[0;34m=\u001b[0m \u001b[0;32mNone\u001b[0m \u001b[0;32mif\u001b[0m \u001b[0mfilename\u001b[0m \u001b[0;32mis\u001b[0m \u001b[0;32mNone\u001b[0m \u001b[0;32melse\u001b[0m \u001b[0municode_type\u001b[0m\u001b[0;34m(\u001b[0m\u001b[0mfilename\u001b[0m\u001b[0;34m)\u001b[0m\u001b[0;34m\u001b[0m\u001b[0m\n\u001b[1;32m    393\u001b[0m \u001b[0;34m\u001b[0m\u001b[0m\n\u001b[0;32m--> 394\u001b[0;31m         \u001b[0mself\u001b[0m\u001b[0;34m.\u001b[0m\u001b[0mreload\u001b[0m\u001b[0;34m(\u001b[0m\u001b[0;34m)\u001b[0m\u001b[0;34m\u001b[0m\u001b[0m\n\u001b[0m\u001b[1;32m    395\u001b[0m         \u001b[0mself\u001b[0m\u001b[0;34m.\u001b[0m\u001b[0m_check_data\u001b[0m\u001b[0;34m(\u001b[0m\u001b[0;34m)\u001b[0m\u001b[0;34m\u001b[0m\u001b[0m\n\u001b[1;32m    396\u001b[0m \u001b[0;34m\u001b[0m\u001b[0m\n",
      "\u001b[0;32m//anaconda/lib/python3.5/site-packages/IPython/core/display.py\u001b[0m in \u001b[0;36mreload\u001b[0;34m(self)\u001b[0m\n\u001b[1;32m    778\u001b[0m         \u001b[0;34m\"\"\"Reload the raw data from file or URL.\"\"\"\u001b[0m\u001b[0;34m\u001b[0m\u001b[0m\n\u001b[1;32m    779\u001b[0m         \u001b[0;32mif\u001b[0m \u001b[0mself\u001b[0m\u001b[0;34m.\u001b[0m\u001b[0membed\u001b[0m\u001b[0;34m:\u001b[0m\u001b[0;34m\u001b[0m\u001b[0m\n\u001b[0;32m--> 780\u001b[0;31m             \u001b[0msuper\u001b[0m\u001b[0;34m(\u001b[0m\u001b[0mImage\u001b[0m\u001b[0;34m,\u001b[0m\u001b[0mself\u001b[0m\u001b[0;34m)\u001b[0m\u001b[0;34m.\u001b[0m\u001b[0mreload\u001b[0m\u001b[0;34m(\u001b[0m\u001b[0;34m)\u001b[0m\u001b[0;34m\u001b[0m\u001b[0m\n\u001b[0m\u001b[1;32m    781\u001b[0m             \u001b[0;32mif\u001b[0m \u001b[0mself\u001b[0m\u001b[0;34m.\u001b[0m\u001b[0mretina\u001b[0m\u001b[0;34m:\u001b[0m\u001b[0;34m\u001b[0m\u001b[0m\n\u001b[1;32m    782\u001b[0m                 \u001b[0mself\u001b[0m\u001b[0;34m.\u001b[0m\u001b[0m_retina_shape\u001b[0m\u001b[0;34m(\u001b[0m\u001b[0;34m)\u001b[0m\u001b[0;34m\u001b[0m\u001b[0m\n",
      "\u001b[0;32m//anaconda/lib/python3.5/site-packages/IPython/core/display.py\u001b[0m in \u001b[0;36mreload\u001b[0;34m(self)\u001b[0m\n\u001b[1;32m    410\u001b[0m         \u001b[0;34m\"\"\"Reload the raw data from file or URL.\"\"\"\u001b[0m\u001b[0;34m\u001b[0m\u001b[0m\n\u001b[1;32m    411\u001b[0m         \u001b[0;32mif\u001b[0m \u001b[0mself\u001b[0m\u001b[0;34m.\u001b[0m\u001b[0mfilename\u001b[0m \u001b[0;32mis\u001b[0m \u001b[0;32mnot\u001b[0m \u001b[0;32mNone\u001b[0m\u001b[0;34m:\u001b[0m\u001b[0;34m\u001b[0m\u001b[0m\n\u001b[0;32m--> 412\u001b[0;31m             \u001b[0;32mwith\u001b[0m \u001b[0mopen\u001b[0m\u001b[0;34m(\u001b[0m\u001b[0mself\u001b[0m\u001b[0;34m.\u001b[0m\u001b[0mfilename\u001b[0m\u001b[0;34m,\u001b[0m \u001b[0mself\u001b[0m\u001b[0;34m.\u001b[0m\u001b[0m_read_flags\u001b[0m\u001b[0;34m)\u001b[0m \u001b[0;32mas\u001b[0m \u001b[0mf\u001b[0m\u001b[0;34m:\u001b[0m\u001b[0;34m\u001b[0m\u001b[0m\n\u001b[0m\u001b[1;32m    413\u001b[0m                 \u001b[0mself\u001b[0m\u001b[0;34m.\u001b[0m\u001b[0mdata\u001b[0m \u001b[0;34m=\u001b[0m \u001b[0mf\u001b[0m\u001b[0;34m.\u001b[0m\u001b[0mread\u001b[0m\u001b[0;34m(\u001b[0m\u001b[0;34m)\u001b[0m\u001b[0;34m\u001b[0m\u001b[0m\n\u001b[1;32m    414\u001b[0m         \u001b[0;32melif\u001b[0m \u001b[0mself\u001b[0m\u001b[0;34m.\u001b[0m\u001b[0murl\u001b[0m \u001b[0;32mis\u001b[0m \u001b[0;32mnot\u001b[0m \u001b[0;32mNone\u001b[0m\u001b[0;34m:\u001b[0m\u001b[0;34m\u001b[0m\u001b[0m\n",
      "\u001b[0;31mFileNotFoundError\u001b[0m: [Errno 2] No such file or directory: '/data/cat-dog/validation/cats/cat.1100.jpg'"
     ]
    }
   ],
   "source": [
    "from IPython.display import Image \n",
    "Image(filename='/data/cat-dog/validation/cats/cat.1100.jpg')"
   ]
  },
  {
   "cell_type": "code",
   "execution_count": null,
   "metadata": {
    "collapsed": true
   },
   "outputs": [],
   "source": []
  }
 ],
 "metadata": {
  "kernelspec": {
   "display_name": "Python 3",
   "language": "python",
   "name": "python3"
  },
  "language_info": {
   "codemirror_mode": {
    "name": "ipython",
    "version": 3
   },
   "file_extension": ".py",
   "mimetype": "text/x-python",
   "name": "python",
   "nbconvert_exporter": "python",
   "pygments_lexer": "ipython3",
   "version": "3.5.4"
  }
 },
 "nbformat": 4,
 "nbformat_minor": 2
}
