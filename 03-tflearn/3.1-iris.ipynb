{
 "cells": [
  {
   "cell_type": "code",
   "execution_count": null,
   "metadata": {
    "collapsed": true
   },
   "outputs": [],
   "source": [
    "from __future__ import absolute_import\n",
    "from __future__ import division\n",
    "from __future__ import print_function\n",
    "\n",
    "import os\n",
    "import urllib\n",
    "\n",
    "import numpy as np\n",
    "import tensorflow as tf\n",
    "\n",
    "\n",
    "IRIS_TRAINING = \"./data/iris/iris_training.csv\"\n",
    "IRIS_TRAINING_URL = \"http://download.tensorflow.org/data/iris_training.csv\"\n",
    "\n",
    "IRIS_TEST = \"./data/iris/iris_test.csv\"\n",
    "IRIS_TEST_URL = \"http://download.tensorflow.org/data/iris_test.csv\"\n"
   ]
  },
  {
   "cell_type": "code",
   "execution_count": 20,
   "metadata": {
    "collapsed": false
   },
   "outputs": [],
   "source": [
    "# Load datasets.\n",
    "training_set = tf.contrib.learn.datasets.base.load_csv_with_header(\n",
    "    filename=IRIS_TRAINING,\n",
    "    target_dtype=np.int,\n",
    "    features_dtype=np.float32)\n",
    "test_set = tf.contrib.learn.datasets.base.load_csv_with_header(\n",
    "    filename=IRIS_TEST,\n",
    "    target_dtype=np.int,\n",
    "    features_dtype=np.float32)"
   ]
  },
  {
   "cell_type": "code",
   "execution_count": 21,
   "metadata": {
    "collapsed": false
   },
   "outputs": [],
   "source": [
    "# Specify that all features have real-value data\n",
    "feature_columns = [tf.contrib.layers.real_valued_column(\"\", dimension=4)]\n"
   ]
  },
  {
   "cell_type": "code",
   "execution_count": 22,
   "metadata": {
    "collapsed": false
   },
   "outputs": [
    {
     "name": "stdout",
     "output_type": "stream",
     "text": [
      "INFO:tensorflow:Using default config.\n",
      "INFO:tensorflow:Using config: {'_cluster_spec': <tensorflow.python.training.server_lib.ClusterSpec object at 0x10d466940>, '_save_checkpoints_steps': None, '_task_type': None, '_environment': 'local', '_task_id': 0, '_num_ps_replicas': 0, '_keep_checkpoint_every_n_hours': 10000, '_evaluation_master': '', '_tf_config': gpu_options {\n",
      "  per_process_gpu_memory_fraction: 1\n",
      "}\n",
      ", '_save_checkpoints_secs': 600, '_is_chief': True, '_keep_checkpoint_max': 5, '_tf_random_seed': None, '_master': '', '_save_summary_steps': 100, '_num_worker_replicas': 0, '_model_dir': None}\n"
     ]
    }
   ],
   "source": [
    "\n",
    "# Build 3 layer DNN with 10, 20, 10 units respectively.\n",
    "classifier = tf.contrib.learn.DNNClassifier(feature_columns=feature_columns,\n",
    "                                            hidden_units=[10, 20, 10],\n",
    "                                            n_classes=3,\n",
    "                                            model_dir=\"/tmp/iris_model\")"
   ]
  },
  {
   "cell_type": "code",
   "execution_count": 23,
   "metadata": {
    "collapsed": true
   },
   "outputs": [],
   "source": [
    "# Define the test inputs\n",
    "def get_train_inputs():\n",
    "  x = tf.constant(training_set.data)\n",
    "  y = tf.constant(training_set.target)\n",
    "\n",
    "  return x, y"
   ]
  },
  {
   "cell_type": "code",
   "execution_count": 24,
   "metadata": {
    "collapsed": false
   },
   "outputs": [
    {
     "name": "stdout",
     "output_type": "stream",
     "text": [
      "WARNING:tensorflow:From //anaconda/lib/python3.5/site-packages/tensorflow/contrib/learn/python/learn/estimators/head.py:615: scalar_summary (from tensorflow.python.ops.logging_ops) is deprecated and will be removed after 2016-11-30.\n",
      "Instructions for updating:\n",
      "Please switch to tf.summary.scalar. Note that tf.summary.scalar uses the node name instead of the tag. This means that TensorFlow will automatically de-duplicate summary names based on the scope they are created in. Also, passing a tensor or list of tags to a scalar summary op is no longer supported.\n",
      "INFO:tensorflow:Create CheckpointSaverHook.\n",
      "INFO:tensorflow:Saving checkpoints for 1 into /tmp/iris_model/model.ckpt.\n",
      "INFO:tensorflow:loss = 2.04691, step = 1\n",
      "INFO:tensorflow:global_step/sec: 972.281\n",
      "INFO:tensorflow:loss = 0.176966, step = 101 (0.104 sec)\n",
      "INFO:tensorflow:global_step/sec: 751.111\n",
      "INFO:tensorflow:loss = 0.087339, step = 201 (0.134 sec)\n",
      "INFO:tensorflow:global_step/sec: 922.91\n",
      "INFO:tensorflow:loss = 0.070936, step = 301 (0.108 sec)\n",
      "INFO:tensorflow:global_step/sec: 849.264\n",
      "INFO:tensorflow:loss = 0.062944, step = 401 (0.118 sec)\n",
      "INFO:tensorflow:global_step/sec: 838.123\n",
      "INFO:tensorflow:loss = 0.0585304, step = 501 (0.119 sec)\n",
      "INFO:tensorflow:global_step/sec: 899.54\n",
      "INFO:tensorflow:loss = 0.055753, step = 601 (0.111 sec)\n",
      "INFO:tensorflow:global_step/sec: 874.821\n",
      "INFO:tensorflow:loss = 0.0534129, step = 701 (0.114 sec)\n",
      "INFO:tensorflow:global_step/sec: 835.184\n",
      "INFO:tensorflow:loss = 0.0517417, step = 801 (0.120 sec)\n",
      "INFO:tensorflow:global_step/sec: 751.649\n",
      "INFO:tensorflow:loss = 0.0503361, step = 901 (0.132 sec)\n",
      "INFO:tensorflow:global_step/sec: 808.754\n",
      "INFO:tensorflow:loss = 0.0491395, step = 1001 (0.125 sec)\n",
      "INFO:tensorflow:global_step/sec: 689.864\n",
      "INFO:tensorflow:loss = 0.0480597, step = 1101 (0.145 sec)\n",
      "INFO:tensorflow:global_step/sec: 796.674\n",
      "INFO:tensorflow:loss = 0.0471981, step = 1201 (0.125 sec)\n",
      "INFO:tensorflow:global_step/sec: 757.529\n",
      "INFO:tensorflow:loss = 0.0464042, step = 1301 (0.132 sec)\n",
      "INFO:tensorflow:global_step/sec: 764.597\n",
      "INFO:tensorflow:loss = 0.0457143, step = 1401 (0.130 sec)\n",
      "INFO:tensorflow:global_step/sec: 775.2\n",
      "INFO:tensorflow:loss = 0.0449279, step = 1501 (0.130 sec)\n",
      "INFO:tensorflow:global_step/sec: 731.786\n",
      "INFO:tensorflow:loss = 0.044288, step = 1601 (0.136 sec)\n",
      "INFO:tensorflow:global_step/sec: 536.723\n",
      "INFO:tensorflow:loss = 0.0436731, step = 1701 (0.205 sec)\n",
      "INFO:tensorflow:global_step/sec: 443.41\n",
      "INFO:tensorflow:loss = 0.0430904, step = 1801 (0.215 sec)\n",
      "INFO:tensorflow:global_step/sec: 316.453\n",
      "INFO:tensorflow:loss = 0.0425248, step = 1901 (0.310 sec)\n",
      "INFO:tensorflow:Saving checkpoints for 2000 into /tmp/iris_model/model.ckpt.\n",
      "INFO:tensorflow:Loss for final step: 0.0418815.\n"
     ]
    },
    {
     "data": {
      "text/plain": [
       "DNNClassifier(params={'head': <tensorflow.contrib.learn.python.learn.estimators.head._MultiClassHead object at 0x11ebaa358>, 'input_layer_min_slice_size': None, 'feature_columns': (_RealValuedColumn(column_name='', dimension=4, default_value=None, dtype=tf.float32, normalizer=None),), 'activation_fn': <function relu at 0x10c26a730>, 'hidden_units': [10, 20, 10], 'gradient_clip_norm': None, 'dropout': None, 'embedding_lr_multipliers': None, 'optimizer': None})"
      ]
     },
     "execution_count": 24,
     "metadata": {},
     "output_type": "execute_result"
    }
   ],
   "source": [
    "# Fit model.\n",
    "classifier.fit(input_fn=get_train_inputs, steps=2000)"
   ]
  },
  {
   "cell_type": "code",
   "execution_count": 25,
   "metadata": {
    "collapsed": false
   },
   "outputs": [
    {
     "name": "stdout",
     "output_type": "stream",
     "text": [
      "WARNING:tensorflow:From //anaconda/lib/python3.5/site-packages/tensorflow/contrib/learn/python/learn/estimators/head.py:615: scalar_summary (from tensorflow.python.ops.logging_ops) is deprecated and will be removed after 2016-11-30.\n",
      "Instructions for updating:\n",
      "Please switch to tf.summary.scalar. Note that tf.summary.scalar uses the node name instead of the tag. This means that TensorFlow will automatically de-duplicate summary names based on the scope they are created in. Also, passing a tensor or list of tags to a scalar summary op is no longer supported.\n",
      "INFO:tensorflow:Starting evaluation at 2017-05-03-20:47:02\n",
      "INFO:tensorflow:Restoring parameters from /tmp/iris_model/model.ckpt-2000\n",
      "INFO:tensorflow:Evaluation [1/1]\n",
      "INFO:tensorflow:Finished evaluation at 2017-05-03-20:47:03\n",
      "INFO:tensorflow:Saving dict for global step 2000: accuracy = 0.966667, global_step = 2000, loss = 0.0602304\n",
      "WARNING:tensorflow:Skipping summary for global_step, must be a float or np.float32.\n",
      "\n",
      "Test Accuracy: 0.966667\n",
      "\n"
     ]
    }
   ],
   "source": [
    "# Define the test inputs\n",
    "def get_test_inputs():\n",
    "  x = tf.constant(test_set.data)\n",
    "  y = tf.constant(test_set.target)\n",
    "\n",
    "  return x, y\n",
    "\n",
    "# Evaluate accuracy.\n",
    "accuracy_score = classifier.evaluate(input_fn=get_test_inputs,\n",
    "                                     steps=1)[\"accuracy\"]\n",
    "\n",
    "print(\"\\nTest Accuracy: {0:f}\\n\".format(accuracy_score))"
   ]
  },
  {
   "cell_type": "code",
   "execution_count": null,
   "metadata": {
    "collapsed": true
   },
   "outputs": [],
   "source": []
  }
 ],
 "metadata": {
  "kernelspec": {
   "display_name": "Python 3",
   "language": "python",
   "name": "python3"
  },
  "language_info": {
   "codemirror_mode": {
    "name": "ipython",
    "version": 3
   },
   "file_extension": ".py",
   "mimetype": "text/x-python",
   "name": "python",
   "nbconvert_exporter": "python",
   "pygments_lexer": "ipython3",
   "version": "3.5.2"
  }
 },
 "nbformat": 4,
 "nbformat_minor": 0
}
