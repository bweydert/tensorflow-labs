{
 "cells": [
  {
   "cell_type": "code",
   "execution_count": null,
   "metadata": {
    "collapsed": true
   },
   "outputs": [],
   "source": [
    "import numpy as np\n",
    "\n",
    "from gensim import matutils\n",
    "from gensim.models.ldamodel import LdaModel\n",
    "from sklearn import linear_model\n",
    "from sklearn.datasets import fetch_20newsgroups\n",
    "from sklearn.feature_extraction.text import CountVectorizer\n"
   ]
  },
  {
   "cell_type": "code",
   "execution_count": null,
   "metadata": {
    "collapsed": true
   },
   "outputs": [],
   "source": [
    "\n",
    "\n",
    "def print_features(clf, vocab, n=10):\n",
    "    \"\"\" Print sorted list of non-zero features/weights. \"\"\"\n",
    "    coef = clf.coef_[0]\n",
    "    print('positive features: %s' % (' '.join(['%s/%.2f' % (vocab[j], coef[j]) for j in np.argsort(coef)[::-1][:n] if coef[j] > 0])))\n",
    "    print('negative features: %s' % (' '.join(['%s/%.2f' % (vocab[j], coef[j]) for j in np.argsort(coef)[:n] if coef[j] < 0])))\n",
    "\n",
    "\n",
    "def fit_classifier(X, y, C=0.1):\n",
    "    \"\"\" Fit L1 Logistic Regression classifier. \"\"\"\n",
    "    # Smaller C means fewer features selected.\n",
    "    clf = linear_model.LogisticRegression(penalty='l1', C=C)\n",
    "    clf.fit(X, y)\n",
    "    return clf\n",
    "\n",
    "\n",
    "def fit_lda(X, vocab, num_topics=5, passes=20):\n",
    "    \"\"\" Fit LDA from a scipy CSR matrix (X). \"\"\"\n",
    "    print('fitting lda...')\n",
    "    return LdaModel(matutils.Sparse2Corpus(X), num_topics=num_topics,\n",
    "                    passes=passes,\n",
    "                    id2word=dict([(i, s) for i, s in enumerate(vocab)]))\n"
   ]
  },
  {
   "cell_type": "code",
   "execution_count": null,
   "metadata": {},
   "outputs": [],
   "source": [
    "\n",
    "# Load data.\n",
    "rand = np.random.mtrand.RandomState(8675309)\n",
    "cats = ['rec.sport.baseball', 'sci.crypt']\n",
    "data = fetch_20newsgroups(subset='train',categories=cats,shuffle=True, random_state=rand)\n",
    "\n",
    "vec = CountVectorizer(min_df=10, stop_words='english')\n",
    "X = vec.fit_transform(data.data)\n",
    "vocab = vec.get_feature_names()\n",
    "\n",
    "# Fit classifier.\n",
    "clf = fit_classifier(X, data.target)\n",
    "print_features(clf, vocab)\n"
   ]
  },
  {
   "cell_type": "code",
   "execution_count": null,
   "metadata": {},
   "outputs": [],
   "source": [
    "\n",
    "# Fit LDA.\n",
    "lda = fit_lda(X, vocab)\n"
   ]
  },
  {
   "cell_type": "code",
   "execution_count": null,
   "metadata": {},
   "outputs": [],
   "source": [
    " print(lda.show_topics())"
   ]
  },
  {
   "cell_type": "code",
   "execution_count": null,
   "metadata": {
    "collapsed": true
   },
   "outputs": [],
   "source": []
  }
 ],
 "metadata": {
  "kernelspec": {
   "display_name": "Python 3",
   "language": "python",
   "name": "python3"
  },
  "language_info": {
   "codemirror_mode": {
    "name": "ipython",
    "version": 3
   },
   "file_extension": ".py",
   "mimetype": "text/x-python",
   "name": "python",
   "nbconvert_exporter": "python",
   "pygments_lexer": "ipython3",
   "version": "3.5.4"
  }
 },
 "nbformat": 4,
 "nbformat_minor": 2
}
