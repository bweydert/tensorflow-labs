{
 "cells": [
  {
   "cell_type": "markdown",
   "metadata": {},
   "source": [
    "# Lab 5 : TF-IDF Intro\n",
    "\n",
    "We are going to calculate TFIDF for small document set.\n",
    "We will use TextBlob library we just learned.\n",
    "\n",
    "Adopted with thanks from http://stevenloria.com/finding-important-words-in-a-document-using-tf-idf/"
   ]
  },
  {
   "cell_type": "markdown",
   "metadata": {},
   "source": [
    "## Basic setup"
   ]
  },
  {
   "cell_type": "code",
   "execution_count": null,
   "metadata": {
    "collapsed": false
   },
   "outputs": [],
   "source": [
    "## basic stuff\n",
    "\n",
    "import math\n",
    "from textblob import TextBlob as tb\n",
    "import nltk\n",
    "\n",
    "# setup nltk\n",
    "from os.path import expanduser\n",
    "nltk.data.path.append( expanduser(\"~\") + \"/data/nltk_data\")\n",
    "\n",
    "def tf(word, blob):\n",
    "    return blob.words.count(word) / len(blob.words)\n",
    "\n",
    "def n_containing(word, bloblist):\n",
    "    return sum(1 for blob in bloblist if word in blob.words)\n",
    "\n",
    "def idf(word, bloblist):\n",
    "    containing = n_containing(word, bloblist)\n",
    "    if containing == 0:\n",
    "        return 0\n",
    "    else:\n",
    "        #return math.log(len(bloblist) / (1 + n_containing(word, bloblist)))\n",
    "        return math.log(len(bloblist) / containing)\n",
    "\n",
    "def tfidf(word, blob, bloblist):\n",
    "    return tf(word, blob) * idf(word, bloblist)\n"
   ]
  },
  {
   "cell_type": "markdown",
   "metadata": {},
   "source": [
    "## Calculating TDIDF"
   ]
  },
  {
   "cell_type": "code",
   "execution_count": null,
   "metadata": {
    "collapsed": false
   },
   "outputs": [],
   "source": [
    "## Exceute the basic-stuff above first\n",
    "\n",
    "# analyzing\n",
    "d1 = \"the brown dog likes the white cow\"\n",
    "d2 = \"the grass is brown\"\n",
    "d3 = \"the spotted cow likes green grass\"\n",
    "\n",
    "\n",
    "doclist = [tb(d1), tb(d2), tb(d3)]\n",
    "\n",
    "for i, tbdoc in enumerate(doclist):\n",
    "    print(\"===document {}\".format(i+1))\n",
    "    words = tbdoc.words\n",
    "    print(\"   # total words in document {}\".format(len(words)))\n",
    "    wordscore = {}\n",
    "    for w in words:\n",
    "        print(\"   \"  + w)\n",
    "        wtf = tf(w, tbdoc)\n",
    "        widf = idf(w, doclist)\n",
    "        wtfidf = tfidf(w, tbdoc, doclist)\n",
    "        wordscore[w] = wtfidf\n",
    "        print(\"        tf: {},  idf: {},  tfidf: {}\".format(wtf, widf, wtfidf))\n",
    "    \n",
    "    # sort the words by tdidf score for this document\n",
    "    wordscore_sorted = sorted(wordscore.items(), key=lambda x: x[1], reverse=True)\n",
    "    print (\"   words sorted by TFIDF : \" )\n",
    "    for word, score in wordscore_sorted:\n",
    "        print (\"      {} ({}), \".format(word, score))\n",
    "        \n",
    "    print(\"\")\n"
   ]
  },
  {
   "cell_type": "markdown",
   "metadata": {
    "collapsed": false
   },
   "source": [
    "## construct term matrix\n",
    "when we search for a term 'cow' which document gets ranked first?"
   ]
  },
  {
   "cell_type": "code",
   "execution_count": null,
   "metadata": {
    "collapsed": false
   },
   "outputs": [],
   "source": [
    "## Exceute the basic-stuff above first\n",
    "\n",
    "d1 = \"the brown dog likes the white cow\"\n",
    "d2 = \"the grass is brown\"\n",
    "d3 = \"the spotted cow likes green grass\"\n",
    "\n",
    "tb_doclist = [tb(d1), tb(d2), tb(d3)]\n",
    "term_matrix = {}\n",
    "\n",
    "for i, tbdoc in enumerate(tb_doclist):\n",
    "    words = tbdoc.words\n",
    "    for w in words:\n",
    "        doc_dict = term_matrix.get(w, {})\n",
    "        wtfidf = tfidf(w, tbdoc, tb_doclist)\n",
    "        doc_dict[\"d{}\".format(i+1)] = wtfidf\n",
    "        term_matrix[w] = doc_dict  # update\n",
    "        \n",
    "\n",
    "# sort the term matrix by highest ranking doc\n",
    "term_matrix_sorted = {}\n",
    "for term, doc_dict in term_matrix.items():\n",
    "    #print(term)\n",
    "    #print(doc_dict)\n",
    "    doc_list_sorted = sorted(doc_dict.items(), key = lambda x:x[1], reverse=True)\n",
    "    #print(doc_list_sorted)\n",
    "    term_matrix_sorted[term] = doc_list_sorted\n",
    "    \n",
    "# finally print out the sorted matrix\n",
    "# printing the terms in alphabet order\n",
    "for term in sorted(term_matrix_sorted.keys()):\n",
    "    print (term)\n",
    "    print (term_matrix_sorted[term])\n",
    "    print()\n",
    "    \n"
   ]
  },
  {
   "cell_type": "code",
   "execution_count": null,
   "metadata": {
    "collapsed": true
   },
   "outputs": [],
   "source": []
  }
 ],
 "metadata": {
  "kernelspec": {
   "display_name": "Python 3",
   "language": "python",
   "name": "python3"
  },
  "language_info": {
   "codemirror_mode": {
    "name": "ipython",
    "version": 3
   },
   "file_extension": ".py",
   "mimetype": "text/x-python",
   "name": "python",
   "nbconvert_exporter": "python",
   "pygments_lexer": "ipython3",
   "version": "3.6.0"
  }
 },
 "nbformat": 4,
 "nbformat_minor": 2
}
