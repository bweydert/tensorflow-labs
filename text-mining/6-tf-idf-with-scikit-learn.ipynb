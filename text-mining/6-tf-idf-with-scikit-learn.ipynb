{
 "cells": [
  {
   "cell_type": "markdown",
   "metadata": {},
   "source": [
    "# TFIDF with SciKit\n"
   ]
  },
  {
   "cell_type": "code",
   "execution_count": null,
   "metadata": {
    "collapsed": false
   },
   "outputs": [],
   "source": [
    "from sklearn.feature_extraction.text import TfidfVectorizer\n",
    "\n",
    "d0 = \"the brown dog likes the white cow\"\n",
    "d1 = \"the grass is brown\"\n",
    "d2 = \"the spotted cow likes green grass\"\n",
    "\n",
    "documents = [d0,d1,d2]\n",
    "\n",
    "# parameters\n",
    "# ngram_range=(min,max), here we are only doing 1 word\n",
    "# stop_words = None , 'english'\n",
    "tf = TfidfVectorizer(analyzer='word', ngram_range=(1,1), min_df = 0, stop_words=None)\n",
    "print(tf)\n",
    "tfidf_matrix =  tf.fit_transform(documents)\n",
    "print()\n",
    "print(\"document-term matrix\")\n",
    "print(tfidf_matrix)\n",
    "feature_names = tf.get_feature_names()\n",
    "print()\n",
    "print(\"feature vectors\")\n",
    "for i, feature in enumerate(feature_names):\n",
    "    print(i,feature)\n",
    "\n"
   ]
  },
  {
   "cell_type": "markdown",
   "metadata": {},
   "source": [
    "## Pretty Print"
   ]
  },
  {
   "cell_type": "code",
   "execution_count": null,
   "metadata": {
    "collapsed": false
   },
   "outputs": [],
   "source": [
    "## Let's pretty print\n",
    "import pandas as pd\n",
    "df = pd.DataFrame()\n",
    "\n",
    "for doc, scores in enumerate(tfidf_matrix.toarray()):\n",
    "    #print(\"doc\" , doc, feature_names)\n",
    "    for i, score in enumerate(scores):\n",
    "        #print(i, feature_names[i], score)\n",
    "        df.set_value(doc, feature_names[i], round(float(score),2))\n",
    "\n",
    "print(\"\\ndocument term matrix\")    \n",
    "print(df)\n",
    "\n",
    "print(\"\\nterm document matrix\")\n",
    "print(df.transpose())"
   ]
  },
  {
   "cell_type": "code",
   "execution_count": null,
   "metadata": {
    "collapsed": true
   },
   "outputs": [],
   "source": []
  }
 ],
 "metadata": {
  "kernelspec": {
   "display_name": "Python 3",
   "language": "python",
   "name": "python3"
  },
  "language_info": {
   "codemirror_mode": {
    "name": "ipython",
    "version": 3
   },
   "file_extension": ".py",
   "mimetype": "text/x-python",
   "name": "python",
   "nbconvert_exporter": "python",
   "pygments_lexer": "ipython3",
   "version": "3.6.0"
  }
 },
 "nbformat": 4,
 "nbformat_minor": 2
}
