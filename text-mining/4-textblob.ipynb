{
 "cells": [
  {
   "cell_type": "markdown",
   "metadata": {},
   "source": [
    "# Lab 3 : TextBlob\n",
    "\n",
    "https://textblob.readthedocs.io/en/dev/\n"
   ]
  },
  {
   "cell_type": "markdown",
   "metadata": {},
   "source": [
    "## Import"
   ]
  },
  {
   "cell_type": "code",
   "execution_count": null,
   "metadata": {
    "collapsed": false
   },
   "outputs": [],
   "source": [
    "from textblob import TextBlob\n",
    "import nltk\n",
    "# setup nltk data\n",
    "from os.path import expanduser\n",
    "nltk.data.path.append( expanduser(\"~\") + \"/data/nltk_data\")\n",
    "\n",
    "text = \"\"\"TextBlob aims to provide access to common text-processing operations \n",
    "through a familiar interface. You can treat TextBlob objects as if they were Python \n",
    "strings that learned how to do Natural Language Processing.\n",
    "\"\"\"\n",
    "\n",
    "tb = TextBlob(text)\n",
    "print(tb)"
   ]
  },
  {
   "cell_type": "markdown",
   "metadata": {},
   "source": [
    "## Tokenization"
   ]
  },
  {
   "cell_type": "code",
   "execution_count": null,
   "metadata": {
    "collapsed": false,
    "scrolled": true
   },
   "outputs": [],
   "source": [
    "print(tb.words)\n",
    "print()\n",
    "\n",
    "print(tb.sentences)\n",
    "print()"
   ]
  },
  {
   "cell_type": "markdown",
   "metadata": {},
   "source": [
    "## Sentiments"
   ]
  },
  {
   "cell_type": "code",
   "execution_count": null,
   "metadata": {
    "collapsed": false
   },
   "outputs": [],
   "source": [
    "tweets = [\"I love bigmacs\",  \n",
    "          \"I hate this traffic!\",  \n",
    "          \"American Idol is awesome!\", \n",
    "          \"this song is lame\", \n",
    "          \"Let's go to beach\"]\n",
    "\n",
    "for tweet in tweets:\n",
    "    tb = TextBlob(tweet)\n",
    "    print(\"{} ==> {}\".format(tweet, tb.sentiment))"
   ]
  },
  {
   "cell_type": "markdown",
   "metadata": {},
   "source": [
    "## Inflection and Lemmatization"
   ]
  },
  {
   "cell_type": "code",
   "execution_count": null,
   "metadata": {
    "collapsed": false
   },
   "outputs": [],
   "source": [
    "from textblob import Word\n",
    "\n",
    "words = [\"cat\", \"dog\", \"man\", \"person\"]\n",
    "for w in words:\n",
    "    print(Word(w).pluralize())"
   ]
  },
  {
   "cell_type": "code",
   "execution_count": null,
   "metadata": {
    "collapsed": false
   },
   "outputs": [],
   "source": [
    "# lematize\n",
    "from textblob import Word\n",
    "print(Word(\"went\").lemmatize('v'))"
   ]
  },
  {
   "cell_type": "markdown",
   "metadata": {},
   "source": [
    "## WordNet integration / Definitions"
   ]
  },
  {
   "cell_type": "code",
   "execution_count": null,
   "metadata": {
    "collapsed": false
   },
   "outputs": [],
   "source": [
    "from textblob import Word\n",
    "print(Word(\"linux\").define())\n",
    "print()\n",
    "\n",
    "for d in Word(\"basketball\").definitions:\n",
    "    print(\"- \" + d)"
   ]
  },
  {
   "cell_type": "markdown",
   "metadata": {},
   "source": [
    "## Word Counts"
   ]
  },
  {
   "cell_type": "code",
   "execution_count": null,
   "metadata": {
    "collapsed": false
   },
   "outputs": [],
   "source": [
    "text = \"\"\"It was a sunny day! We went to the dog park.  Lots of dogs were running around.  \n",
    "My dog likes to run too; so he had a great time.  \n",
    "I bought ice cream from the ice cream truck. Yummy!\n",
    "It was a perfect sunny day!\"\"\"\n",
    "\n",
    "tb = TextBlob(text)\n",
    "print(tb.word_counts)\n",
    "print()\n",
    "\n",
    "print(tb.word_counts['sunny'])"
   ]
  },
  {
   "cell_type": "markdown",
   "metadata": {},
   "source": [
    "## Ngrams"
   ]
  },
  {
   "cell_type": "code",
   "execution_count": null,
   "metadata": {
    "collapsed": false
   },
   "outputs": [],
   "source": [
    "text = \"\"\"It was a sunny day! We went to the dog park.  Lots of dogs were running around.  \n",
    "My dog likes to run too; so he had a great time.  \n",
    "I bought ice cream from the ice cream truck. Yummy!\n",
    "It was a perfect sunny day!\"\"\"\n",
    "\n",
    "tb = TextBlob(text)\n",
    "\n",
    "print(\"n=2 grams\")\n",
    "print(tb.ngrams(n=2))\n"
   ]
  },
  {
   "cell_type": "markdown",
   "metadata": {},
   "source": [
    "## Language Detection & Translation"
   ]
  },
  {
   "cell_type": "code",
   "execution_count": null,
   "metadata": {
    "collapsed": false
   },
   "outputs": [],
   "source": [
    "text_en = \"I just had dinner\"\n",
    "print(text_en)\n",
    "print(\"to Spanish : {} \".format (TextBlob(text_en).translate(to='es')))\n",
    "print(\"to Japanese : {} \".format(TextBlob(text_en).translate(to='ja')))\n",
    "\n",
    "text_jp = u\"私はちょうど夕食\"\n",
    "print(\"Language detection : {} \".format(TextBlob(text_jp).detect_language()))"
   ]
  },
  {
   "cell_type": "code",
   "execution_count": null,
   "metadata": {
    "collapsed": true
   },
   "outputs": [],
   "source": []
  }
 ],
 "metadata": {
  "kernelspec": {
   "display_name": "Python 3",
   "language": "python",
   "name": "python3"
  },
  "language_info": {
   "codemirror_mode": {
    "name": "ipython",
    "version": 3
   },
   "file_extension": ".py",
   "mimetype": "text/x-python",
   "name": "python",
   "nbconvert_exporter": "python",
   "pygments_lexer": "ipython3",
   "version": "3.6.0"
  }
 },
 "nbformat": 4,
 "nbformat_minor": 2
}
