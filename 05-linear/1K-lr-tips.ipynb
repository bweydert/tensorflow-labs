{
 "cells": [
  {
   "cell_type": "markdown",
   "metadata": {},
   "source": [
    "<link rel='stylesheet' href='../assets/css/main.css'/>\n",
    "\n",
    "[<< back to main index](../README.md)\n",
    "\n",
    "# Linear Regression in using Keras \n",
    "\n",
    "### Overview\n",
    "Instructor to demo this on screen.\n",
    " \n",
    "### Builds on\n",
    "None\n",
    "\n",
    "### Run time\n",
    "approx. 20-30 minutes\n",
    "\n",
    "### Notes\n",
    "\n",
    "We can do linear regression with ordinary. "
   ]
  },
  {
   "cell_type": "code",
   "execution_count": 2,
   "metadata": {
    "collapsed": true
   },
   "outputs": [],
   "source": [
    "%matplotlib inline\n",
    "\n",
    "import numpy as np\n",
    "import pandas as pd\n",
    "from scipy import stats\n",
    "import statsmodels.formula.api as sm\n",
    "import matplotlib.pyplot as plt\n"
   ]
  },
  {
   "cell_type": "markdown",
   "metadata": {},
   "source": [
    "## Example : Tips\n",
    "Here is our tip data.  This shows 10 observations of bill with tip amounts."
   ]
  },
  {
   "cell_type": "markdown",
   "metadata": {},
   "source": [
    "| bill | tip | \n",
    "|------|-----| \n",
    "| 50   | 12  | \n",
    "| 30   | 7   | \n",
    "| 60   | 13  | \n",
    "| 40   | 8   | \n",
    "| 65   | 15  | \n",
    "| 20   | 5   | \n",
    "| 10   | 2   | \n",
    "| 15   | 2   | \n",
    "| 25   | 3   | \n",
    "| 35   | 4   | "
   ]
  },
  {
   "cell_type": "markdown",
   "metadata": {},
   "source": [
    "## Step 1: Let's create a Pandas dataframe with the data\n"
   ]
  },
  {
   "cell_type": "code",
   "execution_count": 3,
   "metadata": {
    "attributes": {
     "classes": [
      "R"
     ],
     "id": ""
    }
   },
   "outputs": [
    {
     "data": {
      "text/html": [
       "<div>\n",
       "<style>\n",
       "    .dataframe thead tr:only-child th {\n",
       "        text-align: right;\n",
       "    }\n",
       "\n",
       "    .dataframe thead th {\n",
       "        text-align: left;\n",
       "    }\n",
       "\n",
       "    .dataframe tbody tr th {\n",
       "        vertical-align: top;\n",
       "    }\n",
       "</style>\n",
       "<table border=\"1\" class=\"dataframe\">\n",
       "  <thead>\n",
       "    <tr style=\"text-align: right;\">\n",
       "      <th></th>\n",
       "      <th>bill</th>\n",
       "      <th>tip</th>\n",
       "    </tr>\n",
       "  </thead>\n",
       "  <tbody>\n",
       "    <tr>\n",
       "      <th>0</th>\n",
       "      <td>50.0</td>\n",
       "      <td>12.0</td>\n",
       "    </tr>\n",
       "    <tr>\n",
       "      <th>1</th>\n",
       "      <td>30.0</td>\n",
       "      <td>7.0</td>\n",
       "    </tr>\n",
       "    <tr>\n",
       "      <th>2</th>\n",
       "      <td>60.0</td>\n",
       "      <td>13.0</td>\n",
       "    </tr>\n",
       "    <tr>\n",
       "      <th>3</th>\n",
       "      <td>40.0</td>\n",
       "      <td>8.0</td>\n",
       "    </tr>\n",
       "    <tr>\n",
       "      <th>4</th>\n",
       "      <td>65.0</td>\n",
       "      <td>15.0</td>\n",
       "    </tr>\n",
       "    <tr>\n",
       "      <th>5</th>\n",
       "      <td>20.0</td>\n",
       "      <td>5.0</td>\n",
       "    </tr>\n",
       "    <tr>\n",
       "      <th>6</th>\n",
       "      <td>10.0</td>\n",
       "      <td>2.0</td>\n",
       "    </tr>\n",
       "    <tr>\n",
       "      <th>7</th>\n",
       "      <td>15.0</td>\n",
       "      <td>2.0</td>\n",
       "    </tr>\n",
       "    <tr>\n",
       "      <th>8</th>\n",
       "      <td>25.0</td>\n",
       "      <td>3.0</td>\n",
       "    </tr>\n",
       "    <tr>\n",
       "      <th>9</th>\n",
       "      <td>35.0</td>\n",
       "      <td>4.0</td>\n",
       "    </tr>\n",
       "  </tbody>\n",
       "</table>\n",
       "</div>"
      ],
      "text/plain": [
       "   bill   tip\n",
       "0  50.0  12.0\n",
       "1  30.0   7.0\n",
       "2  60.0  13.0\n",
       "3  40.0   8.0\n",
       "4  65.0  15.0\n",
       "5  20.0   5.0\n",
       "6  10.0   2.0\n",
       "7  15.0   2.0\n",
       "8  25.0   3.0\n",
       "9  35.0   4.0"
      ]
     },
     "execution_count": 3,
     "metadata": {},
     "output_type": "execute_result"
    }
   ],
   "source": [
    "tip_data = pd.DataFrame({'bill' : [50.00, 30.00, 60.00, 40.00, 65.00, 20.00, 10.00, 15.00, 25.00, 35.00],\n",
    "              'tip' : [12.00, 7.00, 13.00, 8.00, 15.00, 5.00, 2.00, 2.00, 3.00, 4.00]\n",
    "             })\n",
    "\n",
    "tip_data\n"
   ]
  },
  {
   "cell_type": "markdown",
   "metadata": {},
   "source": [
    "## Step 2: Let's do a quick plot of the data\n",
    "\n",
    "Let us use matplotlib to do a quick scatter plot of the data.\n",
    "\n",
    "**=>TODO: plot the bill (X-axis), versus the tip (Y-axis)**"
   ]
  },
  {
   "cell_type": "code",
   "execution_count": 4,
   "metadata": {
    "scrolled": true
   },
   "outputs": [
    {
     "data": {
      "image/png": "[encoded data removed]",
      "text/plain": [
       "<Figure size 432x288 with 1 Axes>"
      ]
     },
     "metadata": {},
     "output_type": "display_data"
    }
   ],
   "source": [
    "plt.scatter(tip_data.bill, tip_data.tip)\n",
    "plt.ylabel('tip')\n",
    "plt.xlabel('bill')\n",
    "plt.show()"
   ]
  },
  {
   "cell_type": "code",
   "execution_count": 33,
   "metadata": {},
   "outputs": [
    {
     "name": "stdout",
     "output_type": "stream",
     "text": [
      "bill = [ 50.  30.  60.  40.  65.  20.  10.  15.  25.  35.]\n",
      "tip = [ 12.   7.  13.   8.  15.   5.   2.   2.   3.   4.]\n"
     ]
    }
   ],
   "source": [
    "x = tip_data['bill'].values\n",
    "y = tip_data['tip'].values\n",
    "print('bill = ' + str(x))\n",
    "print('tip = ' + str(y))"
   ]
  },
  {
   "cell_type": "markdown",
   "metadata": {},
   "source": [
    "\n",
    "## Step 4: Run Linear Regression in Keras\n",
    "\n",
    "Let's run our linear regression.  To do this we need to run call the LinearRegression Classs"
   ]
  },
  {
   "cell_type": "code",
   "execution_count": 56,
   "metadata": {
    "attributes": {
     "classes": [
      "R"
     ],
     "id": ""
    }
   },
   "outputs": [
    {
     "name": "stdout",
     "output_type": "stream",
     "text": [
      "Epoch 1/100\n",
      "10/10 [==============================] - 0s 19ms/step - loss: 2.3327\n",
      "Epoch 2/100\n",
      "10/10 [==============================] - 0s 140us/step - loss: 2.3221\n",
      "Epoch 3/100\n",
      "10/10 [==============================] - 0s 247us/step - loss: 2.3170\n",
      "Epoch 4/100\n",
      "10/10 [==============================] - 0s 239us/step - loss: 2.3145\n",
      "Epoch 5/100\n",
      "10/10 [==============================] - 0s 637us/step - loss: 2.3133\n",
      "Epoch 6/100\n",
      "10/10 [==============================] - 0s 268us/step - loss: 2.3127\n",
      "Epoch 7/100\n",
      "10/10 [==============================] - 0s 338us/step - loss: 2.3124\n",
      "Epoch 8/100\n",
      "10/10 [==============================] - 0s 692us/step - loss: 2.3123\n",
      "Epoch 9/100\n",
      "10/10 [==============================] - 0s 291us/step - loss: 2.3122\n",
      "Epoch 10/100\n",
      "10/10 [==============================] - 0s 498us/step - loss: 2.3121\n",
      "Epoch 11/100\n",
      "10/10 [==============================] - 0s 214us/step - loss: 2.3121\n",
      "Epoch 12/100\n",
      "10/10 [==============================] - 0s 190us/step - loss: 2.3120\n",
      "Epoch 13/100\n",
      "10/10 [==============================] - 0s 711us/step - loss: 2.3120\n",
      "Epoch 14/100\n",
      "10/10 [==============================] - 0s 232us/step - loss: 2.3120\n",
      "Epoch 15/100\n",
      "10/10 [==============================] - 0s 391us/step - loss: 2.3119\n",
      "Epoch 16/100\n",
      "10/10 [==============================] - 0s 361us/step - loss: 2.3119\n",
      "Epoch 17/100\n",
      "10/10 [==============================] - 0s 350us/step - loss: 2.3119\n",
      "Epoch 18/100\n",
      "10/10 [==============================] - 0s 443us/step - loss: 2.3118\n",
      "Epoch 19/100\n",
      "10/10 [==============================] - 0s 325us/step - loss: 2.3118\n",
      "Epoch 20/100\n",
      "10/10 [==============================] - 0s 678us/step - loss: 2.3118\n",
      "Epoch 21/100\n",
      "10/10 [==============================] - 0s 218us/step - loss: 2.3117\n",
      "Epoch 22/100\n",
      "10/10 [==============================] - 0s 801us/step - loss: 2.3117\n",
      "Epoch 23/100\n",
      "10/10 [==============================] - 0s 226us/step - loss: 2.3117\n",
      "Epoch 24/100\n",
      "10/10 [==============================] - 0s 460us/step - loss: 2.3116\n",
      "Epoch 25/100\n",
      "10/10 [==============================] - 0s 493us/step - loss: 2.3116\n",
      "Epoch 26/100\n",
      "10/10 [==============================] - 0s 227us/step - loss: 2.3116\n",
      "Epoch 27/100\n",
      "10/10 [==============================] - 0s 376us/step - loss: 2.3115\n",
      "Epoch 28/100\n",
      "10/10 [==============================] - 0s 233us/step - loss: 2.3115\n",
      "Epoch 29/100\n",
      "10/10 [==============================] - 0s 385us/step - loss: 2.3115\n",
      "Epoch 30/100\n",
      "10/10 [==============================] - 0s 235us/step - loss: 2.3114\n",
      "Epoch 31/100\n",
      "10/10 [==============================] - 0s 500us/step - loss: 2.3114\n",
      "Epoch 32/100\n",
      "10/10 [==============================] - 0s 443us/step - loss: 2.3114\n",
      "Epoch 33/100\n",
      "10/10 [==============================] - 0s 260us/step - loss: 2.3113\n",
      "Epoch 34/100\n",
      "10/10 [==============================] - 0s 419us/step - loss: 2.3113\n",
      "Epoch 35/100\n",
      "10/10 [==============================] - 0s 571us/step - loss: 2.3113\n",
      "Epoch 36/100\n",
      "10/10 [==============================] - 0s 369us/step - loss: 2.3112\n",
      "Epoch 37/100\n",
      "10/10 [==============================] - 0s 300us/step - loss: 2.3112\n",
      "Epoch 38/100\n",
      "10/10 [==============================] - 0s 402us/step - loss: 2.3112\n",
      "Epoch 39/100\n",
      "10/10 [==============================] - 0s 321us/step - loss: 2.3111\n",
      "Epoch 40/100\n",
      "10/10 [==============================] - 0s 179us/step - loss: 2.3111\n",
      "Epoch 41/100\n",
      "10/10 [==============================] - 0s 198us/step - loss: 2.3111\n",
      "Epoch 42/100\n",
      "10/10 [==============================] - 0s 208us/step - loss: 2.3110\n",
      "Epoch 43/100\n",
      "10/10 [==============================] - 0s 648us/step - loss: 2.3110\n",
      "Epoch 44/100\n",
      "10/10 [==============================] - 0s 250us/step - loss: 2.3110\n",
      "Epoch 45/100\n",
      "10/10 [==============================] - 0s 282us/step - loss: 2.3109\n",
      "Epoch 46/100\n",
      "10/10 [==============================] - 0s 330us/step - loss: 2.3109\n",
      "Epoch 47/100\n",
      "10/10 [==============================] - 0s 257us/step - loss: 2.3109\n",
      "Epoch 48/100\n",
      "10/10 [==============================] - 0s 683us/step - loss: 2.3108\n",
      "Epoch 49/100\n",
      "10/10 [==============================] - 0s 165us/step - loss: 2.3108\n",
      "Epoch 50/100\n",
      "10/10 [==============================] - 0s 446us/step - loss: 2.3108\n",
      "Epoch 51/100\n",
      "10/10 [==============================] - 0s 441us/step - loss: 2.3107\n",
      "Epoch 52/100\n",
      "10/10 [==============================] - 0s 316us/step - loss: 2.3107\n",
      "Epoch 53/100\n",
      "10/10 [==============================] - 0s 168us/step - loss: 2.3107\n",
      "Epoch 54/100\n",
      "10/10 [==============================] - 0s 193us/step - loss: 2.3107\n",
      "Epoch 55/100\n",
      "10/10 [==============================] - 0s 409us/step - loss: 2.3106\n",
      "Epoch 56/100\n",
      "10/10 [==============================] - 0s 340us/step - loss: 2.3106\n",
      "Epoch 57/100\n",
      "10/10 [==============================] - 0s 297us/step - loss: 2.3106\n",
      "Epoch 58/100\n",
      "10/10 [==============================] - 0s 495us/step - loss: 2.3105\n",
      "Epoch 59/100\n",
      "10/10 [==============================] - 0s 682us/step - loss: 2.3105\n",
      "Epoch 60/100\n",
      "10/10 [==============================] - 0s 232us/step - loss: 2.3105\n",
      "Epoch 61/100\n",
      "10/10 [==============================] - 0s 245us/step - loss: 2.3104\n",
      "Epoch 62/100\n",
      "10/10 [==============================] - 0s 246us/step - loss: 2.3104\n",
      "Epoch 63/100\n",
      "10/10 [==============================] - 0s 230us/step - loss: 2.3104\n",
      "Epoch 64/100\n",
      "10/10 [==============================] - 0s 598us/step - loss: 2.3103\n",
      "Epoch 65/100\n",
      "10/10 [==============================] - 0s 403us/step - loss: 2.3103\n",
      "Epoch 66/100\n",
      "10/10 [==============================] - 0s 687us/step - loss: 2.3103\n",
      "Epoch 67/100\n",
      "10/10 [==============================] - 0s 281us/step - loss: 2.3102\n",
      "Epoch 68/100\n",
      "10/10 [==============================] - 0s 376us/step - loss: 2.3102\n",
      "Epoch 69/100\n",
      "10/10 [==============================] - 0s 219us/step - loss: 2.3102\n",
      "Epoch 70/100\n",
      "10/10 [==============================] - 0s 394us/step - loss: 2.3101\n",
      "Epoch 71/100\n",
      "10/10 [==============================] - 0s 573us/step - loss: 2.3101\n",
      "Epoch 72/100\n",
      "10/10 [==============================] - 0s 832us/step - loss: 2.3101\n",
      "Epoch 73/100\n",
      "10/10 [==============================] - 0s 265us/step - loss: 2.3100\n",
      "Epoch 74/100\n",
      "10/10 [==============================] - 0s 337us/step - loss: 2.3100\n",
      "Epoch 75/100\n",
      "10/10 [==============================] - 0s 374us/step - loss: 2.3100\n",
      "Epoch 76/100\n",
      "10/10 [==============================] - 0s 1ms/step - loss: 2.3099\n",
      "Epoch 77/100\n",
      "10/10 [==============================] - 0s 486us/step - loss: 2.3099\n",
      "Epoch 78/100\n",
      "10/10 [==============================] - 0s 313us/step - loss: 2.3099\n",
      "Epoch 79/100\n",
      "10/10 [==============================] - 0s 508us/step - loss: 2.3098\n",
      "Epoch 80/100\n",
      "10/10 [==============================] - 0s 571us/step - loss: 2.3098\n",
      "Epoch 81/100\n",
      "10/10 [==============================] - 0s 204us/step - loss: 2.3098\n",
      "Epoch 82/100\n",
      "10/10 [==============================] - 0s 471us/step - loss: 2.3097\n",
      "Epoch 83/100\n",
      "10/10 [==============================] - 0s 401us/step - loss: 2.3097\n",
      "Epoch 84/100\n",
      "10/10 [==============================] - 0s 346us/step - loss: 2.3097\n",
      "Epoch 85/100\n",
      "10/10 [==============================] - 0s 275us/step - loss: 2.3096\n",
      "Epoch 86/100\n",
      "10/10 [==============================] - 0s 217us/step - loss: 2.3096\n",
      "Epoch 87/100\n",
      "10/10 [==============================] - 0s 205us/step - loss: 2.3096\n",
      "Epoch 88/100\n",
      "10/10 [==============================] - 0s 513us/step - loss: 2.3095\n",
      "Epoch 89/100\n",
      "10/10 [==============================] - 0s 239us/step - loss: 2.3095\n",
      "Epoch 90/100\n",
      "10/10 [==============================] - 0s 394us/step - loss: 2.3095\n",
      "Epoch 91/100\n",
      "10/10 [==============================] - 0s 293us/step - loss: 2.3094\n",
      "Epoch 92/100\n",
      "10/10 [==============================] - 0s 212us/step - loss: 2.3094\n",
      "Epoch 93/100\n",
      "10/10 [==============================] - 0s 212us/step - loss: 2.3094\n",
      "Epoch 94/100\n",
      "10/10 [==============================] - 0s 375us/step - loss: 2.3093\n",
      "Epoch 95/100\n",
      "10/10 [==============================] - 0s 371us/step - loss: 2.3093\n",
      "Epoch 96/100\n",
      "10/10 [==============================] - 0s 179us/step - loss: 2.3093\n",
      "Epoch 97/100\n",
      "10/10 [==============================] - 0s 326us/step - loss: 2.3092\n",
      "Epoch 98/100\n",
      "10/10 [==============================] - 0s 864us/step - loss: 2.3092\n",
      "Epoch 99/100\n",
      "10/10 [==============================] - 0s 444us/step - loss: 2.3092\n"
     ]
    },
    {
     "name": "stdout",
     "output_type": "stream",
     "text": [
      "Epoch 100/100\n",
      "10/10 [==============================] - 0s 262us/step - loss: 2.3092\n"
     ]
    },
    {
     "data": {
      "text/plain": [
       "<keras.callbacks.History at 0x1a2921b668>"
      ]
     },
     "execution_count": 56,
     "metadata": {},
     "output_type": "execute_result"
    }
   ],
   "source": [
    "import keras\n",
    "from keras.layers import Input, Dense\n",
    "from keras.models import Model, Sequential\n",
    "\n",
    "inputs = Input(shape=(1,))\n",
    "preds = Dense(1,activation='linear')(inputs)\n",
    "\n",
    "model = Model(inputs=inputs,outputs=preds)\n",
    "sgd=keras.optimizers.SGD( lr=0.0001)\n",
    "model.compile(optimizer=sgd ,loss='mse')\n",
    "model.fit(x,y, batch_size=10, verbose=1, epochs=100)"
   ]
  },
  {
   "cell_type": "code",
   "execution_count": 57,
   "metadata": {},
   "outputs": [
    {
     "data": {
      "text/plain": [
       "array([[ 10.55250549],\n",
       "       [  6.32925081],\n",
       "       [ 12.66413212],\n",
       "       [  8.44087791],\n",
       "       [ 13.71994591],\n",
       "       [  4.21762371],\n",
       "       [  2.10599661],\n",
       "       [  3.16181016],\n",
       "       [  5.2734375 ],\n",
       "       [  7.3850646 ]], dtype=float32)"
      ]
     },
     "execution_count": 57,
     "metadata": {},
     "output_type": "execute_result"
    }
   ],
   "source": [
    "model.predict(tip_data[['bill']].values)"
   ]
  },
  {
   "cell_type": "code",
   "execution_count": 60,
   "metadata": {},
   "outputs": [
    {
     "name": "stdout",
     "output_type": "stream",
     "text": [
      "0.211163 -0.0056306\n"
     ]
    }
   ],
   "source": [
    "weights, bias = model.layers[1].get_weights()\n",
    "a = slope = weights[0][0]\n",
    "b = intercept = bias[0]\n",
    "print(a,b)"
   ]
  },
  {
   "cell_type": "markdown",
   "metadata": {},
   "source": [
    "## Step 7: Plot the fit line (abline)\n",
    "\n",
    "**=>TODO: Do a scatterplot of bill versus tip **"
   ]
  },
  {
   "cell_type": "code",
   "execution_count": null,
   "metadata": {
    "scrolled": true
   },
   "outputs": [],
   "source": []
  },
  {
   "cell_type": "code",
   "execution_count": null,
   "metadata": {
    "collapsed": true
   },
   "outputs": [],
   "source": [
    "# Create a list of values in the best fit line\n",
    "# TODO: Fill in gradient and intercept in formula\n",
    "abline_values = [??? * i + ??? for i in tip_data.bill]\n",
    "\n",
    "# Plot the best fit line over the actual values\n",
    "plt.scatter(tip_data.bill, tip_data.tip)\n",
    "plt.plot(tip_data.bill, abline_values, 'b')\n",
    "plt.ylabel('tip')\n",
    "plt.xlabel('bill')\n",
    "plt.title(\"Fit Line\")\n",
    "plt.show()"
   ]
  },
  {
   "cell_type": "code",
   "execution_count": null,
   "metadata": {
    "collapsed": true
   },
   "outputs": [],
   "source": [
    "# Make a prediction using the slope and the intercept\n",
    "y_pred = tip_data.bill.values.reshape(10,1)\n",
    "y_test = tip_data.tip.values.reshape(10,1)\n",
    "\n",
    "\n"
   ]
  },
  {
   "cell_type": "markdown",
   "metadata": {},
   "source": [
    "## Step 8: Print out the Outputs\n",
    "\n",
    "Here is a sample output:"
   ]
  },
  {
   "cell_type": "markdown",
   "metadata": {},
   "source": [
    "## Step 9: Plot the residuals\n",
    "\n",
    "Residuals are the error, or difference between the model predicted and model actual.  We'd like these to be as small as possible, with residuals roughly balanced.   We don't want a model that consistently predicts values too high or too low.\n",
    "\n",
    "**=>TODO: do a plot of the bill (x-value) versus residuals (y-value) **"
   ]
  },
  {
   "cell_type": "code",
   "execution_count": null,
   "metadata": {
    "collapsed": true
   },
   "outputs": [],
   "source": [
    "resid = (??? * tip_data.bill + ???) - tip_data.tip"
   ]
  },
  {
   "cell_type": "code",
   "execution_count": null,
   "metadata": {
    "collapsed": true
   },
   "outputs": [],
   "source": [
    "plt.scatter(tip_data.bill, resid)\n",
    "plt.axhline(y=0, color='r', linestyle='-')  # horizon\n",
    "plt.ylabel('Residuals')\n",
    "plt.xlabel('bill')\n",
    "plt.title(\"Residuals\")\n",
    "plt.show()\n",
    "\n",
    "\n"
   ]
  },
  {
   "cell_type": "markdown",
   "metadata": {},
   "source": [
    "## Step 10 : Identify Coefficients\n",
    "\n",
    "### Intercept and Slope\n",
    "We can see them from output"
   ]
  },
  {
   "cell_type": "markdown",
   "metadata": {
    "attributes": {
     "classes": [
      "console"
     ],
     "id": ""
    },
    "collapsed": true
   },
   "source": [
    "Coefficients:\n",
    "            Estimate \n",
    "(Intercept) -0.8217112049846651\n",
    "bill        0.226334605857"
   ]
  },
  {
   "cell_type": "markdown",
   "metadata": {},
   "source": [
    "- **Slope** (of line) : ** 0.226334605857**\n",
    "- **Intercept** (where line meets Y-axis) : **-0.8217112049846651**  (below zero line)\n",
    "\n",
    "We can also get these programatically.  \n",
    "If `tip = a * amount + b`"
   ]
  },
  {
   "cell_type": "code",
   "execution_count": null,
   "metadata": {
    "attributes": {
     "classes": [
      "R"
     ],
     "id": ""
    },
    "collapsed": true
   },
   "outputs": [],
   "source": [
    "\n",
    "# Print the coefficients and intercept for linear regression\n",
    "print(\"Coefficients: %s\" % str(slope))\n",
    "print(\"Intercept: %s\" % str(intercept))\n",
    "\n",
    "a = slope\n",
    "b = intercept\n"
   ]
  },
  {
   "cell_type": "markdown",
   "metadata": {},
   "source": [
    "**==>  Question : Does bill amount influence tip amount? (are they strongly linked?) **\n",
    "\n",
    "\n"
   ]
  },
  {
   "cell_type": "markdown",
   "metadata": {},
   "source": [
    "### TODO: Calcluate Tip for 100 bill."
   ]
  },
  {
   "cell_type": "code",
   "execution_count": null,
   "metadata": {
    "attributes": {
     "classes": [
      "R"
     ],
     "id": ""
    },
    "collapsed": true
   },
   "outputs": [],
   "source": [
    "tip_for_100 = ??? * 100 + ??? \n",
    "print(tip_for_100)\n"
   ]
  },
  {
   "cell_type": "markdown",
   "metadata": {},
   "source": [
    "## Step 12: Add a estimated_tip column to pandas dataframe\n",
    "\n",
    "**=>TODO: create a new pandas column called est_tip **"
   ]
  },
  {
   "cell_type": "code",
   "execution_count": null,
   "metadata": {
    "attributes": {
     "classes": [
      "R"
     ],
     "id": ""
    },
    "collapsed": true
   },
   "outputs": [],
   "source": [
    "tip_data['est_tip'] =  ???\n",
    "tip_data"
   ]
  },
  {
   "cell_type": "markdown",
   "metadata": {},
   "source": [
    "## Step 13: Perform a prediction\n",
    "\n",
    "\n",
    "Let's try to run a prediction on some data: $45.00, $55.00, and $65.00 \n",
    "\n",
    "\n",
    "**=>TODO: use model to transform dataframe with feature vectors to make predictions **"
   ]
  },
  {
   "cell_type": "code",
   "execution_count": null,
   "metadata": {
    "collapsed": true,
    "scrolled": true
   },
   "outputs": [],
   "source": [
    "test_data_pd = pd.DataFrame({'bill' : [45., 55., 65.,]\n",
    "             })\n",
    "\n",
    "test_data_pd['predicted_tip'] = result.predict(test_data_pd)\n",
    "\n",
    "\n",
    "\n",
    "test_data_pd"
   ]
  },
  {
   "cell_type": "code",
   "execution_count": null,
   "metadata": {
    "collapsed": true
   },
   "outputs": [],
   "source": []
  }
 ],
 "metadata": {
  "kernelspec": {
   "display_name": "Python 3",
   "language": "python",
   "name": "python3"
  },
  "language_info": {
   "codemirror_mode": {
    "name": "ipython",
    "version": 3
   },
   "file_extension": ".py",
   "mimetype": "text/x-python",
   "name": "python",
   "nbconvert_exporter": "python",
   "pygments_lexer": "ipython3",
   "version": "3.5.4"
  }
 },
 "nbformat": 4,
 "nbformat_minor": 2
}
