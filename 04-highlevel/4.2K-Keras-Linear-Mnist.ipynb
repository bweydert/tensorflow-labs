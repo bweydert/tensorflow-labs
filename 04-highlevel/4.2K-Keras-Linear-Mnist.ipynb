{
 "cells": [
  {
   "cell_type": "markdown",
   "metadata": {},
   "source": [
    "# Lab 4.2K: Training Linear Model with Keras API for MNIST Dataset\n",
    "\n",
    "In this lab we we will use the Keras API for the MNIST Dataset on a Linear Model"
   ]
  },
  {
   "cell_type": "code",
   "execution_count": 41,
   "metadata": {},
   "outputs": [],
   "source": [
    "import tensorflow as tf\n",
    "from IPython.display import Image\n",
    "from tensorflow.python.keras.callbacks import TensorBoard\n",
    "%matplotlib inline\n"
   ]
  },
  {
   "cell_type": "markdown",
   "metadata": {},
   "source": [
    "### Step 1: Load MNIST Data"
   ]
  },
  {
   "cell_type": "code",
   "execution_count": 42,
   "metadata": {},
   "outputs": [],
   "source": [
    "mnist = tf.keras.datasets.mnist\n",
    "\n",
    "(x_train, y_train),(x_test, y_test) = mnist.load_data()\n",
    "x_train, x_test = x_train / 255.0, x_test / 255.0  # Standardize to unit norm 0.0 to 1.0"
   ]
  },
  {
   "cell_type": "markdown",
   "metadata": {},
   "source": [
    "### Step 2: Define the Model\n",
    "\n",
    "The model has an input layer, zero hidden layers, and an output layer.\n",
    "\n",
    "Layers:\n",
    "\n",
    " * Input Layer: Implemented with `Flatten`. Takes the 28 x 28 image and creates a 1 x 784 vector as input.\n",
    " * Output Layer: Implemented with `Dense`. Has 10 neurons as output, because of 10 classes. Uses softmax activation."
   ]
  },
  {
   "cell_type": "code",
   "execution_count": 43,
   "metadata": {},
   "outputs": [],
   "source": [
    "\n",
    "model = tf.keras.models.Sequential([\n",
    "  tf.keras.layers.Flatten(input_shape=(28, 28)), # 784 inputs\n",
    "  tf.keras.layers.Dense(10, activation=tf.nn.softmax) # 10 outputs\n",
    "])\n"
   ]
  },
  {
   "cell_type": "code",
   "execution_count": 44,
   "metadata": {},
   "outputs": [],
   "source": [
    "tensorboard = TensorBoard(log_dir='/tmp/tensorflow_logs/example')"
   ]
  },
  {
   "cell_type": "markdown",
   "metadata": {},
   "source": [
    "### Step 3: Compile the Model\n",
    "    \n",
    "In `tf.keras` the model should be compiled.  We need to define the following:\n",
    "\n",
    "* optimzer used (in this case Adam Optimzation) \n",
    "* the loss function. categorical cross entropy in this case\n",
    "* Metric(s), Accuracy here. This will be used for cross validation.\n",
    "\n",
    "Note that training will NOT occur until we call `model.fit()`\n",
    "    "
   ]
  },
  {
   "cell_type": "code",
   "execution_count": 45,
   "metadata": {},
   "outputs": [],
   "source": [
    "model.compile(optimizer='adam',\n",
    "              loss='sparse_categorical_crossentropy',\n",
    "              metrics=['accuracy'])\n",
    "\n"
   ]
  },
  {
   "cell_type": "markdown",
   "metadata": {},
   "source": [
    "### Step 4: Train (Fit) the Model\n",
    "\n",
    "Here we will fit the model with our X and Y values. \n",
    "\n",
    "**TODO** Enter 5 for the number of Epochs."
   ]
  },
  {
   "cell_type": "code",
   "execution_count": 46,
   "metadata": {},
   "outputs": [
    {
     "name": "stdout",
     "output_type": "stream",
     "text": [
      "Epoch 1/5\n",
      "60000/60000 [==============================] - 6s 95us/sample - loss: 0.4680 - acc: 0.8774\n",
      "Epoch 2/5\n",
      "60000/60000 [==============================] - 6s 92us/sample - loss: 0.3041 - acc: 0.9153\n",
      "Epoch 3/5\n",
      "60000/60000 [==============================] - 5s 90us/sample - loss: 0.2834 - acc: 0.9204\n",
      "Epoch 4/5\n",
      "60000/60000 [==============================] - 5s 87us/sample - loss: 0.2732 - acc: 0.9234\n",
      "Epoch 5/5\n",
      "60000/60000 [==============================] - 5s 84us/sample - loss: 0.2666 - acc: 0.9253\n"
     ]
    },
    {
     "data": {
      "text/plain": [
       "<tensorflow.python.keras.callbacks.History at 0x13b9a3196a0>"
      ]
     },
     "execution_count": 46,
     "metadata": {},
     "output_type": "execute_result"
    }
   ],
   "source": [
    "model.fit(x_train, y_train, epochs=5, callbacks=[tensorboard])\n"
   ]
  },
  {
   "cell_type": "markdown",
   "metadata": {},
   "source": [
    "###  Step 5: Evaluate the Model\n",
    "\n",
    "Here we will evaluate the model. Accuracy is the Metric Used.\n",
    "\n",
    "Note that training validation accuracy is considerably better than the test accuracy. This may indicate some overfitting has occurred."
   ]
  },
  {
   "cell_type": "code",
   "execution_count": 47,
   "metadata": {},
   "outputs": [
    {
     "name": "stdout",
     "output_type": "stream",
     "text": [
      "10000/10000 [==============================] - 1s 70us/sample - loss: 0.2700 - acc: 0.9261\n"
     ]
    },
    {
     "data": {
      "text/plain": [
       "[0.2699533960014582, 0.9261]"
      ]
     },
     "execution_count": 47,
     "metadata": {},
     "output_type": "execute_result"
    }
   ],
   "source": [
    "model.evaluate(x_test, y_test)"
   ]
  },
  {
   "cell_type": "code",
   "execution_count": null,
   "metadata": {},
   "outputs": [],
   "source": []
  }
 ],
 "metadata": {
  "kernelspec": {
   "display_name": "Python 3",
   "language": "python",
   "name": "python3"
  },
  "language_info": {
   "codemirror_mode": {
    "name": "ipython",
    "version": 3
   },
   "file_extension": ".py",
   "mimetype": "text/x-python",
   "name": "python",
   "nbconvert_exporter": "python",
   "pygments_lexer": "ipython3",
   "version": "3.7.3"
  }
 },
 "nbformat": 4,
 "nbformat_minor": 2
}
